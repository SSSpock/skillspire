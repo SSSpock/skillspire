{
  "nbformat": 4,
  "nbformat_minor": 0,
  "metadata": {
    "colab": {
      "provenance": [],
      "authorship_tag": "ABX9TyNvh4nddriWfZAsFBhALl9u",
      "include_colab_link": true
    },
    "kernelspec": {
      "name": "python3",
      "display_name": "Python 3"
    },
    "language_info": {
      "name": "python"
    }
  },
  "cells": [
    {
      "cell_type": "markdown",
      "metadata": {
        "id": "view-in-github",
        "colab_type": "text"
      },
      "source": [
        "<a href=\"https://colab.research.google.com/github/SSSpock/skillspire/blob/main/intro_to_ml.ipynb\" target=\"_parent\"><img src=\"https://colab.research.google.com/assets/colab-badge.svg\" alt=\"Open In Colab\"/></a>"
      ]
    },
    {
      "cell_type": "markdown",
      "source": [
        "# Topic Introduction: Introduction to Machine Learning"
      ],
      "metadata": {
        "id": "soH1pvqGRTJF"
      }
    },
    {
      "cell_type": "markdown",
      "source": [
        "## Definition of Machine Learning\n",
        "Machine learning is a subfield of artificial intelligence that focuses on developing algorithms that enable computers to learn from and make predictions or decisions based on data. It involves feeding the algorithms large amounts of data to identify patterns and make data-driven decisions."
      ],
      "metadata": {
        "id": "pFv-wKirRWmv"
      }
    },
    {
      "cell_type": "markdown",
      "source": [
        "## Types of Machine Learning"
      ],
      "metadata": {
        "id": "xK9Ki1etRddC"
      }
    },
    {
      "cell_type": "markdown",
      "source": [
        "## Supervised Learning\n",
        "In supervised learning, algorithms learn from labeled training data, where the correct output is provided. The goal is to learn a mapping function from input features to output labels. Common supervised learning tasks include classification (categorical output) and regression (continuous output)."
      ],
      "metadata": {
        "id": "PO6ofBFZRgFD"
      }
    },
    {
      "cell_type": "markdown",
      "source": [
        "i. Linear Regression\n",
        "- Use: Regression tasks, predicting a continuous target variable\n",
        "- Benefits: Simple, easy to interpret, fast to train\n",
        "- Shortfalls: Assumes linear relationship between features and target, sensitive to outliers\n",
        "\n",
        "ii. Logistic Regression\n",
        "- Use: Classification tasks, predicting a binary target variable\n",
        "- Benefits: Simple, fast to train, provides probabilities\n",
        "- Shortfalls: Assumes linear decision boundary, sensitive to outliers\n",
        "\n",
        "iii. Random Forest\n",
        "- Use: Classification and regression tasks\n",
        "- Benefits: Handles non-linear relationships, less prone to overfitting, can handle missing data\n",
        "- Shortfalls: Can be slow to train and predict, complex model, difficult to interpret\n",
        "\n",
        "iv. Support Vector Machines\n",
        "- Use: Classification and regression tasks\n",
        "- Benefits: Handles non-linear relationships, robust to noise, can handle high-dimensional data\n",
        "- Shortfalls: Slow to train on large datasets, sensitive to hyperparameter choices, difficult to interpret"
      ],
      "metadata": {
        "id": "x4SWHnHhTZb_"
      }
    },
    {
      "cell_type": "markdown",
      "source": [
        "## Unsupervised Learning\n",
        "Unsupervised learning algorithms are used when the training data is not labeled, meaning there is no explicit output for the algorithm to learn from. The goal is to identify underlying structures, patterns, or relationships in the data. Clustering (grouping similar data points) and dimensionality reduction (reducing the number of features) are common unsupervised learning tasks."
      ],
      "metadata": {
        "id": "mkFRo1sLRgKc"
      }
    },
    {
      "cell_type": "markdown",
      "source": [
        "b. Unsupervised Learning Algorithms\n",
        "i. K-means Clustering\n",
        "- Use: Clustering tasks, grouping similar data points\n",
        "- Benefits: Simple, fast to train, easy to interpret\n",
        "- Shortfalls: Assumes spherical clusters, sensitive to initialization, requires specifying the number of clusters\n",
        "\n",
        "ii. Principal Component Analysis (PCA)\n",
        "- Use: Dimensionality reduction tasks, reducing the number of features\n",
        "- Benefits: Reduces noise, improves performance of other algorithms, helps with visualization\n",
        "- Shortfalls: Assumes linear relationships between features, results can be difficult to interpret"
      ],
      "metadata": {
        "id": "NEXuj5FnTeYV"
      }
    },
    {
      "cell_type": "markdown",
      "source": [
        "## Reinforcement Learning\n",
        "Reinforcement learning algorithms learn through trial and error by interacting with an environment. The algorithm takes actions and receives feedback in the form of rewards or penalties. The goal is to learn an optimal policy that maximizes the cumulative reward over time."
      ],
      "metadata": {
        "id": "IHxuWoahRgOu"
      }
    },
    {
      "cell_type": "markdown",
      "source": [
        "c. Reinforcement Learning Algorithms\n",
        "i. Q-Learning\n",
        "- Use: Learning an optimal policy in a discrete state and action space\n",
        "- Benefits: Simple, can handle non-linear relationships, learns from past experience\n",
        "- Shortfalls: Requires a discrete state and action space, can be slow to converge\n",
        "\n",
        "ii. Deep Q-Network (DQN)\n",
        "- Use: Learning an optimal policy in a continuous state and/or action space\n",
        "- Benefits: Can handle non-linear relationships, generalizes to continuous state and action spaces\n",
        "- Shortfalls: Requires a deep neural network, can be slow to train, can be unstabl"
      ],
      "metadata": {
        "id": "c-Y5Y2rmTi4Y"
      }
    },
    {
      "cell_type": "markdown",
      "source": [
        "## Semi-Supervised Learning\n",
        "Semi-supervised learning is a combination of supervised and unsupervised learning techniques. It involves using a small amount of labeled data and a large amount of unlabeled data. The algorithm leverages the structure in the unlabeled data to improve its performance on the labeled data. It is particularly useful when obtaining labeled data is expensive or time-consuming."
      ],
      "metadata": {
        "id": "LL1TlGK-RgRe"
      }
    },
    {
      "cell_type": "markdown",
      "source": [
        "## Applications of Machine Learning\n",
        "i. Natural Language Processing (NLP)\n",
        "\n",
        "ii. Image and Video Recognition\n",
        "\n",
        "iii. Speech Recognition\n",
        "\n",
        "iv. Medical Diagnosis\n",
        "\n",
        "v. Financial Analysis\n",
        "\n",
        "vi. Self-Driving Cars\n",
        "\n",
        "vii. Recommender Systems\n",
        "\n",
        "viii. Anomaly Detection"
      ],
      "metadata": {
        "id": "LQr22DkxR8pI"
      }
    },
    {
      "cell_type": "markdown",
      "source": [
        "# Topic Deep Dive: Key Concepts and Theory"
      ],
      "metadata": {
        "id": "bt83G5-qT8bM"
      }
    },
    {
      "cell_type": "markdown",
      "source": [
        "## Features and Labels\n",
        "\n",
        "Features: These are the input variables that describe the characteristics of the data. They are also known as predictors or independent variables. Features are used by machine learning algorithms to make predictions or decisions.\n",
        "\n",
        "Labels: These are the output variables that we want to predict or classify. They are also known as targets or dependent variables."
      ],
      "metadata": {
        "id": "sWrpeN5jT8eE"
      }
    },
    {
      "cell_type": "markdown",
      "source": [
        "## Training and Testing Data\n",
        "\n",
        "To evaluate the performance of a machine learning model, the dataset is typically divided into training and testing sets. The training set is used to train the model, while the testing set is used to evaluate the model's performance.\n",
        "Common split ratios include 70/30, 80/20, or 90/10 for training/testing sets, depending on the size of the dataset."
      ],
      "metadata": {
        "id": "jdJRwEEWT8g_"
      }
    },
    {
      "cell_type": "markdown",
      "source": [
        "## Data Transformation"
      ],
      "metadata": {
        "id": "lQNTZbrgcd5Y"
      }
    },
    {
      "cell_type": "markdown",
      "source": [
        "**Data transformation** is an essential step in machine learning, as it involves preparing the dataset for model training by converting raw data into a suitable format. Some common data transformation techniques include creating dummy variables, scaling, and standardization.\n",
        "\n",
        "* Dummy Variables\n",
        "Dummy variables are binary (0 or 1) variables created to represent categorical data. They enable the conversion of categorical data into a format that can be used by machine learning algorithms."
      ],
      "metadata": {
        "id": "j96dr1odcfwi"
      }
    },
    {
      "cell_type": "code",
      "source": [
        "import pandas as pd\n",
        "\n",
        "# Sample dataset with a categorical feature\n",
        "data = {'Category': ['A', 'B', 'A', 'C', 'A', 'B']}\n",
        "df = pd.DataFrame(data)\n",
        "\n",
        "# Create dummy variables\n",
        "dummies = pd.get_dummies(df['Category'], prefix='Category')\n",
        "df = pd.concat([df, dummies], axis=1)\n",
        "df.drop('Category', axis=1, inplace=True)\n",
        "print(df)\n"
      ],
      "metadata": {
        "colab": {
          "base_uri": "https://localhost:8080/"
        },
        "id": "TxNt8DQacuNv",
        "outputId": "137650c6-d271-4479-fddb-b0b673ec5256"
      },
      "execution_count": null,
      "outputs": [
        {
          "output_type": "stream",
          "name": "stdout",
          "text": [
            "   Category_A  Category_B  Category_C\n",
            "0           1           0           0\n",
            "1           0           1           0\n",
            "2           1           0           0\n",
            "3           0           0           1\n",
            "4           1           0           0\n",
            "5           0           1           0\n"
          ]
        }
      ]
    },
    {
      "cell_type": "markdown",
      "source": [
        "## Scaling\n",
        "\n",
        "Scaling adjusts the range of feature values to ensure that they are on the same scale, preventing features with larger ranges from dominating the model."
      ],
      "metadata": {
        "id": "NvQ8vXoAcyNB"
      }
    },
    {
      "cell_type": "code",
      "source": [
        "from sklearn.preprocessing import MinMaxScaler\n",
        "\n",
        "# Sample dataset with features in different ranges\n",
        "data = {'Feature1': [10, 20, 30, 40, 50], 'Feature2': [1000, 2000, 3000, 4000, 5000]}\n",
        "df = pd.DataFrame(data)\n",
        "\n",
        "# Apply Min-Max scaling\n",
        "scaler = MinMaxScaler()\n",
        "scaled_data = scaler.fit_transform(df)\n",
        "scaled_df = pd.DataFrame(scaled_data, columns=df.columns)\n",
        "print(scaled_df)\n"
      ],
      "metadata": {
        "colab": {
          "base_uri": "https://localhost:8080/"
        },
        "id": "BLRgKSwTcx4L",
        "outputId": "d4c0c363-363e-40c1-c050-2b92e5588156"
      },
      "execution_count": null,
      "outputs": [
        {
          "output_type": "stream",
          "name": "stdout",
          "text": [
            "   Feature1  Feature2\n",
            "0      0.00      0.00\n",
            "1      0.25      0.25\n",
            "2      0.50      0.50\n",
            "3      0.75      0.75\n",
            "4      1.00      1.00\n"
          ]
        }
      ]
    },
    {
      "cell_type": "markdown",
      "source": [
        "## Standardization\n",
        "\n",
        "Standardization rescales features to have a mean of 0 and a standard deviation of 1, making it easier for the model to learn the relationships between features and the target variable."
      ],
      "metadata": {
        "id": "ReloDsuJdIuV"
      }
    },
    {
      "cell_type": "code",
      "source": [
        "from sklearn.preprocessing import StandardScaler\n",
        "\n",
        "# Sample dataset with features in different ranges\n",
        "data = {'Feature1': [10, 20, 30, 40, 50], 'Feature2': [1000, 2000, 3000, 4000, 5000]}\n",
        "df = pd.DataFrame(data)\n",
        "\n",
        "# Apply standardization\n",
        "scaler = StandardScaler()\n",
        "standardized_data = scaler.fit_transform(df)\n",
        "standardized_df = pd.DataFrame(standardized_data, columns=df.columns)\n",
        "print(standardized_df)\n"
      ],
      "metadata": {
        "colab": {
          "base_uri": "https://localhost:8080/"
        },
        "id": "8sjbhcARdL93",
        "outputId": "2d264eb0-1d2c-4444-c1a2-6a364d8da0c5"
      },
      "execution_count": null,
      "outputs": [
        {
          "output_type": "stream",
          "name": "stdout",
          "text": [
            "   Feature1  Feature2\n",
            "0 -1.414214 -1.414214\n",
            "1 -0.707107 -0.707107\n",
            "2  0.000000  0.000000\n",
            "3  0.707107  0.707107\n",
            "4  1.414214  1.414214\n"
          ]
        }
      ]
    },
    {
      "cell_type": "markdown",
      "source": [
        "## When to Scale vs. Standardize:\n",
        "\n",
        "* Scaling and standardization serve different purposes, and the choice between them depends on the specific problem and the underlying assumptions of the machine learning algorithm being used.\n",
        "\n",
        "* Scaling: Scaling is useful when you want to transform the data into a specific range, usually [0, 1] or [-1, 1]. Scaling is suitable when the data has a skewed distribution, or when the maximum and minimum values are known and relevant. It is often used in deep learning when input features need to be in a specific range for activation functions (e.g., sigmoid or tanh).\n",
        "\n",
        "* Standardization: Standardization is more appropriate when the data follows a Gaussian (normal) distribution, or when the goal is to make the features' means equal to 0 and their standard deviations equal to 1. Standardization is less sensitive to outliers than scaling, and it is often preferred when working with algorithms that assume Gaussian-like input features, such as linear regression, logistic regression, and support vector machines.\n",
        "\n",
        "**Mathematics and Information Theory behind Scaling and Standardization:**\n",
        "\n",
        "Larger numbers and different scales can cause a model to behave differently due to the way certain machine learning algorithms are designed. Many algorithms calculate distances or similarities between data points, and the presence of features with different scales can lead to a few features dominating the model's decision-making process.\n",
        "\n",
        "For example, in k-Nearest Neighbors, the algorithm calculates the distance between data points to determine their similarity. If one feature has values in the range of [0, 1], while another has values in the range of [0, 1000], the latter feature will disproportionately affect the distance calculation, leading the model to prioritize it over the other features.\n",
        "\n",
        "In the context of information theory, each feature can be seen as a source of information that contributes to the model's decision-making process. When features have different scales, their information content is not equally represented in the model, causing some features to be more influential than others. Scaling and standardization help balance the information content of each feature, allowing the model to make better decisions based on the entire feature set.\n",
        "\n",
        "To understand why larger numbers and different scales can affect a model's behavior, let's look at the math behind scaling and standardization:\n",
        "\n",
        "\n",
        "**Scaling (Min-Max Scaling): The formula for Min-Max scaling is:**\n",
        "\n",
        "x_scaled = (x - min(x)) / (max(x) - min(x))\n",
        "\n",
        "* This formula rescales the data so that it falls within a specific range, usually [0, 1]. The transformation preserves the relative distances between data points but is sensitive to outliers, which can compress the rest of the data points in a small range.\n",
        "\n",
        "**Standardization (Z-score normalization): The formula for Z-score normalization is:**\n",
        "\n",
        "x_standardized = (x - mean(x)) / std_dev(x)\n",
        "\n",
        "* This formula rescales the data so that it has a mean of 0 and a standard deviation of 1. This transformation does not depend on the minimum and maximum values of the data, making it less sensitive to outliers. Standardization also makes it easier for the model to learn the relationships between features and the target variable since the features are on the same scale.\n",
        "\n",
        "\n",
        "\n",
        "By applying scaling or standardization, we ensure that all features contribute equally to the model's decision-making process, allowing it to make better predictions based on the entire feature set."
      ],
      "metadata": {
        "id": "jh_shAwsdNej"
      }
    },
    {
      "cell_type": "markdown",
      "source": [
        "# Hyper parameter Tuning"
      ],
      "metadata": {
        "id": "lAu6Kndx4iKK"
      }
    },
    {
      "cell_type": "markdown",
      "source": [
        "## Hyperparameter Tuning\n",
        "\n",
        "Hyperparameter tuning is the process of selecting the optimal set of hyperparameters for a machine learning model. Hyperparameters are the model's configuration parameters that can be adjusted before training. Unlike model parameters, which are learned by the model during training, hyperparameters are not learned and must be set manually.\n",
        "\n",
        "In this subsection, we'll cover the following topics related to hyperparameter tuning:\n",
        "\n",
        "* Grid Search\n",
        "* Random Search\n",
        "* Bayesian Optimization\n",
        "\n",
        "**Grid Search**\n",
        "\n",
        "Grid search is an exhaustive search technique that tries out all possible combinations of hyperparameter values within a specified range. The model is trained and evaluated for each combination, and the best set of hyperparameters is chosen based on the model's performance.\n",
        "\n"
      ],
      "metadata": {
        "id": "Ma5chEdp4k8v"
      }
    },
    {
      "cell_type": "code",
      "source": [
        "from sklearn.model_selection import GridSearchCV\n",
        "from sklearn.svm import SVC\n",
        "\n",
        "# Define hyperparameter search space\n",
        "param_grid = {'C': [0.1, 1, 10, 100], 'kernel': ['linear', 'rbf'], 'gamma': [0.1, 1, 10]}\n",
        "\n",
        "# Perform Grid Search\n",
        "clf = SVC()\n",
        "grid_search = GridSearchCV(clf, param_grid, cv=5, scoring='accuracy')\n",
        "grid_search.fit(X_train_scaled, y_train)\n",
        "\n",
        "# Print the best hyperparameters\n",
        "print(\"Best Hyperparameters:\", grid_search.best_params_)\n"
      ],
      "metadata": {
        "id": "zQahdizN4u_h"
      },
      "execution_count": null,
      "outputs": []
    },
    {
      "cell_type": "markdown",
      "source": [
        "b. Random Search\n",
        "\n",
        "Random search is a more efficient alternative to grid search, as it samples a random subset of the hyperparameter search space instead of testing all possible combinations. Random search can be more effective than grid search when there are a large number of hyperparameters or when some hyperparameters have a negligible effect on the model's performance."
      ],
      "metadata": {
        "id": "t2tKHFFd4v8o"
      }
    },
    {
      "cell_type": "code",
      "source": [
        "from sklearn.model_selection import RandomizedSearchCV\n",
        "\n",
        "# Perform Random Search\n",
        "random_search = RandomizedSearchCV(clf, param_grid, n_iter=10, cv=5, scoring='accuracy', random_state=42)\n",
        "random_search.fit(X_train_scaled, y_train)\n",
        "\n",
        "# Print the best hyperparameters\n",
        "print(\"Best Hyperparameters:\", random_search.best_params_)\n"
      ],
      "metadata": {
        "id": "u1KshDBR4yIg"
      },
      "execution_count": null,
      "outputs": []
    },
    {
      "cell_type": "markdown",
      "source": [
        "c. Bayesian Optimization\n",
        "\n",
        "Bayesian optimization is a more advanced technique for hyperparameter tuning that uses a probabilistic model to estimate the optimal hyperparameters. It balances exploration and exploitation by selecting the next set of hyperparameters based on the expected improvement in the model's performance. Bayesian optimization is more efficient than grid search and random search, as it converges to the optimal hyperparameters faster."
      ],
      "metadata": {
        "id": "I3PnDwyx40Ef"
      }
    },
    {
      "cell_type": "code",
      "source": [
        "!pip install skopt"
      ],
      "metadata": {
        "id": "uOOJ-TVu4_Ty"
      },
      "execution_count": null,
      "outputs": []
    },
    {
      "cell_type": "code",
      "source": [
        "from skopt import BayesSearchCV\n",
        "\n",
        "# Define hyperparameter search space\n",
        "param_space = {'C': (0.1, 100, 'log-uniform'), 'kernel': ['linear', 'rbf'], 'gamma': (0.1, 10, 'log-uniform')}\n",
        "\n",
        "# Perform Bayesian Optimization\n",
        "bayes_search = BayesSearchCV(clf, param_space, n_iter=10, cv=5, scoring='accuracy', random_state=42)\n",
        "bayes_search.fit(X_train_scaled, y_train)\n",
        "\n",
        "# Print the best hyperparameters\n",
        "print(\"Best Hyperparameters:\", bayes_search.best_params_)\n"
      ],
      "metadata": {
        "id": "3A1KM3UU45iX"
      },
      "execution_count": null,
      "outputs": []
    },
    {
      "cell_type": "markdown",
      "source": [
        "Each hyperparameter tuning technique has its own advantages and trade-offs. Grid search is the simplest but can be computationally expensive for large search spaces. Random search is more efficient and can often find good hyperparameters in fewer iterations. Bayesian optimization is the most efficient but requires a more complex setup and understanding of the underlying probabilistic model."
      ],
      "metadata": {
        "id": "weXrairO46eG"
      }
    },
    {
      "cell_type": "markdown",
      "source": [
        "# Model Evaluation Metrics"
      ],
      "metadata": {
        "id": "PGSfsjDJT8jv"
      }
    },
    {
      "cell_type": "markdown",
      "source": [
        "i. Classification Metrics\n",
        "- Accuracy: The proportion of correctly classified instances out of the total instances\n",
        "- Precision: The proportion of true positive instances out of the instances predicted as positive\n",
        "- Recall: The proportion of true positive instances out of the actual positive instances\n",
        "- F1-Score: The harmonic mean of precision and recall, giving equal importance to both"
      ],
      "metadata": {
        "id": "qicuyT9PT8mi"
      }
    },
    {
      "cell_type": "markdown",
      "source": [
        "ii. Regression Metrics\n",
        "- Mean Absolute Error (MAE): The average of the absolute differences between the predicted and actual values\n",
        "- Mean Squared Error (MSE): The average of the squared differences between the predicted and actual values\n",
        "- Root Mean Squared Error (RMSE): The square root of the mean squared error\n",
        "- R-squared (Coefficient of Determination): The proportion of the variance in the dependent variable that is predictable from the independent variables"
      ],
      "metadata": {
        "id": "cLPAcNeqUeFI"
      }
    },
    {
      "cell_type": "markdown",
      "source": [
        "## Bias-Variance Trade-Off"
      ],
      "metadata": {
        "id": "a_otedTtVWCK"
      }
    },
    {
      "cell_type": "markdown",
      "source": [
        "**Bias**: Bias refers to the error introduced by approximating a real-world problem with a simplified model. High bias can cause an algorithm to miss relevant relationships between features and target outputs, leading to underfitting.\n",
        "\n",
        "**Variance**: Variance refers to the error introduced by the model's sensitivity to small fluctuations in the training data. High variance can cause an algorithm to model the noise in the data, leading to overfitting.\n",
        "\n",
        "**The bias-variance trade-off**  is an important concept in machine learning, as it highlights the challenge of finding the right balance between model complexity and generalization.\n",
        "\n",
        "**Overfitting** occurs when a model is too complex and fits the noise in the training data, resulting in poor performance on new, unseen data.\n",
        "\n",
        "**Underfitting** occurs when a model is too simple and cannot capture the underlying patterns in the data, resulting in poor performance on both the training and testing data."
      ],
      "metadata": {
        "id": "5DmO1uoHVYM1"
      }
    },
    {
      "cell_type": "markdown",
      "source": [
        "### Strategies to address the bias-variance trade-off:\n",
        "\n",
        "**Cross-validation:** Using cross-validation, such as k-fold cross-validation, helps estimate the model's performance on unseen data and can help in selecting the best model.\n",
        "\n",
        "**Regularization:** Applying regularization techniques, such as L1 or L2 regularization, can prevent overfitting by penalizing overly complex models.\n",
        "\n",
        "**Ensemble methods:** Combining the predictions of multiple models, such as bagging or boosting, can help in balancing the bias-variance trade-off.\n",
        "\n",
        "**Feature selection:** Selecting a subset of the most relevant features can help in reducing model complexity and improving generalization."
      ],
      "metadata": {
        "id": "qiIFH7clVvKu"
      }
    },
    {
      "cell_type": "markdown",
      "source": [
        "## Curse of Dimensionality"
      ],
      "metadata": {
        "id": "tr_cBRPqW3mY"
      }
    },
    {
      "cell_type": "markdown",
      "source": [
        "**The curse of dimensionality** refers to the challenges and issues that arise when working with high-dimensional data. As the number of features (dimensions) increases, the complexity of the model grows, and the amount of data required to achieve a certain level of performance increases exponentially.\n",
        "\n",
        "High-dimensional data can lead to the following issues:\n",
        "\n",
        "**Overfitting**: With a large number of features, models may become overly complex and capture noise in the data, leading to overfitting.\n",
        "\n",
        "**Increased computational complexity:** More features require more computational resources and time to train and evaluate models.\n",
        "\n",
        "**Diminishing returns:** Adding more features may not lead to a significant improvement in model performance, especially if the new features are redundant or irrelevant.\n",
        "\n",
        "**Decreased interpretability:** Models with many features can be difficult to interpret and understand."
      ],
      "metadata": {
        "id": "-_uWlrsgW5L9"
      }
    },
    {
      "cell_type": "markdown",
      "source": [
        "Strategies to address the curse of dimensionality:\n",
        "\n",
        "* **Feature selection**: Selecting a subset of the most relevant features can help in reducing model complexity and improving generalization.\n",
        "\n",
        "* **Dimensionality reduction**: Techniques like Principal Component Analysis (PCA) can be used to reduce the number of dimensions while preserving the most important information in the data."
      ],
      "metadata": {
        "id": "WLKRnHNZXKu_"
      }
    },
    {
      "cell_type": "code",
      "source": [
        "import numpy as np\n",
        "import matplotlib.pyplot as plt\n",
        "\n",
        "# Generate random data points in various dimensions\n",
        "dimensions = [1, 2, 3, 10, 50, 100, 200]\n",
        "sample_size = 1000\n",
        "\n",
        "fig, axes = plt.subplots(1, len(dimensions), figsize=(20, 3))\n",
        "for i, dim in enumerate(dimensions):\n",
        "    data = np.random.rand(sample_size, dim)\n",
        "    distances = np.linalg.norm(data[:, np.newaxis] - data, axis=2)\n",
        "    mean_distance = np.mean(distances)\n",
        "    axes[i].hist(distances.flatten(), bins=30)\n",
        "    axes[i].set_title(f'Dim: {dim}, Mean Dist: {mean_distance:.2f}')\n",
        "    axes[i].set_xlabel('Distances')\n",
        "    axes[i].set_ylabel('Frequency')\n",
        "\n",
        "plt.tight_layout()\n",
        "plt.show()\n"
      ],
      "metadata": {
        "colab": {
          "base_uri": "https://localhost:8080/",
          "height": 327
        },
        "id": "MXvDY2L5XZz3",
        "outputId": "c8146038-483a-441a-99e7-fd1a7ecfdf92"
      },
      "execution_count": null,
      "outputs": [
        {
          "output_type": "display_data",
          "data": {
            "text/plain": [
              "<Figure size 2000x300 with 7 Axes>"
            ],
            "image/png": "[encoded data removed]"
          },
          "metadata": {}
        }
      ]
    },
    {
      "cell_type": "markdown",
      "source": [
        "This code snippet generates random data points in various dimensions and calculates the Euclidean distances between them. The histograms show that as the number of dimensions increases, the distances between data points become more similar, leading to difficulties in distinguishing and classifying them.\n",
        "\n"
      ],
      "metadata": {
        "id": "_AUpw0Z5XdMY"
      }
    },
    {
      "cell_type": "markdown",
      "source": [
        " ## Model Improvement Algorithms"
      ],
      "metadata": {
        "id": "_g71s0VwU2GR"
      }
    },
    {
      "cell_type": "markdown",
      "source": [
        "i. Bagging (Bootstrap Aggregating)\n",
        "- Use: Reducing overfitting and improving the stability of machine learning models, particularly decision trees\n",
        "- Method: Creating multiple models by training on different subsets of the training data, generated by sampling with replacement, and averaging their predictions for the final output\n",
        "- Example: Random Forest"
      ],
      "metadata": {
        "id": "iYZFMPRzU4D5"
      }
    },
    {
      "cell_type": "markdown",
      "source": [
        "ii. Boosting\n",
        "- Use: Improving the accuracy of weak learners by combining their predictions in a weighted manner\n",
        "- Method: Training multiple models sequentially, with each new model focusing on correcting the errors made by the previous one\n",
        "- Example: AdaBoost, Gradient Boosting, XGBoost"
      ],
      "metadata": {
        "id": "Psi4xJ46U9Zh"
      }
    },
    {
      "cell_type": "markdown",
      "source": [
        "iii. Regularization\n",
        "- Use: Reducing overfitting by adding a penalty term to the loss function, discouraging overly complex models\n",
        "- Method: Introducing a penalty term in the loss function, such as L1 (Lasso) or L2 (Ridge) regularization, which penalizes large model coefficients\n",
        "- Example: Lasso Regression, Ridge Regression, Elastic Net"
      ],
      "metadata": {
        "id": "RHFDBIX5VCjN"
      }
    },
    {
      "cell_type": "markdown",
      "source": [
        "# Scikit-learn Deep Dive"
      ],
      "metadata": {
        "id": "mI_6FVW1YMEC"
      }
    },
    {
      "cell_type": "markdown",
      "source": [
        "## Overview\n",
        "\n",
        "Scikit-learn is an open-source Python library for machine learning, providing a wide range of tools for data preprocessing, model training, and evaluation.\n",
        "The library is built on top of NumPy, SciPy, and matplotlib, and its design principles emphasize simplicity, reusability, and efficiency."
      ],
      "metadata": {
        "id": "lJ6SaApHYNyW"
      }
    },
    {
      "cell_type": "markdown",
      "source": [
        "## Main Components\n",
        "* Datasets: Scikit-learn provides built-in datasets for common machine learning tasks, such as classification and regression, making it easy to get started with the library.\n",
        "\n",
        "* Preprocessing: Scikit-learn offers various tools for data preprocessing, such as scaling, normalization, encoding categorical variables, and imputation of missing values.\n",
        "\n",
        "* Model Selection: The library includes a wide variety of machine learning algorithms for supervised, unsupervised, and reinforcement learning tasks.\n",
        "\n",
        "* Metrics: Scikit-learn provides a range of evaluation metrics to measure the performance of machine learning models, such as accuracy, precision, recall, F1-score, and various regression metrics."
      ],
      "metadata": {
        "id": "RDlDeTVfYTVF"
      }
    },
    {
      "cell_type": "markdown",
      "source": [
        "# Working with Scikit-learn\n",
        "* Estimators: Scikit-learn's API is built around the concept of estimators, which are objects that implement the methods fit(X, y) and predict(X). Estimators can be classifiers, regressors, or transformers, depending on the task they perform.\n",
        "\n",
        "* Pipelines: Scikit-learn's pipelines make it easy to chain together multiple steps of a machine learning workflow, such as preprocessing and model training, into a single object.\n",
        "\n",
        "* Model Persistence: Scikit-learn provides functionality to save and load trained models using Python's built-in **pickle** module or the **joblib** library."
      ],
      "metadata": {
        "id": "xD2ZIVXVYh-u"
      }
    },
    {
      "cell_type": "markdown",
      "source": [
        "# Practical Application: Scikit-learn in Action"
      ],
      "metadata": {
        "id": "ScBWCrzKapSm"
      }
    },
    {
      "cell_type": "markdown",
      "source": [
        "## Load the Wine dataset"
      ],
      "metadata": {
        "id": "zfZKNmQ0arAe"
      }
    },
    {
      "cell_type": "code",
      "execution_count": null,
      "metadata": {
        "id": "tAFrlagON8oD"
      },
      "outputs": [],
      "source": [
        "from sklearn.datasets import load_wine\n",
        "\n",
        "# Load the Wine dataset\n",
        "wine = load_wine()\n",
        "X = wine.data\n",
        "y = wine.target\n"
      ]
    },
    {
      "cell_type": "code",
      "source": [
        "from sklearn.model_selection import train_test_split\n",
        "\n",
        "# Split the data into training and testing sets\n",
        "X_train, X_test, y_train, y_test = train_test_split(X, y, test_size=0.3, random_state=42)\n"
      ],
      "metadata": {
        "id": "Gq3FXo2Mawxa"
      },
      "execution_count": null,
      "outputs": []
    },
    {
      "cell_type": "code",
      "source": [
        "from sklearn.preprocessing import StandardScaler\n",
        "\n",
        "# Data preprocessing: standardize the features\n",
        "scaler = StandardScaler()\n",
        "X_train_scaled = scaler.fit_transform(X_train)\n",
        "X_test_scaled = scaler.transform(X_test)\n"
      ],
      "metadata": {
        "id": "JIdHCW8Ta15x"
      },
      "execution_count": null,
      "outputs": []
    },
    {
      "cell_type": "code",
      "source": [
        "from sklearn.svm import SVC\n",
        "\n",
        "# Train a Support Vector Machine classifier\n",
        "clf = SVC(kernel='linear', C=1)\n",
        "clf.fit(X_train_scaled, y_train)\n"
      ],
      "metadata": {
        "colab": {
          "base_uri": "https://localhost:8080/",
          "height": 74
        },
        "id": "xRQspsaJa33b",
        "outputId": "9da0a09e-dd0e-47be-deb3-d2ac9b253fa3"
      },
      "execution_count": null,
      "outputs": [
        {
          "output_type": "execute_result",
          "data": {
            "text/plain": [
              "SVC(C=1, kernel='linear')"
            ],
            "text/html": [
              "<style>#sk-container-id-2 {color: black;background-color: white;}#sk-container-id-2 pre{padding: 0;}#sk-container-id-2 div.sk-toggleable {background-color: white;}#sk-container-id-2 label.sk-toggleable__label {cursor: pointer;display: block;width: 100%;margin-bottom: 0;padding: 0.3em;box-sizing: border-box;text-align: center;}#sk-container-id-2 label.sk-toggleable__label-arrow:before {content: \"▸\";float: left;margin-right: 0.25em;color: #696969;}#sk-container-id-2 label.sk-toggleable__label-arrow:hover:before {color: black;}#sk-container-id-2 div.sk-estimator:hover label.sk-toggleable__label-arrow:before {color: black;}#sk-container-id-2 div.sk-toggleable__content {max-height: 0;max-width: 0;overflow: hidden;text-align: left;background-color: #f0f8ff;}#sk-container-id-2 div.sk-toggleable__content pre {margin: 0.2em;color: black;border-radius: 0.25em;background-color: #f0f8ff;}#sk-container-id-2 input.sk-toggleable__control:checked~div.sk-toggleable__content {max-height: 200px;max-width: 100%;overflow: auto;}#sk-container-id-2 input.sk-toggleable__control:checked~label.sk-toggleable__label-arrow:before {content: \"▾\";}#sk-container-id-2 div.sk-estimator input.sk-toggleable__control:checked~label.sk-toggleable__label {background-color: #d4ebff;}#sk-container-id-2 div.sk-label input.sk-toggleable__control:checked~label.sk-toggleable__label {background-color: #d4ebff;}#sk-container-id-2 input.sk-hidden--visually {border: 0;clip: rect(1px 1px 1px 1px);clip: rect(1px, 1px, 1px, 1px);height: 1px;margin: -1px;overflow: hidden;padding: 0;position: absolute;width: 1px;}#sk-container-id-2 div.sk-estimator {font-family: monospace;background-color: #f0f8ff;border: 1px dotted black;border-radius: 0.25em;box-sizing: border-box;margin-bottom: 0.5em;}#sk-container-id-2 div.sk-estimator:hover {background-color: #d4ebff;}#sk-container-id-2 div.sk-parallel-item::after {content: \"\";width: 100%;border-bottom: 1px solid gray;flex-grow: 1;}#sk-container-id-2 div.sk-label:hover label.sk-toggleable__label {background-color: #d4ebff;}#sk-container-id-2 div.sk-serial::before {content: \"\";position: absolute;border-left: 1px solid gray;box-sizing: border-box;top: 0;bottom: 0;left: 50%;z-index: 0;}#sk-container-id-2 div.sk-serial {display: flex;flex-direction: column;align-items: center;background-color: white;padding-right: 0.2em;padding-left: 0.2em;position: relative;}#sk-container-id-2 div.sk-item {position: relative;z-index: 1;}#sk-container-id-2 div.sk-parallel {display: flex;align-items: stretch;justify-content: center;background-color: white;position: relative;}#sk-container-id-2 div.sk-item::before, #sk-container-id-2 div.sk-parallel-item::before {content: \"\";position: absolute;border-left: 1px solid gray;box-sizing: border-box;top: 0;bottom: 0;left: 50%;z-index: -1;}#sk-container-id-2 div.sk-parallel-item {display: flex;flex-direction: column;z-index: 1;position: relative;background-color: white;}#sk-container-id-2 div.sk-parallel-item:first-child::after {align-self: flex-end;width: 50%;}#sk-container-id-2 div.sk-parallel-item:last-child::after {align-self: flex-start;width: 50%;}#sk-container-id-2 div.sk-parallel-item:only-child::after {width: 0;}#sk-container-id-2 div.sk-dashed-wrapped {border: 1px dashed gray;margin: 0 0.4em 0.5em 0.4em;box-sizing: border-box;padding-bottom: 0.4em;background-color: white;}#sk-container-id-2 div.sk-label label {font-family: monospace;font-weight: bold;display: inline-block;line-height: 1.2em;}#sk-container-id-2 div.sk-label-container {text-align: center;}#sk-container-id-2 div.sk-container {/* jupyter's `normalize.less` sets `[hidden] { display: none; }` but bootstrap.min.css set `[hidden] { display: none !important; }` so we also need the `!important` here to be able to override the default hidden behavior on the sphinx rendered scikit-learn.org. See: https://github.com/scikit-learn/scikit-learn/issues/21755 */display: inline-block !important;position: relative;}#sk-container-id-2 div.sk-text-repr-fallback {display: none;}</style><div id=\"sk-container-id-2\" class=\"sk-top-container\"><div class=\"sk-text-repr-fallback\"><pre>SVC(C=1, kernel=&#x27;linear&#x27;)</pre><b>In a Jupyter environment, please rerun this cell to show the HTML representation or trust the notebook. <br />On GitHub, the HTML representation is unable to render, please try loading this page with nbviewer.org.</b></div><div class=\"sk-container\" hidden><div class=\"sk-item\"><div class=\"sk-estimator sk-toggleable\"><input class=\"sk-toggleable__control sk-hidden--visually\" id=\"sk-estimator-id-2\" type=\"checkbox\" checked><label for=\"sk-estimator-id-2\" class=\"sk-toggleable__label sk-toggleable__label-arrow\">SVC</label><div class=\"sk-toggleable__content\"><pre>SVC(C=1, kernel=&#x27;linear&#x27;)</pre></div></div></div></div></div>"
            ]
          },
          "metadata": {},
          "execution_count": 21
        }
      ]
    },
    {
      "cell_type": "code",
      "source": [
        "# Make predictions on the test set\n",
        "y_pred = clf.predict(X_test_scaled)\n"
      ],
      "metadata": {
        "id": "tTokJxxza7ry"
      },
      "execution_count": null,
      "outputs": []
    },
    {
      "cell_type": "code",
      "source": [
        "from sklearn.metrics import classification_report, confusion_matrix\n",
        "\n",
        "# Evaluate the model performance\n",
        "print(\"Confusion Matrix:\")\n",
        "print(confusion_matrix(y_test, y_pred))\n",
        "print(\"\\nClassification Report:\")\n",
        "print(classification_report(y_test, y_pred))\n"
      ],
      "metadata": {
        "colab": {
          "base_uri": "https://localhost:8080/"
        },
        "id": "uNxDMelHa9h1",
        "outputId": "390df863-dace-4f09-fdfc-e0e826b50aee"
      },
      "execution_count": null,
      "outputs": [
        {
          "output_type": "stream",
          "name": "stdout",
          "text": [
            "Confusion Matrix:\n",
            "[[19  0  0]\n",
            " [ 0 20  1]\n",
            " [ 0  0 14]]\n",
            "\n",
            "Classification Report:\n",
            "              precision    recall  f1-score   support\n",
            "\n",
            "           0       1.00      1.00      1.00        19\n",
            "           1       1.00      0.95      0.98        21\n",
            "           2       0.93      1.00      0.97        14\n",
            "\n",
            "    accuracy                           0.98        54\n",
            "   macro avg       0.98      0.98      0.98        54\n",
            "weighted avg       0.98      0.98      0.98        54\n",
            "\n"
          ]
        }
      ]
    },
    {
      "cell_type": "markdown",
      "source": [
        "The confusion matrix is a table that displays the number of correct and incorrect predictions made by a classification model. The rows represent the true classes, and the columns represent the predicted classes. The diagonal elements show the number of correct predictions for each class, while the off-diagonal elements represent the incorrect predictions.\n",
        "\n",
        "To make the confusion matrix more visually appealing and interpretable, we can use seaborn's heatmap function to create a heatmap with annotations.\n",
        "\n"
      ],
      "metadata": {
        "id": "_whmHLDBbTag"
      }
    },
    {
      "cell_type": "code",
      "source": [
        "import seaborn as sns\n",
        "import pandas as pd\n",
        "\n",
        "# Create a confusion matrix and store it in a DataFrame\n",
        "cm = confusion_matrix(y_test, y_pred)\n",
        "cm_df = pd.DataFrame(cm, index=wine.target_names, columns=wine.target_names)\n",
        "\n",
        "# Plot the confusion matrix as a heatmap\n",
        "plt.figure(figsize=(8, 6))\n",
        "sns.set(font_scale=1.2)\n",
        "sns.heatmap(cm_df, annot=True, fmt='g', cmap='Blues', cbar=False)\n",
        "plt.title('Confusion Matrix')\n",
        "plt.xlabel('Predicted Class')\n",
        "plt.ylabel('True Class')\n",
        "plt.show()\n"
      ],
      "metadata": {
        "colab": {
          "base_uri": "https://localhost:8080/",
          "height": 578
        },
        "id": "0-r-z37WbWcg",
        "outputId": "fe933558-70f5-4d55-c77d-bc5c30e9d6a9"
      },
      "execution_count": null,
      "outputs": [
        {
          "output_type": "display_data",
          "data": {
            "text/plain": [
              "<Figure size 800x600 with 1 Axes>"
            ],
            "image/png": "[encoded data removed]"
          },
          "metadata": {}
        }
      ]
    },
    {
      "cell_type": "markdown",
      "source": [
        "In this heatmap:\n",
        "\n",
        "The diagonal elements (from the top-left to the bottom-right) represent the number of correct predictions for each class.\n",
        "The off-diagonal elements represent the number of incorrect predictions.\n",
        "To interpret the confusion matrix, compare the predicted class (column) to the true class (row) for each cell. For example, suppose we have the following confusion matrix:"
      ],
      "metadata": {
        "id": "57Em-HHMbeDp"
      }
    },
    {
      "cell_type": "markdown",
      "source": [
        "This means:\n",
        "\n",
        "17 samples from class_0 were correctly predicted as class_0, and 1 sample from class_0 was incorrectly predicted as class_1.\n",
        "\n",
        "20 samples from class_1 were correctly predicted as class_1, and 1 sample from class_1 was incorrectly predicted as class_2.\n",
        "\n",
        "15 samples from class_2 were correctly predicted as class_2, and there were no incorrect predictions for class_2.\n",
        "\n",
        "The more correct predictions a model makes, the more the diagonal elements will be populated, and the off-diagonal elements will be empty or have low values."
      ],
      "metadata": {
        "id": "pU9mylQnbrnO"
      }
    },
    {
      "cell_type": "markdown",
      "source": [
        "## Deep Dive into Model Validation - K-Fold Cross Validation\n",
        "\n",
        "Model validation is an essential part of the machine learning process, as it helps us evaluate the performance and generalization capabilities of our models. In this section, \n",
        "\n",
        "K-Fold Cross Validation is a resampling technique used to evaluate a model's performance and robustness. It involves dividing the dataset into K equally sized subsets or \"folds\" and training the model K times, each time using a different fold as the validation set while using the remaining K-1 folds for training. The final performance is calculated by averaging the performance metrics across all K iterations.\n",
        "\n",
        "How K-Fold Cross Validation Works\n",
        "The K-Fold Cross Validation process can be summarized in the following steps:\n",
        "\n",
        "Randomly shuffle the dataset.\n",
        "\n",
        "Split the dataset into K equally sized folds.\n",
        "\n",
        "For each fold:\n",
        "a. Use the fold as the validation set and the remaining K-1 folds as the training set.\n",
        "b. Train the model on the training set.\n",
        "c. Evaluate the model on the validation set.\n",
        "d. Record the performance metric(s) for the validation set.\n",
        "\n",
        "Calculate the average performance metric(s) across all K iterations.\n",
        "\n",
        "Implementing K-Fold Cross Validation with Scikit-Learn\n",
        "\n",
        "Scikit-Learn provides a convenient cross_val_score function to perform K-Fold Cross Validation. Here's an example using the XGBoost model:"
      ],
      "metadata": {
        "id": "BLnuKiL89mLR"
      }
    },
    {
      "cell_type": "code",
      "source": [
        "import numpy as np\n",
        "from sklearn.model_selection import train_test_split, cross_val_score\n",
        "from sklearn.datasets import load_breast_cancer\n",
        "from xgboost import XGBClassifier\n",
        "\n",
        "# Load the breast cancer dataset\n",
        "data = load_breast_cancer()\n",
        "X, y = data.data, data.target\n",
        "\n",
        "# Perform K-Fold Cross Validation with XGBoost\n",
        "model = XGBClassifier(random_state=42)\n",
        "k = 5  # Number of folds\n",
        "scores = cross_val_score(model, X, y, cv=k, scoring='accuracy')\n",
        "\n",
        "# Print the accuracy for each fold\n",
        "for i, score in enumerate(scores, start=1):\n",
        "    print(f\"Fold {i}: Accuracy: {score:.4f}\")\n",
        "\n",
        "# Calculate and print the average accuracy\n",
        "mean_accuracy = np.mean(scores)\n",
        "print(f\"\\nAverage Accuracy: {mean_accuracy:.4f}\")\n"
      ],
      "metadata": {
        "colab": {
          "base_uri": "https://localhost:8080/"
        },
        "id": "-ygS8Jzq9wn2",
        "outputId": "a230347f-8acc-45e6-9a12-868d0ba2b093"
      },
      "execution_count": 4,
      "outputs": [
        {
          "output_type": "stream",
          "name": "stdout",
          "text": [
            "Fold 1: Accuracy: 0.9737\n",
            "Fold 2: Accuracy: 0.9561\n",
            "Fold 3: Accuracy: 0.9912\n",
            "Fold 4: Accuracy: 0.9825\n",
            "Fold 5: Accuracy: 0.9823\n",
            "\n",
            "Average Accuracy: 0.9772\n"
          ]
        }
      ]
    },
    {
      "cell_type": "markdown",
      "source": [
        "## Benefits and Limitations of K-Fold Cross Validation\n",
        "\n",
        "**Benefits:**\n",
        "\n",
        "Provides a more accurate estimate of the model's performance on unseen data compared to a single train-test split.\n",
        "Reduces the impact of random variations in the dataset by averaging the performance across multiple folds.\n",
        "Can help identify overfitting, as overfit models will have a high variance in performance across different folds.\n",
        "\n",
        "**Limitations:**\n",
        "\n",
        "Increases the computational cost, as the model has to be trained K times.\n",
        "May not be suitable for datasets with imbalanced class distributions, as some folds might not have enough examples of the minority class. In this case, Stratified K-Fold Cross Validation is a better alternative, as it ensures each fold has the same class distribution as the entire dataset.\n"
      ],
      "metadata": {
        "id": "PcmCcd539z5F"
      }
    },
    {
      "cell_type": "markdown",
      "source": [
        "## Deep Dive into Evaluating Model Training\n",
        "\n",
        "Evaluating model training is crucial in understanding how well a model can generalize to unseen data. In this section, we will cover the following topics:\n",
        "\n",
        "Learning Curves\n",
        "\n",
        "Overfitting and Underfitting\n",
        "\n",
        "Visualizing Learning Curves with Scikit-Learn\n",
        "\n",
        "Learning Curves"
      ],
      "metadata": {
        "id": "rAgcApuG-Pyq"
      }
    },
    {
      "cell_type": "markdown",
      "source": [
        "Learning curves are plots that display the relationship between training set size and model performance (e.g., accuracy, error). By examining learning curves, we can identify trends in model performance and diagnose issues like overfitting and underfitting."
      ],
      "metadata": {
        "id": "eJfUDo0Z-Wx1"
      }
    },
    {
      "cell_type": "markdown",
      "source": [
        "## Overfitting and Underfitting\n",
        "\n",
        "**Overfitting:** \n",
        "\n",
        "The model performs well on the training set but poorly on the validation set. This indicates that the model has learned the noise in the training data rather than the underlying pattern, resulting in poor generalization to new data.\n",
        "\n",
        "\n",
        "**Underfitting:**\n",
        "\n",
        "The model performs poorly on both the training and validation sets. This indicates that the model has not learned the underlying pattern in the data and is too simple to capture the complexity of the problem."
      ],
      "metadata": {
        "id": "WIlAfzhV-d7T"
      }
    },
    {
      "cell_type": "code",
      "source": [
        "import numpy as np\n",
        "import matplotlib.pyplot as plt\n",
        "from sklearn.datasets import load_breast_cancer\n",
        "from sklearn.model_selection import learning_curve\n",
        "from xgboost import XGBClassifier\n",
        "\n",
        "# Load the breast cancer dataset\n",
        "data = load_breast_cancer()\n",
        "X, y = data.data, data.target\n",
        "\n",
        "# Create an XGBoost classifier\n",
        "model = XGBClassifier(random_state=42)\n",
        "\n",
        "# Generate learning curves\n",
        "train_sizes, train_scores, val_scores = learning_curve(model, X, y, cv=5, scoring='accuracy')\n",
        "\n",
        "# Calculate mean and standard deviation for training and validation scores\n",
        "train_mean = np.mean(train_scores, axis=1)\n",
        "train_std = np.std(train_scores, axis=1)\n",
        "val_mean = np.mean(val_scores, axis=1)\n",
        "val_std = np.std(val_scores, axis=1)\n",
        "\n",
        "# Plot learning curves\n",
        "plt.figure(figsize=(10, 6))\n",
        "plt.plot(train_sizes, train_mean, label=\"Training Accuracy\", color=\"blue\")\n",
        "plt.fill_between(train_sizes, train_mean - train_std, train_mean + train_std, color=\"blue\", alpha=0.1)\n",
        "\n",
        "plt.plot(train_sizes, val_mean, label=\"Validation Accuracy\", color=\"green\")\n",
        "plt.fill_between(train_sizes, val_mean - val_std, val_mean + val_std, color=\"green\", alpha=0.1)\n",
        "\n",
        "plt.xlabel(\"Training Set Size\")\n",
        "plt.ylabel(\"Accuracy\")\n",
        "plt.legend()\n",
        "plt.grid()\n",
        "plt.title(\"Learning Curves for XGBoost Classifier\")\n",
        "plt.show()\n"
      ],
      "metadata": {
        "colab": {
          "base_uri": "https://localhost:8080/",
          "height": 564
        },
        "id": "fo13U81X-dS4",
        "outputId": "da4be7fd-97c1-46d7-ce6b-2277840af13c"
      },
      "execution_count": 5,
      "outputs": [
        {
          "output_type": "display_data",
          "data": {
            "text/plain": [
              "<Figure size 1000x600 with 1 Axes>"
            ],
            "image/png": "[encoded data removed]"
          },
          "metadata": {}
        }
      ]
    },
    {
      "cell_type": "markdown",
      "source": [
        "[learning curves](https://machinelearningmastery.com/learning-curves-for-diagnosing-machine-learning-model-performance/)"
      ],
      "metadata": {
        "id": "ijl5Ije1_c0K"
      }
    },
    {
      "cell_type": "markdown",
      "source": [
        "This example generates learning curves for an XGBoost classifier on the breast cancer dataset. The learning curves display the training and validation accuracy as a function of the training set size.\n",
        "\n",
        "By examining these learning curves, we can identify the following:\n",
        "\n",
        "If the model is overfitting, the training curve will have high accuracy, while the validation curve will have lower accuracy, and there will be a significant gap between the two curves.\n",
        "If the model is underfitting, both the training and validation curves will have low accuracy, and there may not be a significant gap between the two curves.\n",
        "By using learning curves to evaluate model training, we can better understand our model's performance and make adjustments to improve generalization to unseen data."
      ],
      "metadata": {
        "id": "ctkkew96-418"
      }
    },
    {
      "cell_type": "markdown",
      "source": [
        "# Deep Dive into XGBoost Classification"
      ],
      "metadata": {
        "id": "DxkKW7IU3lMB"
      }
    },
    {
      "cell_type": "markdown",
      "source": [
        "[stanford vid](https://www.youtube.com/watch?v=QNnayf--_yk&list=RDCMUCBa5G_ESCn8Yd4vw5U-gIcg&index=1)\n",
        "\n",
        "[decision trees](https://www.analyticsvidhya.com/blog/2021/04/distinguish-between-tree-based-machine-learning-algorithms/)"
      ],
      "metadata": {
        "id": "kKM55nuG_9tC"
      }
    },
    {
      "cell_type": "markdown",
      "source": [
        "In this lesson, we will explore an end-to-end machine learning project focused on classification using the XGBoost algorithm. XGBoost is a powerful gradient boosting technique that builds an ensemble of decision trees to make predictions."
      ],
      "metadata": {
        "id": "2apGJBzS5er8"
      }
    },
    {
      "cell_type": "markdown",
      "source": [
        "## Introduction to Boosted Trees\n",
        "Boosted trees are an ensemble method that combines multiple weak learners (usually shallow decision trees) to create a strong learner. Boosting sequentially fits weak learners, with each new tree added to the model aiming to correct the errors made by the previously built trees.\n",
        "\n",
        "The benefits of boosting over regular decision trees include:\n",
        "\n",
        "Improved predictive performance due to the combination of multiple weak learners.\n",
        "Better handling of imbalanced datasets.\n",
        "Reduced overfitting compared to deep decision trees.\n",
        "Boosted Trees Visualization\n",
        "\n",
        "Image source: https://miro.medium.com/max/4000/1*QJZ6W-Pck_W7RlIDwUIN9Q.png\n",
        "\n"
      ],
      "metadata": {
        "id": "HcVrjcaI5k5l"
      }
    },
    {
      "cell_type": "markdown",
      "source": [
        "## Dataset Introduction\n",
        "In this lesson, we will use the Telco Customer Churn dataset from Kaggle. This dataset contains information about customer behavior for a telecommunications company, including demographics, services used, and whether the customer churned. The objective is to predict customer churn using the provided features."
      ],
      "metadata": {
        "id": "UZvkxoPR5wYD"
      }
    },
    {
      "cell_type": "markdown",
      "source": [
        "## Deep Dive into Tree-Based Models"
      ],
      "metadata": {
        "id": "L-2oy3o_6E3v"
      }
    },
    {
      "cell_type": "markdown",
      "source": [
        "In this section, we will explore tree-based models, understand how they work, and discuss their benefits over other types of models. We will also cover best practices when using tree-based models.\n",
        "\n"
      ],
      "metadata": {
        "id": "-9PejS_C6G_d"
      }
    },
    {
      "cell_type": "markdown",
      "source": [
        "## Introduction to Tree-Based Models\n",
        "Tree-based models are a family of machine learning algorithms that use decision trees to make predictions. Decision trees split the input space into non-overlapping regions based on the feature values and make predictions by taking the majority class (for classification) or the mean value (for regression) in each region.\n",
        "\n",
        "There are two main types of tree-based models:\n",
        "\n",
        "a. Decision Trees: Single trees that can be used for both classification and regression tasks.\n",
        "\n",
        "b. Ensemble Methods: Combining multiple decision trees to improve predictive performance. Some popular ensemble methods include:\n",
        "\n",
        "Random Forests\n",
        "Boosted Trees (e.g., XGBoost, LightGBM, and CatBoost)"
      ],
      "metadata": {
        "id": "UOwUwSP26JSa"
      }
    },
    {
      "cell_type": "markdown",
      "source": [
        "## Benefits of Tree-Based Models over Other Types of Models\n",
        "Interpretability: Decision trees are easy to understand and interpret, making them suitable for situations where model interpretability is important.\n",
        "Non-linear relationships: Tree-based models can capture non-linear relationships between features and the target variable, which is a limitation of many linear models.\n",
        "Feature interactions: Tree-based models can naturally model interactions between features, unlike linear models, which require explicit feature engineering to capture interactions.\n",
        "Robustness to outliers: Tree-based models are less sensitive to outliers, as they make decisions based on feature values' relative ordering rather than their magnitudes.\n",
        "Minimal data preprocessing: Tree-based models do not require feature scaling or normalization, as they are not affected by the scale of the input features."
      ],
      "metadata": {
        "id": "GFi7wMnP6UKa"
      }
    },
    {
      "cell_type": "markdown",
      "source": [
        "## Best Practices when Using Tree-Based Models\n",
        "Handle missing values: Decision trees can handle missing values by either splitting the data based on the presence or absence of the missing feature or by imputing the missing values. Ensemble methods like XGBoost can handle missing values internally.\n",
        "One-hot encoding for categorical features: Although decision trees can handle categorical features directly, it is often beneficial to use one-hot encoding to convert categorical features into binary features, especially when using ensemble methods.\n",
        "Control tree depth: Deep decision trees can easily overfit the training data. It is important to control the depth of the tree by setting a limit on the maximum depth or using a minimum number of samples per leaf node.\n",
        "Use ensemble methods: Ensemble methods like random forests or boosted trees can help reduce overfitting and improve the predictive performance of single decision trees.\n",
        "Hyperparameter tuning: Optimize hyperparameters such as the tree depth, minimum samples per leaf node, and learning rate (for boosting) using techniques like grid search, random search, or Bayesian optimization."
      ],
      "metadata": {
        "id": "sH1brrmR6OsH"
      }
    },
    {
      "cell_type": "markdown",
      "source": [
        "[Random Forest](https://en.wikipedia.org/wiki/Random_forest#/media/File:Random_forest_diagram_complete.png)\n",
        "\n",
        "[Bagging vs Boosting](https://towardsdatascience.com/ensemble-learning-bagging-boosting-3098079e5422://)"
      ],
      "metadata": {
        "id": "gWLnTRlW605M"
      }
    },
    {
      "cell_type": "markdown",
      "source": [
        "## XGBoost (short for eXtreme Gradient Boosting)\n",
        "A popular gradient boosting algorithm that has gained significant attention in the machine learning community for its efficiency, scalability, and high predictive performance. In this section, we will cover the following topics to provide a comprehensive understanding of the XGBoost algorithm:\n",
        "\n",
        "Gradient Boosting Overview\n",
        "\n",
        "XGBoost: Key Features and Improvements\n",
        "\n",
        "Regularization in XGBoost\n",
        "\n",
        "Handling Missing Values\n",
        "\n",
        "Early Stopping\n",
        "\n",
        "Parallel and Distributed Computing\n",
        "\n",
        "Gradient Boosting Overview\n",
        "\n",
        "Gradient Boosting is an ensemble learning method that builds a strong learner by combining multiple weak learners (usually decision trees) in a sequential manner. At each iteration, a new tree is added to the ensemble to minimize a loss function by fitting the residuals (i.e., the difference between the true values and the current predictions). This process continues for a predefined number of iterations or until the loss converges."
      ],
      "metadata": {
        "id": "L8o9M7w57qN9"
      }
    },
    {
      "cell_type": "markdown",
      "source": [
        "## XGBoost: Key Features and Improvements\n",
        "XGBoost extends the gradient boosting algorithm with several improvements, which contribute to its superior performance and scalability:\n",
        "\n",
        "Regularization: XGBoost introduces an additional regularization term in the loss function to control the complexity of the model and reduce overfitting.\n",
        "Column Block: XGBoost uses a column block data structure to store the dataset in memory, enabling cache-aware access patterns and reducing the overall memory footprint.\n",
        "Sparsity-aware: XGBoost can handle sparse data and missing values efficiently by automatically learning the best direction to handle missing values during the tree construction process.\n",
        "Parallelization: XGBoost employs parallelization techniques to build individual trees, allowing it to harness the power of multi-core processors and speed up the training process.\n",
        "Distributed Computing: XGBoost supports distributed computing, enabling the algorithm to scale across multiple machines for large datasets."
      ],
      "metadata": {
        "id": "bY1LSC4d7yPX"
      }
    },
    {
      "cell_type": "markdown",
      "source": [
        "## Regularization in XGBoost\n",
        "XGBoost adds an additional regularization term to the loss function, which penalizes more complex models. This regularization term helps control the complexity of the model and reduces overfitting. The regularization term is controlled by two hyperparameters: alpha (L1 regularization) and lambda (L2 regularization)."
      ],
      "metadata": {
        "id": "vQiC-WKs70M0"
      }
    },
    {
      "cell_type": "markdown",
      "source": [
        "## Handling Missing Values\n",
        "XGBoost can handle missing values internally by learning the best direction to handle missing values during the tree construction process. It achieves this by using a Sparsity-aware algorithm that finds the optimal split for instances with missing values, either sending them to the left child node or the right child node, based on the gain from the split."
      ],
      "metadata": {
        "id": "l8TqcEOm73vm"
      }
    },
    {
      "cell_type": "markdown",
      "source": [
        "## Early Stopping\n",
        "XGBoost supports early stopping, a technique that halts the training process when the performance on a validation dataset does not improve after a specified number of iterations. This helps prevent overfitting and reduces the computational cost of training."
      ],
      "metadata": {
        "id": "OctgjEfA761o"
      }
    },
    {
      "cell_type": "markdown",
      "source": [
        "## Parallel and Distributed Computing\n",
        "XGBoost employs parallelization techniques to build individual trees, which speeds up the training process by utilizing multi-core processors. Additionally, XGBoost supports distributed computing, enabling the algorithm to scale across multiple machines for large datasets."
      ],
      "metadata": {
        "id": "Q_p8SsTL8ALv"
      }
    },
    {
      "cell_type": "code",
      "source": [
        "import numpy as np\n",
        "import matplotlib.pyplot as plt\n",
        "from sklearn.model_selection import train_test_split\n",
        "from sklearn.metrics import mean_squared_error\n",
        "from xgboost import XGBRegressor\n",
        "\n",
        "# Create a synthetic dataset\n",
        "np.random.seed(42)\n",
        "X = np.random.rand(1000, 1)\n",
        "y = 4 + 3 * X[:, 0] + np.random.randn(1000) * 0.5\n",
        "\n",
        "# Split the dataset into training and testing sets\n",
        "X_train, X_test, y_train, y_test = train_test_split(X, y, test_size=0.2, random_state=42)\n",
        "\n",
        "# Define a range of regularization hyperparameters\n",
        "alphas = [0, 1, 5, 10]\n",
        "lambdas = [0, 1, 5, 10]\n",
        "\n",
        "# Train XGBoost models with different regularization values and evaluate their performance\n",
        "results = []\n",
        "for alpha in alphas:\n",
        "    for lambda_ in lambdas:\n",
        "        model = XGBRegressor(reg_alpha=alpha, reg_lambda=lambda_, random_state=42)\n",
        "        model.fit(X_train, y_train)\n",
        "        y_pred = model.predict(X_test)\n",
        "        mse = mean_squared_error(y_test, y_pred)\n",
        "        results.append((alpha, lambda_, mse))\n",
        "\n",
        "# Print the results\n",
        "for alpha, lambda_, mse in results:\n",
        "    print(f\"Alpha: {alpha}, Lambda: {lambda_}, Mean Squared Error: {mse:.4f}\")\n",
        "\n",
        "# Plot the results\n",
        "plt.figure(figsize=(10, 6))\n",
        "for i, alpha in enumerate(alphas):\n",
        "    mse_values = [mse for alpha_, lambda_, mse in results if alpha_ == alpha]\n",
        "    plt.plot(lambdas, mse_values, marker='o', label=f\"Alpha: {alpha}\")\n",
        "\n",
        "plt.xlabel(\"Lambda (L2 Regularization)\")\n",
        "plt.ylabel(\"Mean Squared Error\")\n",
        "plt.legend()\n",
        "plt.grid()\n",
        "plt.title(\"XGBoost Regularization: Model Performance with Different Alpha and Lambda Values\")\n",
        "plt.show()\n"
      ],
      "metadata": {
        "colab": {
          "base_uri": "https://localhost:8080/",
          "height": 842
        },
        "id": "UAxY6OXF9KzQ",
        "outputId": "26ab2c60-b142-4d91-e5e5-9079fb3ff009"
      },
      "execution_count": 3,
      "outputs": [
        {
          "output_type": "stream",
          "name": "stdout",
          "text": [
            "Alpha: 0, Lambda: 0, Mean Squared Error: 0.4058\n",
            "Alpha: 0, Lambda: 1, Mean Squared Error: 0.3530\n",
            "Alpha: 0, Lambda: 5, Mean Squared Error: 0.3016\n",
            "Alpha: 0, Lambda: 10, Mean Squared Error: 0.2852\n",
            "Alpha: 1, Lambda: 0, Mean Squared Error: 0.2771\n",
            "Alpha: 1, Lambda: 1, Mean Squared Error: 0.2737\n",
            "Alpha: 1, Lambda: 5, Mean Squared Error: 0.2642\n",
            "Alpha: 1, Lambda: 10, Mean Squared Error: 0.2596\n",
            "Alpha: 5, Lambda: 0, Mean Squared Error: 0.2223\n",
            "Alpha: 5, Lambda: 1, Mean Squared Error: 0.2252\n",
            "Alpha: 5, Lambda: 5, Mean Squared Error: 0.2304\n",
            "Alpha: 5, Lambda: 10, Mean Squared Error: 0.2219\n",
            "Alpha: 10, Lambda: 0, Mean Squared Error: 0.2336\n",
            "Alpha: 10, Lambda: 1, Mean Squared Error: 0.2333\n",
            "Alpha: 10, Lambda: 5, Mean Squared Error: 0.2320\n",
            "Alpha: 10, Lambda: 10, Mean Squared Error: 0.2201\n"
          ]
        },
        {
          "output_type": "display_data",
          "data": {
            "text/plain": [
              "<Figure size 1000x600 with 1 Axes>"
            ],
            "image/png": "[encoded data removed]"
          },
          "metadata": {}
        }
      ]
    },
    {
      "cell_type": "markdown",
      "source": [
        "In this example, we create a synthetic dataset and train XGBoost models with different values of alpha (L1 regularization) and lambda (L2 regularization). We then evaluate the models on a test set using mean squared error (MSE) as the performance metric. The results are plotted to visualize the impact of regularization on model performance.\n",
        "\n",
        "As you can see from the plot, different combinations of alpha and lambda can lead to varying model performance. Regularization helps control the model complexity, and the optimal combination of regularization hyperparameters depends on the specific problem and dataset."
      ],
      "metadata": {
        "id": "nBazNeZf9fyb"
      }
    }
  ]
}