{
  "nbformat": 4,
  "nbformat_minor": 0,
  "metadata": {
    "colab": {
      "provenance": [],
      "authorship_tag": "ABX9TyOVxS3M8zMPePDrNnSmflIU",
      "include_colab_link": true
    },
    "kernelspec": {
      "name": "python3",
      "display_name": "Python 3"
    },
    "language_info": {
      "name": "python"
    }
  },
  "cells": [
    {
      "cell_type": "markdown",
      "metadata": {
        "id": "view-in-github",
        "colab_type": "text"
      },
      "source": [
        "<a href=\"https://colab.research.google.com/github/SSSpock/skillspire/blob/main/datavis.ipynb\" target=\"_parent\"><img src=\"https://colab.research.google.com/assets/colab-badge.svg\" alt=\"Open In Colab\"/></a>"
      ]
    },
    {
      "cell_type": "markdown",
      "source": [
        "# 1. Introduction to Data Visualization"
      ],
      "metadata": {
        "id": "cTCbtwigYcBi"
      }
    },
    {
      "cell_type": "markdown",
      "source": [
        "## Importance of Data Visualization\n",
        "Data visualization is a key aspect of data science, as it allows us to better understand and communicate complex information. By representing data in a visual format, we can:\n",
        "\n",
        "Quickly grasp essential information and patterns in the data\n",
        "Identify outliers and anomalies\n",
        "Make informed decisions based on the data\n",
        "Communicate our findings to others in a clear and concise manner"
      ],
      "metadata": {
        "id": "D8iSCAfoYdwu"
      }
    },
    {
      "cell_type": "markdown",
      "source": [
        "## Types of Data Visualizations\n",
        "There are many types of data visualizations, each suited to different types of data and purposes. Some common types include:\n",
        "\n",
        "Line plots: Display continuous data over time or another variable\n",
        "Bar plots: Compare categorical data or show the distribution of values across categories\n",
        "Scatter plots: Show the relationship between two continuous variables\n",
        "Histograms: Display the distribution of a continuous variable\n",
        "Pie charts: Show proportions of a whole\n",
        "Heatmaps: Represent data in a matrix format, using colors to indicate values\n",
        "Box plots: Visualize the distribution of data and identify outliers\n",
        "Area charts: Display continuous data over time or another variable, with emphasis on the magnitude"
      ],
      "metadata": {
        "id": "x7owz8xWbFXQ"
      }
    },
    {
      "cell_type": "markdown",
      "source": [
        "## Applications in Data Science\n",
        "Data visualization plays a crucial role in various stages of data science, including:\n",
        "\n",
        "Exploratory Data Analysis (EDA): Visualization helps identify patterns, trends, and relationships in the data, which can guide the development of hypotheses and inform feature selection.\n",
        "Model Evaluation: Visualizing model performance, such as learning curves or confusion matrices, can help us understand the strengths and weaknesses of our models and guide improvements.\n",
        "Reporting and Communication: Creating clear and informative visualizations can help communicate our findings to stakeholders and facilitate data-driven decision-making."
      ],
      "metadata": {
        "id": "R5Oeiy6pbMmf"
      }
    },
    {
      "cell_type": "markdown",
      "source": [
        "# Introduction to Matplotlib"
      ],
      "metadata": {
        "id": "vE5GjEN3bI-Z"
      }
    },
    {
      "cell_type": "markdown",
      "source": [
        "## Overview of the Matplotlib Library\n",
        "\n",
        "Matplotlib is a powerful and popular Python library for creating static, animated, and interactive visualizations. It provides a wide range of plotting functions, enabling users to create various types of visualizations with ease.\n",
        "\n",
        "Some key features of Matplotlib include:\n",
        "\n",
        "High-quality output in multiple formats (PNG, PDF, SVG, etc.)\n",
        "Extensive customization options for plot appearance\n",
        "Integration with Jupyter Notebook and other Python libraries"
      ],
      "metadata": {
        "id": "BCcpyVL_b9zX"
      }
    },
    {
      "cell_type": "markdown",
      "source": [
        "## Basic Plotting Functions\n",
        "\n",
        "Matplotlib provides several basic plotting functions for creating various types of plots. Here are a few common ones:\n",
        "\n",
        "plot(): Creates line plots\n",
        "\n",
        "scatter(): Creates scatter plots\n",
        "\n",
        "bar(): Creates bar plots\n",
        "\n",
        "hist(): Creates histograms\n",
        "\n",
        "boxplot(): Creates box plots\n",
        "\n",
        "pie(): Creates pie charts"
      ],
      "metadata": {
        "id": "-QzWxQCqb_dT"
      }
    },
    {
      "cell_type": "markdown",
      "source": [
        "## Customizing Plots\n",
        "With Matplotlib, you can customize various aspects of your plots to make them more informative and visually appealing. Some common customizations include:\n",
        "\n",
        "Adding titles, axis labels, and legends\n",
        "Changing line styles, colors, and markers\n",
        "Modifying axis limits and ticks\n",
        "Annotating plots with text, arrows, or other shapes\n",
        "Applying gridlines and background colors"
      ],
      "metadata": {
        "id": "dvdT7rIWcNP1"
      }
    },
    {
      "cell_type": "markdown",
      "source": [
        "# Understanding Matplotlib Control Patterns\n",
        "\n",
        "In this section, we will explain the high-level control patterns in Matplotlib, specifically focusing on the use of functions like plt.title() and how they can access and modify elements of your plots."
      ],
      "metadata": {
        "id": "FJWHd99ZdfbU"
      }
    },
    {
      "cell_type": "markdown",
      "source": [
        "## Matplotlib's Object Hierarchy\n",
        "At its core, Matplotlib is built on an object-oriented hierarchy. At the top of this hierarchy is the Figure object, which represents the entire plot and can contain one or more Axes objects. Each Axes object represents a single plot within the figure and contains various elements, such as lines, markers, labels, and more.\n",
        "\n",
        "When you create a plot using Matplotlib functions like plt.plot(), you are implicitly working with the Figure and Axes objects in the background. The pyplot (imported as plt) interface provides a simple way to interact with these objects without explicitly referencing them."
      ],
      "metadata": {
        "id": "dNJsDcmHdjDq"
      }
    },
    {
      "cell_type": "markdown",
      "source": [
        "## The Pyplot State Machine\n",
        "Matplotlib's pyplot interface operates as a state machine. It keeps track of the current Figure and Axes objects, and most pyplot functions implicitly target the current objects. When you call functions like plt.title(), they access and modify elements of the current Axes object.\n",
        "\n",
        "Here's a brief overview of how some common pyplot functions interact with the object hierarchy:\n",
        "\n",
        "plt.figure(): Creates a new Figure object and sets it as the current figure\n",
        "\n",
        "plt.plot(), plt.scatter(), etc.: Creates the corresponding plot element within the current Axes object\n",
        "\n",
        "plt.title(), plt.xlabel(), plt.ylabel(): Sets the title, x-axis label, or y-axis label of the current Axes object\n",
        "\n",
        "plt.legend(): Adds a legend to the current Axes object\n",
        "\n",
        "plt.show(): Displays the current Figure object"
      ],
      "metadata": {
        "id": "Z2B4clWAdsoM"
      }
    },
    {
      "cell_type": "markdown",
      "source": [
        "## Working with Multiple Figures and Axes\n",
        "In some cases, you may want to create multiple figures or axes within a single plot. You can achieve this by explicitly creating and referencing Figure and Axes objects using the plt.subplots() function.\n",
        "\n",
        "For example, to create a 2x2 grid of subplots, you can do the following:\n",
        "\n",
        "python\n"
      ],
      "metadata": {
        "id": "upksC5ufd42y"
      }
    },
    {
      "cell_type": "code",
      "source": [
        "import numpy as np\n",
        "import matplotlib.pyplot as plt\n",
        "\n",
        "# Generate data for line plot\n",
        "x_line = np.linspace(0, 2 * np.pi, 100)\n",
        "y_line = np.sin(x_line)\n",
        "\n",
        "# Generate data for scatter plot\n",
        "x_scatter = np.random.rand(50)\n",
        "y_scatter = np.random.rand(50)\n",
        "\n",
        "# Generate data for bar plot\n",
        "x_bar = ['A', 'B', 'C', 'D', 'E']\n",
        "y_bar = [3, 7, 2, 5, 8]\n",
        "\n",
        "# Generate data for histogram\n",
        "data_hist = np.random.randn(1000)\n",
        "\n",
        "# Create a 2x2 grid of subplots\n",
        "fig, axes = plt.subplots(2, 2, figsize=(10, 10))\n",
        "\n",
        "# Line plot\n",
        "axes[0, 0].plot(x_line, y_line)\n",
        "axes[0, 0].set_title('Line Plot')\n",
        "\n",
        "# Scatter plot\n",
        "axes[0, 1].scatter(x_scatter, y_scatter)\n",
        "axes[0, 1].set_title('Scatter Plot')\n",
        "\n",
        "# Bar plot\n",
        "axes[1, 0].bar(x_bar, y_bar)\n",
        "axes[1, 0].set_title('Bar Plot')\n",
        "\n",
        "# Histogram\n",
        "axes[1, 1].hist(data_hist, bins=30)\n",
        "axes[1, 1].set_title('Histogram')\n",
        "\n",
        "plt.show()\n",
        "\n"
      ],
      "metadata": {
        "id": "erK_kCyfd7FA"
      },
      "execution_count": null,
      "outputs": []
    },
    {
      "cell_type": "markdown",
      "source": [
        "By explicitly referencing the Axes objects, you can apply customizations and other functions to each individual plot.\n",
        "\n",
        "In summary, Matplotlib's pyplot interface provides a high-level way to interact with the underlying object hierarchy, making it easy to create and customize plots. Functions like plt.title() work with the current Figure and Axes objects to modify their elements, while more advanced control can be achieved by explicitly working with the objects themselves."
      ],
      "metadata": {
        "id": "Tsbs-Zeud8ZD"
      }
    },
    {
      "cell_type": "markdown",
      "source": [
        "## Hands-on Exercise: Creating and Customizing Basic Plots with Matplotlib"
      ],
      "metadata": {
        "id": "bQyJuQDiciSN"
      }
    },
    {
      "cell_type": "markdown",
      "source": [
        "In this section, we will demonstrate how to create and customize various types of plots using Matplotlib's basic plotting functions. We will start with a simple line plot and then move on to other types of plots, such as scatter plots and bar plots. Finally, we will explore various customization techniques to enhance our visualizations."
      ],
      "metadata": {
        "id": "n2k67xbccnct"
      }
    },
    {
      "cell_type": "code",
      "source": [
        "import numpy as np\n",
        "import matplotlib.pyplot as plt\n",
        "\n",
        "# Generate a sine wave\n",
        "x = np.linspace(0, 2 * np.pi, 100)\n",
        "y = np.sin(x)\n",
        "\n",
        "# Create a line plot\n",
        "plt.plot(x, y)\n",
        "plt.show()\n"
      ],
      "metadata": {
        "id": "mltn-8aLcpFd"
      },
      "execution_count": null,
      "outputs": []
    },
    {
      "cell_type": "markdown",
      "source": [
        "## Creating Scatter and Bar Plots\n",
        "Now, let's create a scatter plot and a bar plot using the scatter() and bar() functions, respectively."
      ],
      "metadata": {
        "id": "KaBH9AtqcrLQ"
      }
    },
    {
      "cell_type": "code",
      "execution_count": null,
      "metadata": {
        "id": "UpBkJwKYYI-U"
      },
      "outputs": [],
      "source": [
        "# Generate random data\n",
        "x_scatter = np.random.rand(50)\n",
        "y_scatter = np.random.rand(50)\n",
        "\n",
        "# Create a scatter plot\n",
        "plt.scatter(x_scatter, y_scatter)\n",
        "plt.show()\n",
        "\n",
        "# Generate data for a bar plot\n",
        "x_bar = ['A', 'B', 'C', 'D', 'E']\n",
        "y_bar = [3, 7, 2, 5, 8]\n",
        "\n",
        "# Create a bar plot\n",
        "plt.bar(x_bar, y_bar)\n",
        "plt.show()\n"
      ]
    },
    {
      "cell_type": "markdown",
      "source": [
        "## Customizing Plots\n",
        "Now, let's explore various customization techniques to enhance our plots. We will modify the appearance of our line plot and add titles, labels, and legends to our scatter and bar plots."
      ],
      "metadata": {
        "id": "D1xQlCh-cwhJ"
      }
    },
    {
      "cell_type": "code",
      "source": [
        "# Create a customized line plot\n",
        "plt.plot(x, y, linestyle='--', color='red', linewidth=2, marker='o', markersize=5)\n",
        "plt.title('Sine Wave')\n",
        "plt.xlabel('x-axis')\n",
        "plt.ylabel('y-axis')\n",
        "plt.grid(True)\n",
        "plt.show()\n"
      ],
      "metadata": {
        "id": "nLkK1ASvc2WF"
      },
      "execution_count": null,
      "outputs": []
    },
    {
      "cell_type": "markdown",
      "source": [
        "## Adding Titles, Labels, and Legends to Scatter and Bar Plots"
      ],
      "metadata": {
        "id": "QtT-fS4ec0g1"
      }
    },
    {
      "cell_type": "code",
      "source": [
        "# Create a customized scatter plot\n",
        "plt.scatter(x_scatter, y_scatter, color='blue', marker='s', s=50, alpha=0.5, label='Random Points')\n",
        "plt.title('Scatter Plot')\n",
        "plt.xlabel('x-axis')\n",
        "plt.ylabel('y-axis')\n",
        "plt.legend(loc='upper left')\n",
        "plt.show()\n",
        "\n",
        "# Create a customized bar plot\n",
        "plt.bar(x_bar, y_bar, color='green', edgecolor='black', width=0.5, label='Categories')\n",
        "plt.title('Bar Plot')\n",
        "plt.xlabel('Categories')\n",
        "plt.ylabel('Values')\n",
        "plt.legend(loc='upper right')\n",
        "plt.show()\n"
      ],
      "metadata": {
        "id": "pyAuMW0rc8lD"
      },
      "execution_count": null,
      "outputs": []
    },
    {
      "cell_type": "markdown",
      "source": [],
      "metadata": {
        "id": "FxTboMbIdc1f"
      }
    }
  ]
}