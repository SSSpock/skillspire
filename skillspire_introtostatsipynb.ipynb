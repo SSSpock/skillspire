{
  "nbformat": 4,
  "nbformat_minor": 0,
  "metadata": {
    "colab": {
      "provenance": [],
      "authorship_tag": "ABX9TyN8PIXIa1DFkF8aMFX3hw3n",
      "include_colab_link": true
    },
    "kernelspec": {
      "name": "python3",
      "display_name": "Python 3"
    },
    "language_info": {
      "name": "python"
    }
  },
  "cells": [
    {
      "cell_type": "markdown",
      "metadata": {
        "id": "view-in-github",
        "colab_type": "text"
      },
      "source": [
        "<a href=\"https://colab.research.google.com/github/SSSpock/skillspire/blob/main/skillspire_introtostatsipynb.ipynb\" target=\"_parent\"><img src=\"https://colab.research.google.com/assets/colab-badge.svg\" alt=\"Open In Colab\"/></a>"
      ]
    },
    {
      "cell_type": "markdown",
      "source": [
        "This week we are going to begin with the basics and explore populations, parameters, and estimates.  We are going to learn how to take an accurate sample from a population and compare it to other populations."
      ],
      "metadata": {
        "id": "JotuWmCuVONQ"
      }
    },
    {
      "cell_type": "markdown",
      "source": [
        "# Data Generation Processes"
      ],
      "metadata": {
        "id": "VM6rgIEGXFCp"
      }
    },
    {
      "cell_type": "code",
      "execution_count": 4,
      "metadata": {
        "colab": {
          "base_uri": "https://localhost:8080/",
          "height": 295
        },
        "id": "3tKLszWvQrgG",
        "outputId": "bae99701-77f0-4eb5-abc4-176d2ec1d130"
      },
      "outputs": [
        {
          "output_type": "display_data",
          "data": {
            "text/plain": [
              "<Figure size 432x288 with 1 Axes>"
            ],
            "image/png": "[encoded data removed]"
          },
          "metadata": {
            "needs_background": "light"
          }
        }
      ],
      "source": [
        "import matplotlib.pyplot as plt\n",
        "import numpy as np\n",
        "import pandas as pd\n",
        "import io\n",
        "import sqlite3\n",
        "from ast import literal_eval\n",
        "\n",
        "!pip install ipython-sql\n",
        "\n",
        "# Set the size of the binomial sample\n",
        "n = 1000\n",
        "\n",
        "# Generate a binomial sample\n",
        "sample_binomial = np.random.binomial(1, 0.5, n)\n",
        "\n",
        "# Plot a histogram of the sample\n",
        "plt.hist(sample_binomial, density=True)\n",
        "\n",
        "# Label the plot\n",
        "plt.title('Binomial Distribution')\n",
        "plt.xlabel('Value')\n",
        "plt.ylabel('Probability')\n",
        "\n",
        "# Show the plot\n",
        "plt.show()"
      ]
    },
    {
      "cell_type": "code",
      "source": [
        "# Generate a sample mean of the binomial sample 1000 times\n",
        "sample_means = [np.mean(np.random.choice(sample_binomial, 100)) for _ in range(1000)]\n",
        "\n",
        "# Plot a histogram of the sample\n",
        "plt.hist(sample_means, density=True, bins=20)\n",
        "\n",
        "# Label the plot\n",
        "plt.title('Normal Distribution')\n",
        "plt.xlabel('Value')\n",
        "plt.ylabel('Probability')\n",
        "\n",
        "# Show the plot\n",
        "plt.show()"
      ],
      "metadata": {
        "colab": {
          "base_uri": "https://localhost:8080/",
          "height": 295
        },
        "id": "bltYh0-aXX6K",
        "outputId": "49f0ca0e-3fe1-49c9-f59a-7a01e3a2dd47"
      },
      "execution_count": 5,
      "outputs": [
        {
          "output_type": "display_data",
          "data": {
            "text/plain": [
              "<Figure size 432x288 with 1 Axes>"
            ],
            "image/png": "[encoded data removed]"
          },
          "metadata": {
            "needs_background": "light"
          }
        }
      ]
    },
    {
      "cell_type": "code",
      "source": [
        "# Poisson Example\n",
        "\n",
        "# Set the number of samples\n",
        "n = 10000\n",
        "\n",
        "# Set the lambda parameter\n",
        "lam = 2.5\n",
        "\n",
        "# Generate a poisson sample\n",
        "sample_poisson = np.random.poisson(lam, n)\n",
        "\n",
        "# Plot a histogram of the sample\n",
        "plt.hist(sample_poisson)\n",
        "\n",
        "# Label the plot\n",
        "plt.title('Poisson Distribution')\n",
        "plt.xlabel('Value')\n",
        "plt.ylabel('Probability')\n",
        "\n",
        "# Show the plot\n",
        "plt.show()"
      ],
      "metadata": {
        "colab": {
          "base_uri": "https://localhost:8080/",
          "height": 295
        },
        "id": "xWVogWD0YGT9",
        "outputId": "28e0edd1-f610-49e4-9441-4dce3174f3a6"
      },
      "execution_count": 13,
      "outputs": [
        {
          "output_type": "display_data",
          "data": {
            "text/plain": [
              "<Figure size 432x288 with 1 Axes>"
            ],
            "image/png": "[encoded data removed]"
          },
          "metadata": {
            "needs_background": "light"
          }
        }
      ]
    },
    {
      "cell_type": "code",
      "source": [
        "# Generate a sample mean of the poisson sample 1000 times\n",
        "sample_means = [np.mean(np.random.choice(sample_poisson, 100)) for _ in range(1000)]\n",
        "\n",
        "# Plot a histogram of the sample\n",
        "plt.hist(sample_means)\n",
        "\n",
        "# Label the plot\n",
        "plt.title('Normal Distribution')\n",
        "plt.xlabel('Value')\n",
        "plt.ylabel('Probability')\n",
        "\n",
        "# Show the plot\n",
        "plt.show()"
      ],
      "metadata": {
        "colab": {
          "base_uri": "https://localhost:8080/",
          "height": 295
        },
        "id": "FXoKtdh7YrBm",
        "outputId": "60a9b93a-43de-4a15-e481-8c703191c42a"
      },
      "execution_count": 14,
      "outputs": [
        {
          "output_type": "display_data",
          "data": {
            "text/plain": [
              "<Figure size 432x288 with 1 Axes>"
            ],
            "image/png": "[encoded data removed]"
          },
          "metadata": {
            "needs_background": "light"
          }
        }
      ]
    },
    {
      "cell_type": "code",
      "source": [
        "# Exponentail Distributions\n",
        "\n",
        "# Set the number of samples\n",
        "n = 1000\n",
        "\n",
        "# Set the rate parameter\n",
        "rate = 0.5\n",
        "\n",
        "# Generate an exponential sample\n",
        "sample_exponential = np.random.exponential(1/rate, n)\n",
        "\n",
        "# Plot a histogram of the sample\n",
        "plt.hist(sample_exponential, density=True, bins=20)\n",
        "\n",
        "# Label the plot\n",
        "plt.title('Exponential Distribution')\n",
        "plt.xlabel('Value')\n",
        "plt.ylabel('Probability')\n",
        "\n",
        "# Show the plot\n",
        "plt.show()"
      ],
      "metadata": {
        "colab": {
          "base_uri": "https://localhost:8080/",
          "height": 295
        },
        "id": "HcxEBNWFZPri",
        "outputId": "8fe7083f-565d-4e17-97e7-b72654a6c1b2"
      },
      "execution_count": 16,
      "outputs": [
        {
          "output_type": "display_data",
          "data": {
            "text/plain": [
              "<Figure size 432x288 with 1 Axes>"
            ],
            "image/png": "[encoded data removed]"
          },
          "metadata": {
            "needs_background": "light"
          }
        }
      ]
    },
    {
      "cell_type": "code",
      "source": [
        "# Generate a sample mean of the exponential sample 1000 times\n",
        "sample_means = [np.mean(np.random.choice(sample_exponential, 100)) for _ in range(1000)]\n",
        "\n",
        "# Plot a histogram of the sample\n",
        "plt.hist(sample_means, density=True, bins=20)\n",
        "\n",
        "# Label the plot\n",
        "plt.title('Normal Distribution')\n",
        "plt.xlabel('Value')\n",
        "plt.ylabel('Probability')\n",
        "\n",
        "# Show the plot\n",
        "plt.show()"
      ],
      "metadata": {
        "colab": {
          "base_uri": "https://localhost:8080/",
          "height": 295
        },
        "id": "9bQk81AGZSoY",
        "outputId": "21badb9b-1e5f-4d15-94ad-2fb0ceeee24a"
      },
      "execution_count": 17,
      "outputs": [
        {
          "output_type": "display_data",
          "data": {
            "text/plain": [
              "<Figure size 432x288 with 1 Axes>"
            ],
            "image/png": "[encoded data removed]"
          },
          "metadata": {
            "needs_background": "light"
          }
        }
      ]
    },
    {
      "cell_type": "markdown",
      "source": [
        "Let's discuss the common distributions we see in the data we work with every day.  How does the data generation process impact how you would analyze this data ? Is mean the appropriate model?"
      ],
      "metadata": {
        "id": "tAf8CQgdZbYn"
      }
    },
    {
      "cell_type": "code",
      "source": [
        "# Generate a sample mean of the exponential sample 1000 times\n",
        "sample_means = [np.mean(np.random.choice(sample_exponential, 100)) for _ in range(1000)]\n",
        "\n",
        "# Plot a histogram of the sample\n",
        "plt.hist(sample_means)\n",
        "\n",
        "# Add vertical lines to mark the mean, median and rate parameter\n",
        "plt.axvline(np.mean(sample_means), color='k', linestyle='dashed', linewidth=1)\n",
        "plt.axvline(np.median(sample_means), color='y', linestyle='dotted', linewidth=1)\n",
        "plt.axvline(1/rate, color='r', linestyle='solid', linewidth=1)\n",
        "\n",
        "# Label the plot\n",
        "plt.title('Normal Distribution')"
      ],
      "metadata": {
        "colab": {
          "base_uri": "https://localhost:8080/",
          "height": 298
        },
        "id": "HQpgMGNZaNgP",
        "outputId": "24574c80-e883-4442-caa7-8c12f8fe99ee"
      },
      "execution_count": 20,
      "outputs": [
        {
          "output_type": "execute_result",
          "data": {
            "text/plain": [
              "Text(0.5, 1.0, 'Normal Distribution')"
            ]
          },
          "metadata": {},
          "execution_count": 20
        },
        {
          "output_type": "display_data",
          "data": {
            "text/plain": [
              "<Figure size 432x288 with 1 Axes>"
            ],
            "image/png": "[encoded data removed]"
          },
          "metadata": {
            "needs_background": "light"
          }
        }
      ]
    },
    {
      "cell_type": "code",
      "source": [
        "# Law of large numbers\n",
        "\n",
        "# Set the number of samples\n",
        "n = 1000\n",
        "\n",
        "# Set the probability of success\n",
        "p = 0.5\n",
        "\n",
        "# Generate a binomial sample\n",
        "sample_binomial = np.random.binomial(1, p, n)\n",
        "\n",
        "# Calculate the sample mean\n",
        "sample_mean = np.mean(sample_binomial)\n",
        "\n",
        "# Calculate the theoretical mean\n",
        "theoretical_mean = p\n",
        "\n",
        "# Print the results\n",
        "print('Sample Mean:', sample_mean)\n",
        "print('Theoretical Mean:', theoretical_mean)\n",
        "\n",
        "# Plot a histogram of the sample\n",
        "plt.hist(sample_binomial)\n",
        "\n",
        "# Add vertical lines to mark the sample mean and theoretical mean\n",
        "plt.axvline(sample_mean, color='k', linestyle='dashed', linewidth=1)\n",
        "plt.axvline(theoretical_mean, color='r', linestyle='solid', linewidth=1)\n",
        "\n",
        "# Label the plot\n",
        "plt.title('Binomial Distribution')\n",
        "plt.xlabel('Value')\n",
        "plt.ylabel('Probability')\n",
        "\n",
        "# Show the plot\n",
        "plt.show()"
      ],
      "metadata": {
        "colab": {
          "base_uri": "https://localhost:8080/",
          "height": 330
        },
        "id": "74EXqC98amAz",
        "outputId": "a66085db-13c2-4167-935c-8b9abfef7b31"
      },
      "execution_count": 23,
      "outputs": [
        {
          "output_type": "stream",
          "name": "stdout",
          "text": [
            "Sample Mean: 0.499\n",
            "Theoretical Mean: 0.5\n"
          ]
        },
        {
          "output_type": "display_data",
          "data": {
            "text/plain": [
              "<Figure size 432x288 with 1 Axes>"
            ],
            "image/png": "[encoded data removed]"
          },
          "metadata": {
            "needs_background": "light"
          }
        }
      ]
    },
    {
      "cell_type": "code",
      "source": [
        "\n",
        "# Set the number of samples\n",
        "n = 1000\n",
        "\n",
        "# Set the probability of success\n",
        "p = 0.5\n",
        "\n",
        "# Generate a binomial sample\n",
        "sample_binomial = np.random.binomial(1, p, n)\n",
        "\n",
        "# Calculate the sample mean\n",
        "sample_mean = np.mean(np.random.choice(sample_binomial, 100))\n",
        "\n",
        "# Calculate the theoretical mean\n",
        "theoretical_mean = p\n",
        "\n",
        "# Print the results\n",
        "print('Sample Mean:', sample_mean)\n",
        "print('Theoretical Mean:', theoretical_mean)\n",
        "\n",
        "# Plot a histogram of the sample\n",
        "plt.hist(sample_binomial)\n",
        "\n",
        "# Add vertical lines to mark the sample mean and theoretical mean\n",
        "plt.axvline(sample_mean, color='k', linestyle='dashed', linewidth=1)\n",
        "plt.axvline(theoretical_mean, color='r', linestyle='solid', linewidth=1)\n",
        "\n",
        "# Label the plot\n",
        "plt.title('Binomial Distribution')\n",
        "plt.xlabel('Value')\n",
        "plt.ylabel('Probability')\n",
        "\n",
        "# Show the plot\n",
        "plt.show()"
      ],
      "metadata": {
        "colab": {
          "base_uri": "https://localhost:8080/",
          "height": 330
        },
        "id": "SDBEBZUMbQRu",
        "outputId": "8f74c824-fa70-4e06-be37-aee57dffc5a3"
      },
      "execution_count": 43,
      "outputs": [
        {
          "output_type": "stream",
          "name": "stdout",
          "text": [
            "Sample Mean: 0.5\n",
            "Theoretical Mean: 0.5\n"
          ]
        },
        {
          "output_type": "display_data",
          "data": {
            "text/plain": [
              "<Figure size 432x288 with 1 Axes>"
            ],
            "image/png": "[encoded data removed]"
          },
          "metadata": {
            "needs_background": "light"
          }
        }
      ]
    },
    {
      "cell_type": "markdown",
      "source": [
        "# Customer Data\n",
        "Now lets think about how some of our customer data is generated.\n",
        "What are the various types of data present?  How does that change the type of model you use to evaluate a population?"
      ],
      "metadata": {
        "id": "dU5-f76oc4yr"
      }
    },
    {
      "cell_type": "code",
      "source": [
        "# customer data\n",
        "url = 'https://raw.githubusercontent.com/SSSpock/skillspire/main/customers.csv'\n",
        "customer_df = pd.read_csv(url, index_col=0)\n",
        "\n",
        "# transactiondata\n",
        "url = 'https://raw.githubusercontent.com/SSSpock/skillspire/main/transactions.csv'\n",
        "transaction_df = pd.read_csv(url, index_col=0)\n",
        "\n",
        "# product data\n",
        "url = 'https://raw.githubusercontent.com/SSSpock/skillspire/main/products.csv'\n",
        "product_df = pd.read_csv(url, index_col=0)"
      ],
      "metadata": {
        "id": "25tfO617b7rk"
      },
      "execution_count": null,
      "outputs": []
    }
  ]
}