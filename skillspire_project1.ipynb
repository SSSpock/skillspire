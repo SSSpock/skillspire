{
  "nbformat": 4,
  "nbformat_minor": 0,
  "metadata": {
    "colab": {
      "provenance": [],
      "authorship_tag": "ABX9TyNpykdqnUcWdLHQ37yBzSVp",
      "include_colab_link": true
    },
    "kernelspec": {
      "name": "python3",
      "display_name": "Python 3"
    },
    "language_info": {
      "name": "python"
    }
  },
  "cells": [
    {
      "cell_type": "markdown",
      "metadata": {
        "id": "view-in-github",
        "colab_type": "text"
      },
      "source": [
        "<a href=\"https://colab.research.google.com/github/SSSpock/skillspire/blob/main/skillspire_project1.ipynb\" target=\"_parent\"><img src=\"https://colab.research.google.com/assets/colab-badge.svg\" alt=\"Open In Colab\"/></a>"
      ]
    },
    {
      "cell_type": "markdown",
      "source": [
        "# Instructor Only"
      ],
      "metadata": {
        "id": "qiyJIA5uur3H"
      }
    },
    {
      "cell_type": "code",
      "source": [
        "import pandas as pd\n",
        "import numpy as np\n",
        "import random\n",
        "from datetime import date\n",
        "from datetime import datetime\n",
        "from dateutil.relativedelta import relativedelta\n",
        "\n",
        "!pip install faker\n",
        "import faker"
      ],
      "metadata": {
        "colab": {
          "base_uri": "https://localhost:8080/"
        },
        "id": "6n1A4X-DvFzk",
        "outputId": "cacfeb8a-2151-41b9-c16d-84b93918a523"
      },
      "execution_count": 27,
      "outputs": [
        {
          "output_type": "stream",
          "name": "stdout",
          "text": [
            "Looking in indexes: https://pypi.org/simple, https://us-python.pkg.dev/colab-wheels/public/simple/\n",
            "Collecting faker\n",
            "  Downloading Faker-17.6.0-py3-none-any.whl (1.7 MB)\n",
            "\u001b[2K     \u001b[90m━━━━━━━━━━━━━━━━━━━━━━━━━━━━━━━━━━━━━━━━\u001b[0m \u001b[32m1.7/1.7 MB\u001b[0m \u001b[31m19.5 MB/s\u001b[0m eta \u001b[36m0:00:00\u001b[0m\n",
            "\u001b[?25hRequirement already satisfied: python-dateutil>=2.4 in /usr/local/lib/python3.9/dist-packages (from faker) (2.8.2)\n",
            "Requirement already satisfied: six>=1.5 in /usr/local/lib/python3.9/dist-packages (from python-dateutil>=2.4->faker) (1.15.0)\n",
            "Installing collected packages: faker\n",
            "Successfully installed faker-17.6.0\n"
          ]
        }
      ]
    },
    {
      "cell_type": "code",
      "execution_count": 134,
      "metadata": {
        "colab": {
          "base_uri": "https://localhost:8080/",
          "height": 340
        },
        "id": "bnfqjq92uK03",
        "outputId": "8860d1f7-6827-4293-fecd-b4b7dd9770bd"
      },
      "outputs": [
        {
          "output_type": "execute_result",
          "data": {
            "text/plain": [
              "   customer_id  gender first_name last_name  \\\n",
              "0         1715  Female      Karen   Morales   \n",
              "1        13344  Female      Katie    Wilson   \n",
              "2         1250  Female       Kara    Butler   \n",
              "3        18426  Female     Cassie  Marshall   \n",
              "4         1700    Male       John     Cline   \n",
              "\n",
              "                               email   birthdate creation_date  \\\n",
              "0          Karen.Morales@collins.biz  1985-04-25    2021-08-17   \n",
              "1    Katie.Wilson@dawson-bradley.biz  1982-02-15    2021-09-30   \n",
              "2             Kara.Butler@frank.info  1958-02-18    2022-02-22   \n",
              "3  Cassie.Marshall@evans-watkins.com  1968-07-18    2021-05-31   \n",
              "4      John.Cline@rodriguez-bell.biz  1974-03-08    2022-10-15   \n",
              "\n",
              "  last_purchase_date               city  \n",
              "0               None      South Shannon  \n",
              "1               None      South Shannon  \n",
              "2               None         New Annton  \n",
              "3               None  North Ericchester  \n",
              "4               None        Carriehaven  "
            ],
            "text/html": [
              "\n",
              "  <div id=\"df-0eec1490-6f79-4bb5-8a40-532493f464ed\">\n",
              "    <div class=\"colab-df-container\">\n",
              "      <div>\n",
              "<style scoped>\n",
              "    .dataframe tbody tr th:only-of-type {\n",
              "        vertical-align: middle;\n",
              "    }\n",
              "\n",
              "    .dataframe tbody tr th {\n",
              "        vertical-align: top;\n",
              "    }\n",
              "\n",
              "    .dataframe thead th {\n",
              "        text-align: right;\n",
              "    }\n",
              "</style>\n",
              "<table border=\"1\" class=\"dataframe\">\n",
              "  <thead>\n",
              "    <tr style=\"text-align: right;\">\n",
              "      <th></th>\n",
              "      <th>customer_id</th>\n",
              "      <th>gender</th>\n",
              "      <th>first_name</th>\n",
              "      <th>last_name</th>\n",
              "      <th>email</th>\n",
              "      <th>birthdate</th>\n",
              "      <th>creation_date</th>\n",
              "      <th>last_purchase_date</th>\n",
              "      <th>city</th>\n",
              "    </tr>\n",
              "  </thead>\n",
              "  <tbody>\n",
              "    <tr>\n",
              "      <th>0</th>\n",
              "      <td>1715</td>\n",
              "      <td>Female</td>\n",
              "      <td>Karen</td>\n",
              "      <td>Morales</td>\n",
              "      <td>Karen.Morales@collins.biz</td>\n",
              "      <td>1985-04-25</td>\n",
              "      <td>2021-08-17</td>\n",
              "      <td>None</td>\n",
              "      <td>South Shannon</td>\n",
              "    </tr>\n",
              "    <tr>\n",
              "      <th>1</th>\n",
              "      <td>13344</td>\n",
              "      <td>Female</td>\n",
              "      <td>Katie</td>\n",
              "      <td>Wilson</td>\n",
              "      <td>Katie.Wilson@dawson-bradley.biz</td>\n",
              "      <td>1982-02-15</td>\n",
              "      <td>2021-09-30</td>\n",
              "      <td>None</td>\n",
              "      <td>South Shannon</td>\n",
              "    </tr>\n",
              "    <tr>\n",
              "      <th>2</th>\n",
              "      <td>1250</td>\n",
              "      <td>Female</td>\n",
              "      <td>Kara</td>\n",
              "      <td>Butler</td>\n",
              "      <td>Kara.Butler@frank.info</td>\n",
              "      <td>1958-02-18</td>\n",
              "      <td>2022-02-22</td>\n",
              "      <td>None</td>\n",
              "      <td>New Annton</td>\n",
              "    </tr>\n",
              "    <tr>\n",
              "      <th>3</th>\n",
              "      <td>18426</td>\n",
              "      <td>Female</td>\n",
              "      <td>Cassie</td>\n",
              "      <td>Marshall</td>\n",
              "      <td>Cassie.Marshall@evans-watkins.com</td>\n",
              "      <td>1968-07-18</td>\n",
              "      <td>2021-05-31</td>\n",
              "      <td>None</td>\n",
              "      <td>North Ericchester</td>\n",
              "    </tr>\n",
              "    <tr>\n",
              "      <th>4</th>\n",
              "      <td>1700</td>\n",
              "      <td>Male</td>\n",
              "      <td>John</td>\n",
              "      <td>Cline</td>\n",
              "      <td>John.Cline@rodriguez-bell.biz</td>\n",
              "      <td>1974-03-08</td>\n",
              "      <td>2022-10-15</td>\n",
              "      <td>None</td>\n",
              "      <td>Carriehaven</td>\n",
              "    </tr>\n",
              "  </tbody>\n",
              "</table>\n",
              "</div>\n",
              "      <button class=\"colab-df-convert\" onclick=\"convertToInteractive('df-0eec1490-6f79-4bb5-8a40-532493f464ed')\"\n",
              "              title=\"Convert this dataframe to an interactive table.\"\n",
              "              style=\"display:none;\">\n",
              "        \n",
              "  <svg xmlns=\"http://www.w3.org/2000/svg\" height=\"24px\"viewBox=\"0 0 24 24\"\n",
              "       width=\"24px\">\n",
              "    <path d=\"M0 0h24v24H0V0z\" fill=\"none\"/>\n",
              "    <path d=\"M18.56 5.44l.94 2.06.94-2.06 2.06-.94-2.06-.94-.94-2.06-.94 2.06-2.06.94zm-11 1L8.5 8.5l.94-2.06 2.06-.94-2.06-.94L8.5 2.5l-.94 2.06-2.06.94zm10 10l.94 2.06.94-2.06 2.06-.94-2.06-.94-.94-2.06-.94 2.06-2.06.94z\"/><path d=\"M17.41 7.96l-1.37-1.37c-.4-.4-.92-.59-1.43-.59-.52 0-1.04.2-1.43.59L10.3 9.45l-7.72 7.72c-.78.78-.78 2.05 0 2.83L4 21.41c.39.39.9.59 1.41.59.51 0 1.02-.2 1.41-.59l7.78-7.78 2.81-2.81c.8-.78.8-2.07 0-2.86zM5.41 20L4 18.59l7.72-7.72 1.47 1.35L5.41 20z\"/>\n",
              "  </svg>\n",
              "      </button>\n",
              "      \n",
              "  <style>\n",
              "    .colab-df-container {\n",
              "      display:flex;\n",
              "      flex-wrap:wrap;\n",
              "      gap: 12px;\n",
              "    }\n",
              "\n",
              "    .colab-df-convert {\n",
              "      background-color: #E8F0FE;\n",
              "      border: none;\n",
              "      border-radius: 50%;\n",
              "      cursor: pointer;\n",
              "      display: none;\n",
              "      fill: #1967D2;\n",
              "      height: 32px;\n",
              "      padding: 0 0 0 0;\n",
              "      width: 32px;\n",
              "    }\n",
              "\n",
              "    .colab-df-convert:hover {\n",
              "      background-color: #E2EBFA;\n",
              "      box-shadow: 0px 1px 2px rgba(60, 64, 67, 0.3), 0px 1px 3px 1px rgba(60, 64, 67, 0.15);\n",
              "      fill: #174EA6;\n",
              "    }\n",
              "\n",
              "    [theme=dark] .colab-df-convert {\n",
              "      background-color: #3B4455;\n",
              "      fill: #D2E3FC;\n",
              "    }\n",
              "\n",
              "    [theme=dark] .colab-df-convert:hover {\n",
              "      background-color: #434B5C;\n",
              "      box-shadow: 0px 1px 3px 1px rgba(0, 0, 0, 0.15);\n",
              "      filter: drop-shadow(0px 1px 2px rgba(0, 0, 0, 0.3));\n",
              "      fill: #FFFFFF;\n",
              "    }\n",
              "  </style>\n",
              "\n",
              "      <script>\n",
              "        const buttonEl =\n",
              "          document.querySelector('#df-0eec1490-6f79-4bb5-8a40-532493f464ed button.colab-df-convert');\n",
              "        buttonEl.style.display =\n",
              "          google.colab.kernel.accessAllowed ? 'block' : 'none';\n",
              "\n",
              "        async function convertToInteractive(key) {\n",
              "          const element = document.querySelector('#df-0eec1490-6f79-4bb5-8a40-532493f464ed');\n",
              "          const dataTable =\n",
              "            await google.colab.kernel.invokeFunction('convertToInteractive',\n",
              "                                                     [key], {});\n",
              "          if (!dataTable) return;\n",
              "\n",
              "          const docLinkHtml = 'Like what you see? Visit the ' +\n",
              "            '<a target=\"_blank\" href=https://colab.research.google.com/notebooks/data_table.ipynb>data table notebook</a>'\n",
              "            + ' to learn more about interactive tables.';\n",
              "          element.innerHTML = '';\n",
              "          dataTable['output_type'] = 'display_data';\n",
              "          await google.colab.output.renderOutput(dataTable, element);\n",
              "          const docLink = document.createElement('div');\n",
              "          docLink.innerHTML = docLinkHtml;\n",
              "          element.appendChild(docLink);\n",
              "        }\n",
              "      </script>\n",
              "    </div>\n",
              "  </div>\n",
              "  "
            ]
          },
          "metadata": {},
          "execution_count": 134
        }
      ],
      "source": [
        "# Create Customer Data set\n",
        "\n",
        "# Initialize Faker object\n",
        "fake = faker.Faker()\n",
        "\n",
        "# Set seed for reproducibility\n",
        "random.seed(123)\n",
        "\n",
        "# Set date range for customer creation dates\n",
        "start_date = date.today() + relativedelta(months=-24)\n",
        "\n",
        "# Fake Cities\n",
        "cities = []\n",
        "for _ in range(15):\n",
        "  cities.append(fake.city())\n",
        "\n",
        "# Generate customer information\n",
        "customers = []\n",
        "customer_ids = set()\n",
        "while len(customers) < 500 * 24:\n",
        "  # Generate random customer ID (unique)\n",
        "  customer_id = random.randint(0, 19999)\n",
        "  \n",
        "  while customer_id in customer_ids:\n",
        "    customer_id = random.randint(0, 19999)\n",
        "  \n",
        "  customer_ids.add(customer_id)\n",
        "  \n",
        "  # Generate random gender\n",
        "  gender = random.choice([\"Male\", \"Female\"])\n",
        "\n",
        "  # Generate random first and last name\n",
        "  if gender == \"Male\":\n",
        "      first_name = fake.first_name_male()\n",
        "      last_name = fake.last_name_male()\n",
        "  else:\n",
        "      first_name = fake.first_name_female()\n",
        "      last_name = fake.last_name_female()\n",
        "  \n",
        "  # Generate random email address\n",
        "  email = f\"{first_name}.{last_name}@{fake.domain_name()}\"\n",
        "  \n",
        "  # Generate random birthdate\n",
        "  birthdate = fake.date_of_birth(minimum_age=18, maximum_age=65)\n",
        "  \n",
        "  # Generate random customer creation date\n",
        "  creation_date = fake.date_between(start_date=start_date, end_date=\"today\")\n",
        "\n",
        "  # Generate random last purchase date (Todo)\n",
        "  last_purchase_date = fake.date_between(start_date=start_date, end_date=\"today\")\n",
        "\n",
        "  # Generate City\n",
        "  customer_city = random.choice(cities)\n",
        "\n",
        "  # Append customer information to list\n",
        "  customer_info = {\"customer_id\": customer_id, \"gender\": gender, \"first_name\": first_name, \"last_name\": last_name,\n",
        "                    \"email\": email, \"birthdate\": birthdate, \"creation_date\": creation_date, \"last_purchase_date\": None,\n",
        "                   \"city\":customer_city}\n",
        "  customers.append(customer_info)\n",
        "\n",
        "customer_df = pd.DataFrame(customers)\n",
        "\n",
        "customer_df.head()"
      ]
    },
    {
      "cell_type": "code",
      "source": [
        "# Set seed for reproducibility\n",
        "random.seed(123)\n",
        "\n",
        "# Define product categories and names as dictionary\n",
        "categories = {\n",
        "    \"TVs\": [\n",
        "        \"Samsung 55-Inch 4K UHD Smart TV\",\n",
        "        \"Sony 65-Inch 4K UHD Smart TV\",\n",
        "        \"LG 43-Inch Full HD Smart TV\"\n",
        "    ],\n",
        "    \"Computers\": [\n",
        "        \"Apple MacBook Air 13-Inch Laptop\",\n",
        "        \"Dell XPS 13 Laptop\",\n",
        "        \"HP Pavilion 15-Inch Laptop\"\n",
        "    ],\n",
        "    \"Home Audio\": [\n",
        "        \"Sonos Beam Soundbar\",\n",
        "        \"Bose SoundTouch 300 Soundbar\"\n",
        "    ],\n",
        "    \"Smart Home Devices\": [\n",
        "        \"Amazon Echo Dot (3rd Gen)\",\n",
        "        \"Google Nest Mini\",\n",
        "        \"Ring Video Doorbell\",\n",
        "        \"Nest Hello Video Doorbell\"\n",
        "    ],\n",
        "    \"Phones & Tablets\": [\n",
        "        \"Apple iPhone 12\",\n",
        "        \"Samsung Galaxy S21\",\n",
        "        \"Google Pixel 5\",\n",
        "        \"Apple iPad (8th Gen)\",\n",
        "        \"Samsung Galaxy Tab S7\",\n",
        "        \"Amazon Fire HD 10 Tablet\"\n",
        "    ]\n",
        "}\n",
        "\n",
        "# Generate product information\n",
        "products = []\n",
        "for category, product_names in categories.items():\n",
        "    for product_name in product_names:\n",
        "        # Generate unique 4-digit product ID\n",
        "        product_id = random.randint(1000, 9999)\n",
        "        while product_id in [p[\"product_id\"] for p in products]:\n",
        "            product_id = random.randint(1000, 9999)\n",
        "        \n",
        "        # Generate random gross price and retail price\n",
        "        gross_price = round(random.uniform(50, 1000), 2)\n",
        "        retail_price = round(gross_price * random.uniform(1.1, 1.5), 2)\n",
        "        \n",
        "        # Append product information to list\n",
        "        product_info = {\"product_id\": product_id, \"product_name\": product_name, \"gross_price\": gross_price,\n",
        "                        \"retail_price\": retail_price, \"category\": category}\n",
        "        products.append(product_info)\n",
        "\n",
        "print(products)\n",
        "\n",
        "product_df = pd.DataFrame(products)"
      ],
      "metadata": {
        "colab": {
          "base_uri": "https://localhost:8080/"
        },
        "id": "KHCPFVkv38je",
        "outputId": "b2c67235-1ab3-46c3-97eb-0dc7ce5d4267"
      },
      "execution_count": 81,
      "outputs": [
        {
          "output_type": "stream",
          "name": "stdout",
          "text": [
            "[{'product_id': 1857, 'product_name': 'Samsung 55-Inch 4K UHD Smart TV', 'gross_price': 304.29, 'retail_price': 428.31, 'category': 'TVs'}, {'product_id': 5367, 'product_name': 'Sony 65-Inch 4K UHD Smart TV', 'gross_price': 152.32, 'retail_price': 222.46, 'category': 'TVs'}, {'product_id': 1625, 'product_name': 'LG 43-Inch Full HD Smart TV', 'gross_price': 410.17, 'retail_price': 543.45, 'category': 'TVs'}, {'product_id': 6583, 'product_name': 'Apple MacBook Air 13-Inch Laptop', 'gross_price': 859.48, 'retail_price': 1000.32, 'category': 'Computers'}, {'product_id': 6524, 'product_name': 'Dell XPS 13 Laptop', 'gross_price': 582.91, 'retail_price': 804.81, 'category': 'Computers'}, {'product_id': 3683, 'product_name': 'HP Pavilion 15-Inch Laptop', 'gross_price': 51.59, 'retail_price': 65.75, 'category': 'Computers'}, {'product_id': 2435, 'product_name': 'Sonos Beam Soundbar', 'gross_price': 884.7, 'retail_price': 1106.79, 'category': 'Home Audio'}, {'product_id': 1108, 'product_name': 'Bose SoundTouch 300 Soundbar', 'gross_price': 349.69, 'retail_price': 447.37, 'category': 'Home Audio'}, {'product_id': 1719, 'product_name': 'Amazon Echo Dot (3rd Gen)', 'gross_price': 138.13, 'retail_price': 159.8, 'category': 'Smart Home Devices'}, {'product_id': 1347, 'product_name': 'Google Nest Mini', 'gross_price': 327.21, 'retail_price': 416.29, 'category': 'Smart Home Devices'}, {'product_id': 8813, 'product_name': 'Ring Video Doorbell', 'gross_price': 302.06, 'retail_price': 433.5, 'category': 'Smart Home Devices'}, {'product_id': 5998, 'product_name': 'Nest Hello Video Doorbell', 'gross_price': 376.29, 'retail_price': 534.56, 'category': 'Smart Home Devices'}, {'product_id': 4389, 'product_name': 'Apple iPhone 12', 'gross_price': 830.21, 'retail_price': 1125.35, 'category': 'Phones & Tablets'}, {'product_id': 6165, 'product_name': 'Samsung Galaxy S21', 'gross_price': 61.92, 'retail_price': 90.23, 'category': 'Phones & Tablets'}, {'product_id': 9400, 'product_name': 'Google Pixel 5', 'gross_price': 462.67, 'retail_price': 608.6, 'category': 'Phones & Tablets'}, {'product_id': 8964, 'product_name': 'Apple iPad (8th Gen)', 'gross_price': 544.58, 'retail_price': 690.42, 'category': 'Phones & Tablets'}, {'product_id': 9356, 'product_name': 'Samsung Galaxy Tab S7', 'gross_price': 80.25, 'retail_price': 112.48, 'category': 'Phones & Tablets'}, {'product_id': 3973, 'product_name': 'Amazon Fire HD 10 Tablet', 'gross_price': 739.54, 'retail_price': 837.93, 'category': 'Phones & Tablets'}]\n"
          ]
        }
      ]
    },
    {
      "cell_type": "code",
      "source": [
        "# Set seed for reproducibility\n",
        "random.seed(123)\n",
        "\n",
        "# Set popularity probabilities for product categories\n",
        "category_probs = {\n",
        "    \"TVs\": 0.1,\n",
        "    \"Computers\": 0.2,\n",
        "    \"Home Audio\": 0.15,\n",
        "    \"Smart Home Devices\": 0.3,\n",
        "    \"Phones & Tablets\": 0.25\n",
        "}\n",
        "\n",
        "# Generate transaction information\n",
        "transactions = []\n",
        "transaction_id = 10000\n",
        "start_date = date.today() - relativedelta(months=24)\n",
        "end_date = date.today()\n",
        "date_range = pd.date_range(start=start_date, end=end_date, freq=\"D\")\n",
        "for date in date_range:\n",
        "    # Determine number of transactions on this day based on a probability distribution\n",
        "    num_transactions = int(random.normalvariate(200, 50))\n",
        "    if num_transactions < 1:\n",
        "        num_transactions = 1\n",
        "    \n",
        "    # Create a list of customer IDs for this day's transactions (weighted by gender)\n",
        "    customer_ids = []\n",
        "    for customer in customers:\n",
        "        if customer[\"gender\"] == \"Male\":\n",
        "            customer_ids.extend([customer[\"customer_id\"]] * 5)\n",
        "        else:\n",
        "            customer_ids.extend([customer[\"customer_id\"]] * 6)\n",
        "    random.shuffle(customer_ids)\n",
        "    \n",
        "    # Generate transactions for this day\n",
        "    for i in range(num_transactions):\n",
        "        # Generate random transaction ID\n",
        "        transaction_id += 1\n",
        "        transaction_id_str = str(transaction_id).zfill(5)\n",
        "        \n",
        "        # Select a customer ID (with replacement)\n",
        "        customer_id = random.choice(customer_ids)\n",
        "        \n",
        "      # Calculate popularity probabilities for each product\n",
        "        product_probs = [0] * len(products)\n",
        "        for i, product in enumerate(products):\n",
        "            category = product[\"category\"]\n",
        "            num_products_in_category = sum([p[\"category\"] == category for p in products])\n",
        "            product_probs[i] = category_probs[category] / num_products_in_category\n",
        "\n",
        "        # Select a product category (weighted by popularity probability)\n",
        "        category_idx = np.random.choice(len(products), p=product_probs)\n",
        "        category_products = [p for p in products if p[\"category\"] == products[category_idx][\"category\"]]\n",
        "            \n",
        "        # Select number of products purchased in this transaction\n",
        "        num_products = np.random.choice([1, 2, 3], p=[0.7, 0.2, 0.1])\n",
        "          \n",
        "        # Select products purchased (weighted by retail price)\n",
        "        retail_prices = [p[\"retail_price\"] for p in category_products]\n",
        "        \n",
        "        if num_products > len(category_products):\n",
        "          num_products = len(category_products)\n",
        "          product_indices = np.arange(num_products)\n",
        "        else:\n",
        "          product_indices = np.random.choice(len(category_products), size=num_products, replace=False, p=np.array(retail_prices) / sum(retail_prices))\n",
        "        \n",
        "        product_ids = [category_products[i][\"product_id\"] for i in product_indices]\n",
        "        \n",
        "        # Select transaction amount (equal to total retail price of products purchased)\n",
        "        transaction_amount = sum([p[\"retail_price\"] for p in category_products if p[\"product_id\"] in product_ids])\n",
        "        \n",
        "  # Determine transaction seasonality and holidays\n",
        "        month = transaction_date.month\n",
        "        day = transaction_date.day\n",
        "        if month == 12 and day == 25:  # Christmas\n",
        "            transaction_date += pd.Timedelta(days=random.randint(1, 3))\n",
        "        elif month == 11 and day == 26:  # Black Friday\n",
        "            transaction_date += pd.Timedelta(days=random.randint(0, 2))\n",
        "        elif month == 7 and day == 4:  # Fourth of July\n",
        "            transaction_date += pd.Timedelta(days=random.randint(0, 1))\n",
        "        elif month == 5 and day == 31:  # Memorial Day\n",
        "            transaction_date += pd.Timedelta(days=random.randint(0, 1))\n",
        "        else:\n",
        "            pass\n",
        "        \n",
        "        # Check that transaction date is not earlier than customer creation date\n",
        "        creation_date = [c[\"creation_date\"] for c in customers if c[\"customer_id\"] == customer_id][0]\n",
        "        if transaction_date < creation_date:\n",
        "            transaction_date = creation_date\n",
        "        \n",
        "        # Add transaction to list\n",
        "        transaction_info = {\n",
        "            \"transaction_id\": transaction_id_str,\n",
        "            \"transaction_date\": transaction_date,\n",
        "            \"customer_id\": customer_id,\n",
        "            \"product_ids\": product_ids,\n",
        "            \"num_products\": num_products,\n",
        "            \"transaction_amount\": transaction_amount\n",
        "        }\n",
        "        transactions.append(transaction_info)\n",
        "\n",
        "transaction_df = pd.DataFrame(transactions)\n"
      ],
      "metadata": {
        "id": "xoB3x_4EauWv"
      },
      "execution_count": 135,
      "outputs": []
    },
    {
      "cell_type": "code",
      "source": [
        "from google.colab import drive\n",
        "drive.mount('drive')"
      ],
      "metadata": {
        "colab": {
          "base_uri": "https://localhost:8080/"
        },
        "id": "_i8MzHOQtiRq",
        "outputId": "6d532426-d9e5-42f0-f038-9e0990bf4041"
      },
      "execution_count": 141,
      "outputs": [
        {
          "output_type": "stream",
          "name": "stdout",
          "text": [
            "Mounted at drive\n"
          ]
        }
      ]
    },
    {
      "cell_type": "code",
      "source": [
        "# Export DataFrames\n",
        "transaction_df.to_csv('transactions.csv')\n",
        "product_df.to_csv('products.csv')\n",
        "customer_df.to_csv('customers.csv')\n",
        "\n",
        "# Copy to drive\n",
        "!cp transactions.csv \"drive/My Drive/\"\n",
        "!cp products.csv \"drive/My Drive/\"\n",
        "!cp customers.csv \"drive/My Drive/\""
      ],
      "metadata": {
        "id": "LloPd85HngEm"
      },
      "execution_count": 146,
      "outputs": []
    },
    {
      "cell_type": "markdown",
      "source": [
        "# Ecommerce Metric Project"
      ],
      "metadata": {
        "id": "qcbVvEDMzXUm"
      }
    },
    {
      "cell_type": "markdown",
      "source": [
        "In your first project you will act as early career data scientists at a hyper growth ecommerce startup.  The product team has asked you to create a set of metrics that they can use to understand their product funnel performance.  They would also like a high-level summary of which products are performing the best among various groups of customers.\n",
        "\n"
      ],
      "metadata": {
        "id": "_63IlCQ6uOsn"
      }
    },
    {
      "cell_type": "code",
      "source": [
        "# Imports\n",
        "import pandas as pd\n",
        "import io\n",
        "import sqlite3\n",
        "\n",
        "!pip install ipython-sql"
      ],
      "metadata": {
        "id": "mDs0Mw2Tu7hD"
      },
      "execution_count": 4,
      "outputs": []
    },
    {
      "cell_type": "code",
      "source": [
        "# customer data\n",
        "url = 'https://raw.githubusercontent.com/SSSpock/skillspire/main/customers.csv'\n",
        "customer_df = pd.read_csv(url, index_col=0)\n",
        "\n",
        "# transactiondata\n",
        "url = 'https://raw.githubusercontent.com/SSSpock/skillspire/main/transactions.csv'\n",
        "transaction_df = pd.read_csv(url, index_col=0)\n",
        "\n",
        "# product data\n",
        "url = 'https://raw.githubusercontent.com/SSSpock/skillspire/main/products.csv'\n",
        "product_df = pd.read_csv(url, index_col=0)"
      ],
      "metadata": {
        "id": "gtzlJS3WVTiK"
      },
      "execution_count": 28,
      "outputs": []
    },
    {
      "cell_type": "code",
      "source": [
        "## Getting the Data\n",
        "\n",
        "#Load the sql module to Python\n",
        "%load_ext sql\n",
        "%sql sqlite:///Run_SQL_Jupyter.db\n",
        "\n",
        "#Use the splite library and create a connection\n",
        "cnn = sqlite3.connect(\"Run_SQL_Jupyter.db\")\n",
        "\n",
        "#Add the dataframe df into the sql database\n",
        "transaction_df.to_sql(\"transactions_sql\", cnn) #<- here people will be the name of the table and cnn is just the variable to hold the connection\n",
        "\n",
        "# Add Customer df to sql\n",
        "\n",
        "# Add product df to sql"
      ],
      "metadata": {
        "colab": {
          "base_uri": "https://localhost:8080/"
        },
        "id": "_S9YbxXdnsMw",
        "outputId": "9c038ea5-1e67-4d2b-e0f3-4a2579b63e2e"
      },
      "execution_count": 17,
      "outputs": [
        {
          "output_type": "execute_result",
          "data": {
            "text/plain": [
              "144212"
            ]
          },
          "metadata": {},
          "execution_count": 17
        }
      ]
    },
    {
      "cell_type": "markdown",
      "source": [
        "## Task One\n",
        "Your first objective is the use sql to take the raw tables available to you and create two distinct metrics tables.  These tables should show the core business KPI's and outline the drivers that influence them.\n",
        "\n",
        "The first table should be a \"rolling table\" that has each date as the row and the columns as each product.  In the rows should be a count of how many of that product was purchased on that day.  \n",
        "\n",
        "The second table should show customer level engagement and activity.  Create a table at the Month level that shows whether or not a particular customer was active, transacted, or churned, or reactivated."
      ],
      "metadata": {
        "id": "839OQAGsi1Xd"
      }
    },
    {
      "cell_type": "code",
      "source": [
        "#CELL Magic to run SQL Commands in Python\n",
        "%%sql \n",
        "\n",
        "SELECT \n",
        "  transaction_date, \n",
        "  UNNEST(product_ids)\n",
        "  FROM transactions_sql\n",
        "  GROUP BY TRANSACTION_DATE"
      ],
      "metadata": {
        "colab": {
          "base_uri": "https://localhost:8080/"
        },
        "id": "7-wQElV6vYcT",
        "outputId": "c09f0078-9a58-4b93-f4b3-6be74a5283cc"
      },
      "execution_count": 26,
      "outputs": [
        {
          "output_type": "stream",
          "name": "stdout",
          "text": [
            " * sqlite:///Run_SQL_Jupyter.db\n",
            "(sqlite3.OperationalError) no such function: UNNEST\n",
            "[SQL: SELECT \n",
            "  transaction_date, \n",
            "  UNNEST(product_ids)\n",
            "  FROM transactions_sql\n",
            "  GROUP BY TRANSACTION_DATE]\n",
            "(Background on this error at: https://sqlalche.me/e/14/e3q8)\n"
          ]
        }
      ]
    },
    {
      "cell_type": "markdown",
      "source": [
        "Metric table one\n",
        "rows are the date and columns are product"
      ],
      "metadata": {
        "id": "bwYMXo9yiahu"
      }
    },
    {
      "cell_type": "markdown",
      "source": [
        "## Task Two\n",
        "Import the sql tables you created as dataframes.\n",
        "\n",
        "Go to work generating summary statistics using the pivot table and group by methods that you learned.  Your goal is to roughly be able to describe customer behavior given a set of summary tables.  For example, what is the average number of products purchased at a given time? What is the lifetime value of a customer?  How long before the average customer churns?  \n",
        "Get a general feel for how the business is doing."
      ],
      "metadata": {
        "id": "TZNmTcHOk0RS"
      }
    },
    {
      "cell_type": "markdown",
      "source": [
        "## Task Three\n",
        "Create a powerpoint where are you explaining to the leaders of the business anything you have found that can help drive sales.  This could be popular products, a potential marketing stratgegy targeting a certain group (age, sex, location).  Use real examples from the data and estimate how much your strategy might drive sales."
      ],
      "metadata": {
        "id": "L4spDucclgiX"
      }
    }
  ]
}