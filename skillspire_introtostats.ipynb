{
  "nbformat": 4,
  "nbformat_minor": 0,
  "metadata": {
    "colab": {
      "provenance": [],
      "authorship_tag": "ABX9TyO1mW6QFRtJay5TCgSZ3jai",
      "include_colab_link": true
    },
    "kernelspec": {
      "name": "python3",
      "display_name": "Python 3"
    },
    "language_info": {
      "name": "python"
    }
  },
  "cells": [
    {
      "cell_type": "markdown",
      "metadata": {
        "id": "view-in-github",
        "colab_type": "text"
      },
      "source": [
        "<a href=\"https://colab.research.google.com/github/SSSpock/skillspire/blob/main/skillspire_introtostats.ipynb\" target=\"_parent\"><img src=\"https://colab.research.google.com/assets/colab-badge.svg\" alt=\"Open In Colab\"/></a>"
      ]
    },
    {
      "cell_type": "markdown",
      "source": [
        "This week we are going to begin with the basics and explore populations, parameters, and estimates.  We are going to learn how to take an accurate sample from a population and compare it to other populations."
      ],
      "metadata": {
        "id": "JotuWmCuVONQ"
      }
    },
    {
      "cell_type": "markdown",
      "source": [
        "# Data Generation Processes"
      ],
      "metadata": {
        "id": "VM6rgIEGXFCp"
      }
    },
    {
      "cell_type": "code",
      "execution_count": null,
      "metadata": {
        "colab": {
          "base_uri": "https://localhost:8080/",
          "height": 295
        },
        "id": "3tKLszWvQrgG",
        "outputId": "c2bd906d-9560-4df8-e3b0-95d5bb9df1ef"
      },
      "outputs": [
        {
          "output_type": "display_data",
          "data": {
            "text/plain": [
              "<Figure size 432x288 with 1 Axes>"
            ],
            "image/png": "[encoded data removed]"
          },
          "metadata": {
            "needs_background": "light"
          }
        }
      ],
      "source": [
        "import matplotlib.pyplot as plt\n",
        "import numpy as np\n",
        "import pandas as pd\n",
        "import io\n",
        "import sqlite3\n",
        "from ast import literal_eval\n",
        "\n",
        "# !pip install ipython-sql\n",
        "\n",
        "# Set the size of the binomial sample\n",
        "n = 1000\n",
        "\n",
        "# Generate a binomial sample\n",
        "sample_binomial = np.random.binomial(1, .5, n)\n",
        "\n",
        "# Plot a histogram of the sample\n",
        "plt.hist(sample_binomial, density=True)\n",
        "\n",
        "# Label the plot\n",
        "plt.title('Binomial Distribution')\n",
        "plt.xlabel('Value')\n",
        "plt.ylabel('Probability')\n",
        "\n",
        "# Show the plot\n",
        "plt.show()"
      ]
    },
    {
      "cell_type": "code",
      "source": [
        "sample_binomial.mean()"
      ],
      "metadata": {
        "colab": {
          "base_uri": "https://localhost:8080/"
        },
        "id": "y_uovA00yvlb",
        "outputId": "03f2046e-45fa-4497-b92f-e667a953e234"
      },
      "execution_count": null,
      "outputs": [
        {
          "output_type": "execute_result",
          "data": {
            "text/plain": [
              "0.481"
            ]
          },
          "metadata": {},
          "execution_count": 100
        }
      ]
    },
    {
      "cell_type": "code",
      "source": [
        "# Generate a sample mean of the binomial sample 1000 times\n",
        "sample_means = [np.mean(np.random.choice(sample_binomial, 100)) for _ in range(10000)]\n",
        "\n",
        "# Plot a histogram of the sample\n",
        "plt.hist(sample_means, density=True, bins=20)\n",
        "\n",
        "# Label the plot\n",
        "plt.title('Normal Distribution')\n",
        "plt.xlabel('Value')\n",
        "plt.ylabel('Probability')\n",
        "\n",
        "# Show the plot\n",
        "plt.show()"
      ],
      "metadata": {
        "colab": {
          "base_uri": "https://localhost:8080/",
          "height": 295
        },
        "id": "bltYh0-aXX6K",
        "outputId": "d962b758-cb3d-489b-d190-0b7c00f241a7"
      },
      "execution_count": null,
      "outputs": [
        {
          "output_type": "display_data",
          "data": {
            "text/plain": [
              "<Figure size 432x288 with 1 Axes>"
            ],
            "image/png": "[encoded data removed]"
          },
          "metadata": {
            "needs_background": "light"
          }
        }
      ]
    },
    {
      "cell_type": "code",
      "source": [
        "# Poisson Example\n",
        "\n",
        "# Set the number of samples\n",
        "n = 10000\n",
        "\n",
        "# Set the lambda parameter\n",
        "lam = 1.5\n",
        "\n",
        "# Generate a poisson sample\n",
        "sample_poisson = np.random.poisson(lam, n)\n",
        "\n",
        "# Plot a histogram of the sample\n",
        "plt.hist(sample_poisson)\n",
        "\n",
        "# Label the plot\n",
        "plt.title('Poisson Distribution')\n",
        "plt.xlabel('Value')\n",
        "plt.ylabel('Probability')\n",
        "\n",
        "# Show the plot\n",
        "plt.show()"
      ],
      "metadata": {
        "colab": {
          "base_uri": "https://localhost:8080/",
          "height": 295
        },
        "id": "xWVogWD0YGT9",
        "outputId": "d813f433-79a7-43ed-b12d-b93ab1f639b6"
      },
      "execution_count": null,
      "outputs": [
        {
          "output_type": "display_data",
          "data": {
            "text/plain": [
              "<Figure size 432x288 with 1 Axes>"
            ],
            "image/png": "[encoded data removed]"
          },
          "metadata": {
            "needs_background": "light"
          }
        }
      ]
    },
    {
      "cell_type": "code",
      "source": [
        "# Generate a sample mean of the poisson sample 1000 times\n",
        "sample_means = [np.mean(np.random.choice(sample_poisson, 100)) for _ in range(1000)]\n",
        "\n",
        "# Plot a histogram of the sample\n",
        "plt.hist(sample_means)\n",
        "\n",
        "# Label the plot\n",
        "plt.title('Normal Distribution')\n",
        "plt.xlabel('Value')\n",
        "plt.ylabel('Probability')\n",
        "\n",
        "# Show the plot\n",
        "plt.show()"
      ],
      "metadata": {
        "colab": {
          "base_uri": "https://localhost:8080/",
          "height": 295
        },
        "id": "FXoKtdh7YrBm",
        "outputId": "1c12c4f4-43c9-401d-b31d-7d814c4d2806"
      },
      "execution_count": null,
      "outputs": [
        {
          "output_type": "display_data",
          "data": {
            "text/plain": [
              "<Figure size 432x288 with 1 Axes>"
            ],
            "image/png": "[encoded data removed]"
          },
          "metadata": {
            "needs_background": "light"
          }
        }
      ]
    },
    {
      "cell_type": "code",
      "source": [
        "# Exponentail Distributions\n",
        "\n",
        "# Set the number of samples\n",
        "n = 1000\n",
        "\n",
        "# Set the rate parameter\n",
        "rate = 0.5\n",
        "\n",
        "# Generate an exponential sample\n",
        "sample_exponential = np.random.exponential(1/rate, n)\n",
        "\n",
        "# Plot a histogram of the sample\n",
        "plt.hist(sample_exponential, density=True, bins=20)\n",
        "\n",
        "# Label the plot\n",
        "plt.title('Exponential Distribution')\n",
        "plt.xlabel('Value')\n",
        "plt.ylabel('Probability')\n",
        "\n",
        "# Show the plot\n",
        "plt.show()"
      ],
      "metadata": {
        "colab": {
          "base_uri": "https://localhost:8080/",
          "height": 295
        },
        "id": "HcxEBNWFZPri",
        "outputId": "30c17fde-e6dd-471e-cc48-c950c2d11a65"
      },
      "execution_count": null,
      "outputs": [
        {
          "output_type": "display_data",
          "data": {
            "text/plain": [
              "<Figure size 432x288 with 1 Axes>"
            ],
            "image/png": "[encoded data removed]"
          },
          "metadata": {
            "needs_background": "light"
          }
        }
      ]
    },
    {
      "cell_type": "code",
      "source": [
        "# Generate a sample mean of the exponential sample 1000 times\n",
        "sample_means = [np.mean(np.random.choice(sample_exponential, 100)) for _ in range(1000)]\n",
        "\n",
        "# Plot a histogram of the sample\n",
        "plt.hist(sample_means, density=True, bins=20)\n",
        "\n",
        "# Label the plot\n",
        "plt.title('Normal Distribution')\n",
        "plt.xlabel('Value')\n",
        "plt.ylabel('Probability')\n",
        "\n",
        "# Show the plot\n",
        "plt.show()"
      ],
      "metadata": {
        "colab": {
          "base_uri": "https://localhost:8080/",
          "height": 295
        },
        "id": "9bQk81AGZSoY",
        "outputId": "36d83561-ed98-4128-a534-1aed8a5ab605"
      },
      "execution_count": null,
      "outputs": [
        {
          "output_type": "display_data",
          "data": {
            "text/plain": [
              "<Figure size 432x288 with 1 Axes>"
            ],
            "image/png": "[encoded data removed]"
          },
          "metadata": {
            "needs_background": "light"
          }
        }
      ]
    },
    {
      "cell_type": "markdown",
      "source": [
        "Let's discuss the common distributions we see in the data we work with every day.  How does the data generation process impact how you would analyze this data ? Is mean the appropriate model ? "
      ],
      "metadata": {
        "id": "tAf8CQgdZbYn"
      }
    },
    {
      "cell_type": "code",
      "source": [
        "# Generate a sample mean of the exponential sample 1000 times\n",
        "sample_means = [np.mean(np.random.choice(sample_exponential, 50)) for _ in range(1000)]\n",
        "\n",
        "# Plot a histogram of the sample\n",
        "plt.hist(sample_means)\n",
        "\n",
        "# Add vertical lines to mark the mean, median and rate parameter\n",
        "plt.axvline(np.mean(sample_means), color='k', linestyle='dashed', linewidth=1)\n",
        "plt.axvline(np.median(sample_means), color='y', linestyle='dotted', linewidth=1)\n",
        "plt.axvline(1/rate, color='r', linestyle='solid', linewidth=1)\n",
        "\n",
        "# Label the plot\n",
        "plt.title('Normal Distribution')"
      ],
      "metadata": {
        "colab": {
          "base_uri": "https://localhost:8080/",
          "height": 299
        },
        "id": "HQpgMGNZaNgP",
        "outputId": "dddb7a3f-01bc-4e0f-e197-aa8f8f1e8ba1"
      },
      "execution_count": null,
      "outputs": [
        {
          "output_type": "execute_result",
          "data": {
            "text/plain": [
              "Text(0.5, 1.0, 'Normal Distribution')"
            ]
          },
          "metadata": {},
          "execution_count": 129
        },
        {
          "output_type": "display_data",
          "data": {
            "text/plain": [
              "<Figure size 432x288 with 1 Axes>"
            ],
            "image/png": "[encoded data removed]"
          },
          "metadata": {
            "needs_background": "light"
          }
        }
      ]
    },
    {
      "cell_type": "code",
      "source": [
        "\n",
        "# Set the number of samples\n",
        "n = 1000\n",
        "\n",
        "# Set the probability of success\n",
        "p = 0.5\n",
        "\n",
        "# Generate a binomial sample\n",
        "sample_binomial = np.random.binomial(1, p, n)\n",
        "\n",
        "# Calculate the sample mean\n",
        "sample_mean = np.mean(np.random.choice(sample_binomial, 100))\n",
        "\n",
        "# Calculate the theoretical mean\n",
        "theoretical_mean = p\n",
        "\n",
        "# Print the results\n",
        "print('Sample Mean:', sample_mean)\n",
        "print('Theoretical Mean:', theoretical_mean)\n",
        "\n",
        "# Plot a histogram of the sample\n",
        "plt.hist(sample_binomial)\n",
        "\n",
        "# Add vertical lines to mark the sample mean and theoretical mean\n",
        "plt.axvline(sample_mean, color='k', linestyle='dashed', linewidth=1)\n",
        "plt.axvline(theoretical_mean, color='r', linestyle='solid', linewidth=1)\n",
        "\n",
        "# Label the plot\n",
        "plt.title('Binomial Distribution')\n",
        "plt.xlabel('Value')\n",
        "plt.ylabel('Probability')\n",
        "\n",
        "# Show the plot\n",
        "plt.show()"
      ],
      "metadata": {
        "colab": {
          "base_uri": "https://localhost:8080/",
          "height": 331
        },
        "id": "SDBEBZUMbQRu",
        "outputId": "c99d8333-752d-49bc-f855-a557e8a082b0"
      },
      "execution_count": null,
      "outputs": [
        {
          "output_type": "stream",
          "name": "stdout",
          "text": [
            "Sample Mean: 0.51\n",
            "Theoretical Mean: 0.5\n"
          ]
        },
        {
          "output_type": "display_data",
          "data": {
            "text/plain": [
              "<Figure size 432x288 with 1 Axes>"
            ],
            "image/png": "[encoded data removed]"
          },
          "metadata": {
            "needs_background": "light"
          }
        }
      ]
    },
    {
      "cell_type": "markdown",
      "source": [
        "# Customer Data\n",
        "Now lets think about how some of our customer data is generated.\n",
        "What are the various types of data present?  How does that change the type of model you use to evaluate a population?"
      ],
      "metadata": {
        "id": "dU5-f76oc4yr"
      }
    },
    {
      "cell_type": "code",
      "source": [
        "# customer data\n",
        "url = 'https://raw.githubusercontent.com/SSSpock/skillspire/main/customers.csv'\n",
        "customer_df = pd.read_csv(url, index_col=0)\n",
        "\n",
        "# transactiondata\n",
        "url = 'https://raw.githubusercontent.com/SSSpock/skillspire/main/transactions.csv'\n",
        "transaction_df = pd.read_csv(url, index_col=0)\n",
        "\n",
        "# product data\n",
        "url = 'https://raw.githubusercontent.com/SSSpock/skillspire/main/products.csv'\n",
        "product_df = pd.read_csv(url, index_col=0)"
      ],
      "metadata": {
        "id": "25tfO617b7rk"
      },
      "execution_count": null,
      "outputs": []
    },
    {
      "cell_type": "markdown",
      "source": [
        "# Univariate and Bivariate Analysis\n",
        "\n",
        "In this section, we will cover the basics of univariate and bivariate analysis. Univariate analysis is the analysis of a single variable, while bivariate analysis is the analysis of two variables to understand their relationship. We will go through a brief explanation of each, followed by coded examples demonstrating key principles."
      ],
      "metadata": {
        "id": "QZMFE_O6TJHk"
      }
    },
    {
      "cell_type": "markdown",
      "source": [
        "# Measures of Variance and Standard Deviation\n",
        "Measures of variance, such as standard deviation, describe the spread or dispersion of data within a distribution. In a normal distribution, standard deviation plays a crucial role in determining the proportion of values that lie within specific ranges.\n",
        "\n",
        "The normal distribution, also known as the Gaussian distribution, is a bell-shaped curve that is symmetrical around the mean. In a normal distribution, the mean, median, and mode are equal. The standard deviation (σ) determines the spread of the distribution.\n",
        "\n",
        "For a normal distribution:\n",
        "\n",
        "About 68% of the values lie within one standard deviation (±1σ) from the mean (μ).\n",
        "About 95% of the values lie within two standard deviations (±2σ) from the mean (μ).\n",
        "About 99.7% of the values lie within three standard deviations (±3σ) from the mean (μ).\n",
        "Let's visualize this relationship through a coding example."
      ],
      "metadata": {
        "id": "vhuR2Cjbj5MI"
      }
    },
    {
      "cell_type": "code",
      "source": [
        "import numpy as np\n",
        "import matplotlib.pyplot as plt\n",
        "\n",
        "# Generate a normal distribution with a mean and standard deviation\n",
        "mean = 0\n",
        "std_dev = 1\n",
        "num_samples = 10000\n",
        "data = np.random.normal(mean, std_dev, num_samples)\n",
        "\n",
        "# Plot the histogram and add vertical lines for standard deviations\n",
        "plt.hist(data, bins=50, alpha=0.5, color='blue', density=True)\n",
        "plt.axvline(mean, color='red', linestyle='-', linewidth=2, label='Mean (μ)')\n",
        "plt.axvline(mean + std_dev, color='green', linestyle='--', linewidth=2, label='+1σ')\n",
        "plt.axvline(mean - std_dev, color='green', linestyle='--', linewidth=2, label='-1σ')\n",
        "plt.axvline(mean + 2 * std_dev, color='purple', linestyle='--', linewidth=2, label='+2σ')\n",
        "plt.axvline(mean - 2 * std_dev, color='purple', linestyle='--', linewidth=2, label='-2σ')\n",
        "plt.axvline(mean + 3 * std_dev, color='orange', linestyle='--', linewidth=2, label='+3σ')\n",
        "plt.axvline(mean - 3 * std_dev, color='orange', linestyle='--', linewidth=2, label='-3σ')\n",
        "plt.legend()\n",
        "plt.xlabel('Value')\n",
        "plt.ylabel('Frequency')\n",
        "plt.title('Normal Distribution and Standard Deviation')\n",
        "plt.show()\n"
      ],
      "metadata": {
        "colab": {
          "base_uri": "https://localhost:8080/",
          "height": 295
        },
        "id": "ROwcNp3Uj7F4",
        "outputId": "7dc891fc-1659-4778-e7b5-34cc910f4cd5"
      },
      "execution_count": 12,
      "outputs": [
        {
          "output_type": "display_data",
          "data": {
            "text/plain": [
              "<Figure size 432x288 with 1 Axes>"
            ],
            "image/png": "[encoded data removed]"
          },
          "metadata": {
            "needs_background": "light"
          }
        }
      ]
    },
    {
      "cell_type": "markdown",
      "source": [
        "In this example, we generated a normal distribution with a mean of 0 and a standard deviation of 1. The vertical lines show the mean and standard deviations from the mean. As expected, most of the values are concentrated within the first standard deviation (±1σ) from the mean.\n",
        "\n",
        "Understanding the relationship between standard deviation and the normal distribution is crucial for interpreting and analyzing data. It allows us to estimate the probability of certain values occurring and helps in making informed decisions based on the distribution of the data.\n",
        "\n",
        "\n",
        "\n"
      ],
      "metadata": {
        "id": "TEbLzYD1kEsi"
      }
    },
    {
      "cell_type": "code",
      "source": [],
      "metadata": {
        "id": "MSK4L6-ykD0z"
      },
      "execution_count": null,
      "outputs": []
    },
    {
      "cell_type": "markdown",
      "source": [
        "# Univariate Analysis\n",
        "Univariate analysis involves examining a single variable to understand its distribution, central tendency, and dispersion. Some common techniques used in univariate analysis include histograms, box plots, and probability density functions.\n",
        "\n",
        "Let's create a histogram and a box plot for a dataset using Python"
      ],
      "metadata": {
        "id": "KtT_fsTPTUVy"
      }
    },
    {
      "cell_type": "code",
      "source": [
        "import numpy as np\n",
        "import matplotlib.pyplot as plt\n",
        "import seaborn as sns\n",
        "import pandas as pd\n",
        "\n",
        "# Generate a normal distribution\n",
        "mu = 0\n",
        "sigma = 2\n",
        "num_samples = 1000\n",
        "data = np.random.normal(mu, sigma, num_samples)\n",
        "\n",
        "# Plot a histogram\n",
        "plt.hist(data, bins=50, alpha=0.5, color='blue', density=True)\n",
        "plt.title('Histogram')\n",
        "plt.xlabel('Value')\n",
        "plt.ylabel('Frequency')\n",
        "plt.show()\n",
        "\n",
        "# Plot a box plot\n",
        "sns.boxplot(data)\n",
        "plt.title('Box Plot')\n",
        "plt.xlabel('Variable')\n",
        "plt.show()\n"
      ],
      "metadata": {
        "colab": {
          "base_uri": "https://localhost:8080/",
          "height": 573
        },
        "id": "G6NG-71kTWva",
        "outputId": "90670b19-7185-4e7c-876a-b7180796b048"
      },
      "execution_count": 4,
      "outputs": [
        {
          "output_type": "display_data",
          "data": {
            "text/plain": [
              "<Figure size 432x288 with 1 Axes>"
            ],
            "image/png": "[encoded data removed]"
          },
          "metadata": {
            "needs_background": "light"
          }
        },
        {
          "output_type": "display_data",
          "data": {
            "text/plain": [
              "<Figure size 432x288 with 1 Axes>"
            ],
            "image/png": "[encoded data removed]"
          },
          "metadata": {
            "needs_background": "light"
          }
        }
      ]
    },
    {
      "cell_type": "markdown",
      "source": [
        "# Percentiles and Binning Methods for Skewed Data\n",
        "When data is skewed, it is not symmetrically distributed around the mean, and standard measures of central tendency such as the mean or standard deviation might not accurately describe the data. In these cases, percentiles and binning methods can be helpful for quantifying and analyzing skewed data.\n",
        "\n",
        "Percentiles\n",
        "Percentiles are a measure of relative standing that indicates the percentage of data points below a specific value. For example, the 25th percentile (also known as the first quartile) is the value below which 25% of the data points fall. Percentiles are particularly useful for understanding the distribution of skewed data, as they are less sensitive to extreme values.\n",
        "\n",
        "To calculate percentiles in Python, we can use the numpy.percentile() function:"
      ],
      "metadata": {
        "id": "QUm3dsfzpkGq"
      }
    },
    {
      "cell_type": "code",
      "source": [
        "import numpy as np\n",
        "\n",
        "# Generate skewed data\n",
        "data = np.random.exponential(scale=1, size=1000)\n",
        "\n",
        "# Calculate percentiles\n",
        "p25 = np.percentile(data, 25)\n",
        "p50 = np.percentile(data, 50)\n",
        "p75 = np.percentile(data, 75)\n",
        "\n",
        "print(f'25th percentile: {p25:.2f}')\n",
        "print(f'50th percentile (median): {p50:.2f}')\n",
        "print(f'75th percentile: {p75:.2f}')\n"
      ],
      "metadata": {
        "colab": {
          "base_uri": "https://localhost:8080/"
        },
        "id": "bjvt7Re-pmYA",
        "outputId": "5dd645f7-e493-423c-8531-b225658985c2"
      },
      "execution_count": 13,
      "outputs": [
        {
          "output_type": "stream",
          "name": "stdout",
          "text": [
            "25th percentile: 0.29\n",
            "50th percentile (median): 0.70\n",
            "75th percentile: 1.42\n"
          ]
        }
      ]
    },
    {
      "cell_type": "markdown",
      "source": [
        "# Binning Methods\n",
        "Binning methods involve dividing the data into intervals (bins) and counting the number of data points that fall into each bin. This helps to visualize and analyze the distribution of skewed data.\n",
        "\n",
        "Histograms and box plots are two common binning methods for skewed data:\n",
        "\n",
        "Histogram: A histogram is a bar chart that represents the frequency distribution of a dataset. The data is divided into a set of intervals (bins), and the height of each bar corresponds to the number of data points within that interval."
      ],
      "metadata": {
        "id": "c-7u8I_VpujW"
      }
    },
    {
      "cell_type": "code",
      "source": [
        "import numpy as np\n",
        "import matplotlib.pyplot as plt\n",
        "\n",
        "# Generate skewed data\n",
        "data = np.random.exponential(scale=1, size=1000)\n",
        "\n",
        "# Create a histogram\n",
        "plt.hist(data, bins=30)\n",
        "plt.xlabel('Value')\n",
        "plt.ylabel('Frequency')\n",
        "plt.title('Histogram of Skewed Data')\n",
        "plt.show()\n"
      ],
      "metadata": {
        "colab": {
          "base_uri": "https://localhost:8080/",
          "height": 295
        },
        "id": "z2OGuzoMpwRm",
        "outputId": "b536cc2e-5ff6-4e54-b3d5-b2bce8c540e7"
      },
      "execution_count": 14,
      "outputs": [
        {
          "output_type": "display_data",
          "data": {
            "text/plain": [
              "<Figure size 432x288 with 1 Axes>"
            ],
            "image/png": "[encoded data removed]"
          },
          "metadata": {
            "needs_background": "light"
          }
        }
      ]
    },
    {
      "cell_type": "markdown",
      "source": [
        "# Box Plot: \n",
        "A box plot is a graphical representation of the distribution of a dataset based on quartiles. It displays the median, first quartile (Q1), and third quartile (Q3) as a box, with whiskers extending to the minimum and maximum values within 1.5 times the interquartile range (IQR). Outliers are represented as individual points outside the whiskers."
      ],
      "metadata": {
        "id": "Y6UsjPL9pzIL"
      }
    },
    {
      "cell_type": "code",
      "source": [
        "# Generate skewed data\n",
        "data = np.random.exponential(scale=1, size=1000)\n",
        "\n",
        "# Create a box plot\n",
        "plt.boxplot(data)\n",
        "plt.ylabel('Value')\n",
        "plt.title('Box Plot of Skewed Data')\n",
        "plt.show()\n"
      ],
      "metadata": {
        "colab": {
          "base_uri": "https://localhost:8080/",
          "height": 281
        },
        "id": "DZt3LfXhp5nw",
        "outputId": "e17127cb-b692-4e7c-ca3e-d426e8d4f681"
      },
      "execution_count": 15,
      "outputs": [
        {
          "output_type": "display_data",
          "data": {
            "text/plain": [
              "<Figure size 432x288 with 1 Axes>"
            ],
            "image/png": "[encoded data removed]"
          },
          "metadata": {
            "needs_background": "light"
          }
        }
      ]
    },
    {
      "cell_type": "markdown",
      "source": [
        "By using percentiles and binning methods like histograms and box plots, you can effectively analyze and quantify skewed data, providing better insights into the underlying distribution and potential outliers."
      ],
      "metadata": {
        "id": "lR2yAgHEp_Ry"
      }
    },
    {
      "cell_type": "markdown",
      "source": [
        "# Bivariate Analysis\n",
        "Bivariate analysis involves examining the relationship between two variables. Some common techniques used in bivariate analysis include scatter plots, correlation coefficients, and cross-tabulation.\n",
        "\n",
        "Let's create a scatter plot and compute the correlation coefficient for two variables using Python."
      ],
      "metadata": {
        "id": "_q58LOYMTnpe"
      }
    },
    {
      "cell_type": "code",
      "source": [
        "# Generate two correlated datasets\n",
        "np.random.seed(42)\n",
        "data_x = np.random.normal(0, 2, 1000)\n",
        "data_y = data_x * 1.5 + np.random.normal(0, 1, 1000)\n",
        "\n",
        "# Plot a scatter plot\n",
        "plt.scatter(data_x, data_y, alpha=0.5, color='blue')\n",
        "plt.title('Scatter Plot')\n",
        "plt.xlabel('Data X')\n",
        "plt.ylabel('Data Y')\n",
        "plt.show()\n",
        "\n",
        "# Compute the correlation coefficient\n",
        "correlation = np.corrcoef(data_x, data_y)[0, 1]\n",
        "print(f'Correlation Coefficient: {correlation:.2f}')"
      ],
      "metadata": {
        "colab": {
          "base_uri": "https://localhost:8080/",
          "height": 313
        },
        "id": "VJFEKVpdTcVH",
        "outputId": "a71a696c-bf81-4928-cf2f-c032e3212f17"
      },
      "execution_count": 2,
      "outputs": [
        {
          "output_type": "display_data",
          "data": {
            "text/plain": [
              "<Figure size 432x288 with 1 Axes>"
            ],
            "image/png": "[encoded data removed]"
          },
          "metadata": {
            "needs_background": "light"
          }
        },
        {
          "output_type": "stream",
          "name": "stdout",
          "text": [
            "Correlation Coefficient: 0.95\n"
          ]
        }
      ]
    },
    {
      "cell_type": "code",
      "source": [
        "# Create a sample dataset\n",
        "data = {\n",
        "    'Gender': ['M', 'F', 'M', 'F', 'F', 'M', 'M', 'F', 'F', 'M'],\n",
        "    'Product': ['A', 'A', 'B', 'B', 'A', 'A', 'B', 'A', 'B', 'B']\n",
        "}\n",
        "\n",
        "df = pd.DataFrame(data)\n",
        "\n",
        "# Cross-tabulation\n",
        "cross_tab = pd.crosstab(df['Gender'], df['Product'])\n",
        "print('Cross-tabulation:')\n",
        "print(cross_tab)\n"
      ],
      "metadata": {
        "colab": {
          "base_uri": "https://localhost:8080/"
        },
        "id": "SQt9LNY2UDz7",
        "outputId": "9318d1ab-b76a-4e48-aa85-efca5c1b3e51"
      },
      "execution_count": 5,
      "outputs": [
        {
          "output_type": "stream",
          "name": "stdout",
          "text": [
            "Cross-tabulation:\n",
            "Product  A  B\n",
            "Gender       \n",
            "F        3  2\n",
            "M        2  3\n"
          ]
        }
      ]
    },
    {
      "cell_type": "markdown",
      "source": [
        "In this section, you have learned about univariate and bivariate analysis. You should now be able to perform basic analyses on single variables as well as understand the relationships between two variables.\n",
        "\n",
        "Question\n",
        "Given two datasets data_a and data_b, write code to create a scatter plot, compute the correlation coefficient, and perform cross-tabulation if the data is categorical."
      ],
      "metadata": {
        "id": "C98Dq-rZUPjz"
      }
    },
    {
      "cell_type": "markdown",
      "source": [
        "# Harmonic, Geometric, and Arithmetic Means\n",
        "The harmonic, geometric, and arithmetic means are different ways of calculating the average of a set of numbers. Each mean is appropriate for different types of data or situations. Let's briefly describe each mean and then illustrate their differences through a coding example.\n",
        "\n",
        "## Arithmetic Mean: \n",
        "The arithmetic mean is the most common type of mean. It is calculated by summing all the numbers in a dataset and dividing by the count of the numbers. The arithmetic mean is appropriate for situations where the data is evenly distributed and does not have extreme values.\n",
        "\n",
        "## Geometric Mean: \n",
        "The geometric mean is calculated by multiplying all the numbers in a dataset and then taking the nth root, where n is the count of the numbers. The geometric mean is appropriate for situations where the data is not evenly distributed or has a multiplicative relationship, for example exponential distributions.\n",
        "\n",
        "## Harmonic Mean: \n",
        "The harmonic mean is calculated by taking the reciprocal of the arithmetic mean of the reciprocals of the numbers in a dataset. The harmonic mean is appropriate for situations where the data has a harmonic or reciprocal relationship, such as rates or ratios.\n",
        "\n",
        "Now, let's create a coding example to demonstrate the differences between harmonic, geometric, and arithmetic means."
      ],
      "metadata": {
        "id": "GZ-j3cbgVQ0Y"
      }
    },
    {
      "cell_type": "code",
      "source": [
        "import numpy as np\n",
        "from scipy.stats import hmean, gmean\n",
        "\n",
        "# Create a dataset\n",
        "data = np.array([1, 2, 4, 8, 16, 32])\n",
        "ratio = np.array([1/4, 1/2, 1/4, 1/6, 1/8])\n",
        "\n",
        "# Calculate the arithmetic mean\n",
        "arithmetic_mean = np.mean(data)\n",
        "print(f'Arithmetic Mean: {arithmetic_mean:.2f}')\n",
        "\n",
        "# Calculate the geometric mean\n",
        "geometric_mean = gmean(data)\n",
        "print(f'Geometric Mean: {geometric_mean:.2f}')\n",
        "\n",
        "# Calculate the harmonic mean\n",
        "harmonic_mean = hmean(data)\n",
        "print(f'Harmonic Mean: {harmonic_mean:.2f}')\n"
      ],
      "metadata": {
        "colab": {
          "base_uri": "https://localhost:8080/"
        },
        "id": "cWL-WYkgV9jw",
        "outputId": "ac5c7c9f-7ada-425c-a39f-0d86f3ac92a8"
      },
      "execution_count": 8,
      "outputs": [
        {
          "output_type": "stream",
          "name": "stdout",
          "text": [
            "Arithmetic Mean: 10.50\n",
            "Geometric Mean: 5.66\n",
            "Harmonic Mean: 3.05\n"
          ]
        }
      ]
    },
    {
      "cell_type": "markdown",
      "source": [
        "In this example, we used a dataset with an exponential growth pattern. As expected, the arithmetic mean is the largest, followed by the geometric mean, and finally the harmonic mean, which is the smallest. The geometric mean is a more appropriate measure of central tendency for this dataset due to its multiplicative relationship.\n",
        "\n",
        "Remember to choose the appropriate mean based on the characteristics of your dataset and the relationships between the data points."
      ],
      "metadata": {
        "id": "UwmtAteLWIUJ"
      }
    },
    {
      "cell_type": "markdown",
      "source": [
        "# Continuous vs. Discrete Data\n",
        "Continuous and discrete data are two types of data that require different methods for summarization and analysis. Continuous data can take any value within a specific range, while discrete data can only take distinct or separate values. Using incorrect methods for summarization may lead to incorrect interpretations of the data. Let's explore these differences through examples.\n",
        "\n",
        "Continuous Data\n",
        "Continuous data can take any value within a range, and it often involves measurements or quantities, such as height, weight, or temperature. When analyzing continuous data, we typically use methods that account for the continuous nature of the data, such as histograms, probability density functions, and measures of central tendency like the mean or median."
      ],
      "metadata": {
        "id": "JucnhIDtiDbt"
      }
    },
    {
      "cell_type": "code",
      "source": [
        "import numpy as np\n",
        "import matplotlib.pyplot as plt\n",
        "\n",
        "# Generate continuous data (heights in centimeters)\n",
        "heights = np.random.normal(170, 10, 1000)\n",
        "\n",
        "# Correct method: Using a histogram\n",
        "plt.subplot(1, 2, 1)\n",
        "plt.hist(heights, bins=10)\n",
        "plt.title('Correct: Histogram')\n",
        "plt.xlabel('Height (cm)')\n",
        "plt.ylabel('Frequency')\n",
        "\n",
        "# Incorrect method: Using a bar chart\n",
        "unique_heights, counts = np.unique(heights.astype(int), return_counts=True)\n",
        "plt.subplot(1, 2, 2)\n",
        "plt.bar(unique_heights, counts)\n",
        "plt.title('Incorrect: Bar Chart')\n",
        "plt.xlabel('Height (cm)')\n",
        "plt.ylabel('Frequency')\n",
        "\n",
        "plt.tight_layout()\n",
        "plt.show()\n"
      ],
      "metadata": {
        "colab": {
          "base_uri": "https://localhost:8080/",
          "height": 297
        },
        "id": "b9K8MsNhWFT1",
        "outputId": "57c68b2a-42fe-43a0-9489-221edcadc24c"
      },
      "execution_count": 11,
      "outputs": [
        {
          "output_type": "display_data",
          "data": {
            "text/plain": [
              "<Figure size 432x288 with 2 Axes>"
            ],
            "image/png": "[encoded data removed]"
          },
          "metadata": {
            "needs_background": "light"
          }
        }
      ]
    },
    {
      "cell_type": "markdown",
      "source": [
        "In this example, using a histogram is the correct method for visualizing the continuous data (heights), while using a bar chart leads to an incorrect representation of the data.\n",
        "\n",
        "Discrete Data\n",
        "Discrete data can only take distinct or separate values, and it often involves counts or categories, such as the number of siblings or the type of pets owned. When analyzing discrete data, we typically use methods that account for the discrete nature of the data, such as bar charts, pie charts, and measures of central tendency like the mode."
      ],
      "metadata": {
        "id": "_lXL4O2PihTl"
      }
    },
    {
      "cell_type": "code",
      "source": [
        "# Generate discrete data (number of siblings)\n",
        "siblings = np.random.randint(0, 6, 1000)\n",
        "\n",
        "# Incorrect method: Using a histogram\n",
        "plt.subplot(1, 2, 1)\n",
        "plt.hist(siblings, bins=np.arange(-0.5, 6.5, 1), rwidth=0.8)\n",
        "plt.title('Incorrect: Histogram')\n",
        "plt.xlabel('Number of Siblings')\n",
        "plt.ylabel('Frequency')\n",
        "\n",
        "# Correct method: Using a bar chart\n",
        "plt.subplot(1, 2, 2)\n",
        "plt.bar(np.unique(siblings), np.bincount(siblings))\n",
        "plt.title('Correct: Bar Chart')\n",
        "plt.xlabel('Number of Siblings')\n",
        "plt.ylabel('Frequency')\n",
        "\n",
        "plt.tight_layout()\n",
        "plt.show()\n"
      ],
      "metadata": {
        "colab": {
          "base_uri": "https://localhost:8080/",
          "height": 297
        },
        "id": "_PFru7Caiiiz",
        "outputId": "aa9293d2-967b-46e1-cf7e-51b77575deaa"
      },
      "execution_count": 10,
      "outputs": [
        {
          "output_type": "display_data",
          "data": {
            "text/plain": [
              "<Figure size 432x288 with 2 Axes>"
            ],
            "image/png": "[encoded data removed]"
          },
          "metadata": {
            "needs_background": "light"
          }
        }
      ]
    },
    {
      "cell_type": "markdown",
      "source": [
        "# Statistical Inference: Point Estimates and Confidence Intervals\n",
        "Statistical inference is the process of drawing conclusions about a population based on a sample from that population. In this context, we often use point estimates and confidence intervals to make inferences about population parameters.\n",
        "\n",
        "# Point Estimates\n",
        "A point estimate is a single value that serves as our best guess for the true value of a population parameter. Common point estimates include the sample mean (for estimating the population mean) and the sample proportion (for estimating the population proportion).\n",
        "\n",
        "However, point estimates are subject to sampling variance, which means that different samples from the same population might produce different point estimates. Sampling variance arises because a sample is only a subset of the population, and it might not perfectly represent the entire population.\n",
        "\n",
        "# Confidence Intervals\n",
        "To account for sampling variance, we use confidence intervals. A confidence interval is a range of values within which we believe the true population parameter is likely to fall, with a certain level of confidence. The level of confidence, often expressed as a percentage (e.g., 95%), represents the probability that the confidence interval will contain the population parameter if the sampling process were repeated many times.\n",
        "\n",
        "A confidence interval consists of two parts:\n",
        "\n",
        "The point estimate (e.g., sample mean or sample proportion)\n",
        "The margin of error, which depends on the desired level of confidence and the sampling variability (usually represented by the standard error)\n",
        "Calculating a confidence interval involves using the point estimate and adding/subtracting the margin of error. For example, for a 95% confidence interval for a population mean, we would calculate it as follows:"
      ],
      "metadata": {
        "id": "n8wMe1gNr5vk"
      }
    },
    {
      "cell_type": "code",
      "source": [
        "import numpy as np\n",
        "\n",
        "# Generate a sample from a population\n",
        "population = np.random.normal(50, 5, 10000)\n",
        "sample = np.random.choice(population, size=100)\n",
        "\n",
        "# Calculate the point estimate (sample mean)\n",
        "point_estimate = np.mean(sample)\n",
        "\n",
        "# Calculate the standard error\n",
        "standard_error = np.std(sample, ddof=1) / np.sqrt(len(sample))\n",
        "\n",
        "# Calculate the 95% confidence interval\n",
        "margin_of_error = 1.96 * standard_error\n",
        "confidence_interval = (point_estimate - margin_of_error, point_estimate + margin_of_error)\n",
        "\n",
        "print(f'Point Estimate: {point_estimate:.2f}')\n",
        "print(f'95% Confidence Interval: ({confidence_interval[0]:.2f}, {confidence_interval[1]:.2f})')\n"
      ],
      "metadata": {
        "colab": {
          "base_uri": "https://localhost:8080/"
        },
        "id": "QDg4Yoyqr_VS",
        "outputId": "1386409c-2d97-4f97-c184-8851d0bc8904"
      },
      "execution_count": 18,
      "outputs": [
        {
          "output_type": "stream",
          "name": "stdout",
          "text": [
            "Point Estimate: 50.33\n",
            "95% Confidence Interval: (49.37, 51.28)\n"
          ]
        }
      ]
    },
    {
      "cell_type": "markdown",
      "source": [
        "\n",
        "In this example, we generated a sample from a population and calculated the point estimate (sample mean) and the 95% confidence interval for the population mean. The confidence interval provides a range of values that likely contains the true population mean with a 95% level of confidence.\n",
        "\n",
        "Understanding the difference between point estimates and confidence intervals is crucial in statistical inference, as it allows you to make more informed decisions and account for sampling variance when drawing conclusions about a population based on a sample."
      ],
      "metadata": {
        "id": "WAgPCaVcsRav"
      }
    },
    {
      "cell_type": "markdown",
      "source": [
        "# Bootstrapped Confidence Intervals\n",
        "Bootstrapping is a resampling technique used to estimate the sampling distribution of a statistic by repeatedly resampling from the original sample with replacement. Bootstrapped confidence intervals are an alternative to traditional parametric confidence intervals and can be particularly useful when the underlying distribution is not known or not normally distributed.\n",
        "\n",
        "# Bootstrapped confidence intervals follow these steps:\n",
        "\n",
        "Draw a random sample of size n from the original sample with replacement (called a bootstrap sample).\n",
        "Calculate the statistic of interest (e.g., mean, median, proportion) for the bootstrap sample.\n",
        "Repeat steps 1 and 2 a large number of times (e.g., 1000 or 10000) to generate a distribution of the statistic of interest.\n",
        "Calculate the confidence interval based on the desired level of confidence (e.g., 95%) using the distribution of the statistic obtained in step 3.\n",
        "Let's demonstrate how to create bootstrapped confidence intervals using Python"
      ],
      "metadata": {
        "id": "kBFS57nzs9lW"
      }
    },
    {
      "cell_type": "code",
      "source": [
        "import numpy as np\n",
        "\n",
        "def bootstrap(sample, statistic, num_iterations=1000, ci=95):\n",
        "    \"\"\"\n",
        "    Calculate bootstrapped confidence interval for a given sample and statistic.\n",
        "    \n",
        "    Args:\n",
        "        sample (array-like): The original sample data.\n",
        "        statistic (function): The statistic function to apply on each bootstrap sample.\n",
        "        num_iterations (int): The number of bootstrap iterations.\n",
        "        ci (float): The desired confidence level (in percentage).\n",
        "\n",
        "    Returns:\n",
        "        tuple: Lower and upper bounds of the bootstrapped confidence interval.\n",
        "    \"\"\"\n",
        "    bootstrap_samples = np.random.choice(sample, size=(num_iterations, len(sample)), replace=True)\n",
        "    bootstrap_statistics = np.apply_along_axis(statistic, 1, bootstrap_samples)\n",
        "    \n",
        "    lower_bound = np.percentile(bootstrap_statistics, (100 - ci) / 2)\n",
        "    upper_bound = np.percentile(bootstrap_statistics, 100 - (100 - ci) / 2)\n",
        "    \n",
        "    return lower_bound, upper_bound\n",
        "\n",
        "# Generate a sample from a population\n",
        "population = np.random.normal(50, 5, 10000)\n",
        "sample = np.random.choice(population, size=100)\n",
        "\n",
        "# Calculate bootstrapped 95% confidence interval for the mean\n",
        "ci_lower, ci_upper = bootstrap(sample, np.mean, num_iterations=1000, ci=95)\n",
        "\n",
        "print(f'Bootstrapped 95% Confidence Interval for the Mean: ({ci_lower:.2f}, {ci_upper:.2f})')\n"
      ],
      "metadata": {
        "colab": {
          "base_uri": "https://localhost:8080/"
        },
        "id": "PRSHJFVStDjc",
        "outputId": "7ba37167-e704-4e26-e09c-308cc458ca28"
      },
      "execution_count": 19,
      "outputs": [
        {
          "output_type": "stream",
          "name": "stdout",
          "text": [
            "Bootstrapped 95% Confidence Interval for the Mean: (49.59, 51.34)\n"
          ]
        }
      ]
    },
    {
      "cell_type": "markdown",
      "source": [
        "In this example, we generated a sample from a population and calculated a bootstrapped 95% confidence interval for the population mean. The bootstrap function takes the original sample, the statistic of interest, the number of bootstrap iterations, and the desired confidence level as input and returns the bootstrapped confidence interval.\n",
        "\n",
        "Bootstrapped confidence intervals can be a powerful tool for statistical inference, especially when the underlying distribution is not known or not normally distributed, as they make fewer assumptions about the data and rely on the empirical distribution of the sample."
      ],
      "metadata": {
        "id": "epzJAaswtLYJ"
      }
    },
    {
      "cell_type": "markdown",
      "source": [
        "# Inferential Statistical Models"
      ],
      "metadata": {
        "id": "dCKSfkN0tnzw"
      }
    },
    {
      "cell_type": "markdown",
      "source": [
        "# Statistical Inference: Degree of Models/Assumptions\n",
        "When performing statistical inference, we often have to make assumptions about the underlying distribution of the data or the relationships between variables. The degree of assumptions we make varies depending on the model or method we choose. In general, there are three classes of models based on their assumptions: fully parametric, non-parametric, and semi-parametric.\n",
        "\n",
        "# Fully Parametric Models\n",
        "Fully parametric models assume that the data follow a specific distribution, such as the normal distribution, and that the relationships between variables can be described by a set of parameters. Examples of fully parametric models include linear regression, logistic regression, and analysis of variance (ANOVA).\n",
        "\n",
        "# Example: Linear Regression\n",
        "\n",
        "In linear regression, we assume that the relationship between the response variable (Y) and the predictor variable(s) (X) can be described by a linear function, and that the errors are normally distributed with constant variance."
      ],
      "metadata": {
        "id": "5Wx9BhpQuWvW"
      }
    },
    {
      "cell_type": "code",
      "source": [
        "from sklearn.linear_model import LinearRegression\n",
        "\n",
        "# Generate synthetic data\n",
        "np.random.seed(42)\n",
        "X = np.random.rand(50)\n",
        "Y = 2 * X + 1 + np.random.normal(0, 0.1, 50)\n",
        "\n",
        "# Fit a linear regression model\n",
        "model = LinearRegression()\n",
        "model.fit(X.reshape(-1, 1), Y)\n",
        "\n",
        "# Predict and plot\n",
        "predictions = model.predict(X.reshape(-1, 1))\n",
        "plt.scatter(X, Y)\n",
        "plt.plot(X, predictions, color='red')\n",
        "plt.xlabel('X')\n",
        "plt.ylabel('Y')\n",
        "plt.show()\n"
      ],
      "metadata": {
        "colab": {
          "base_uri": "https://localhost:8080/",
          "height": 279
        },
        "id": "OHD2NM0PuVqg",
        "outputId": "f767a0b7-eda1-4e0f-e207-fb73d470a89b"
      },
      "execution_count": 20,
      "outputs": [
        {
          "output_type": "display_data",
          "data": {
            "text/plain": [
              "<Figure size 432x288 with 1 Axes>"
            ],
            "image/png": "[encoded data removed]"
          },
          "metadata": {
            "needs_background": "light"
          }
        }
      ]
    },
    {
      "cell_type": "markdown",
      "source": [
        "# Non-Parametric Models\n",
        "Non-parametric models do not make any assumptions about the underlying distribution of the data or the functional form of the relationships between variables. They are more flexible than parametric models and can adapt to a wide range of data patterns. Examples of non-parametric models include k-nearest neighbors, kernel density estimation, and decision trees.\n",
        "\n",
        "# Example: k-Nearest Neighbors\n",
        "\n",
        "In k-nearest neighbors (k-NN) classification, we predict the class of a new data point based on the majority class of its k-nearest neighbors in the training data."
      ],
      "metadata": {
        "id": "ezVX3nuNul73"
      }
    },
    {
      "cell_type": "code",
      "source": [
        "from sklearn.datasets import make_classification\n",
        "from sklearn.neighbors import KNeighborsClassifier\n",
        "\n",
        "# Generate synthetic data\n",
        "X, y = make_classification(n_samples=100, n_features=2, n_informative=2, n_redundant=0, random_state=42)\n",
        "\n",
        "# Fit a k-NN classifier with k=3\n",
        "knn = KNeighborsClassifier(n_neighbors=3)\n",
        "knn.fit(X, y)\n",
        "\n",
        "# Predict and plot\n",
        "predictions = knn.predict(X)\n",
        "plt.scatter(X[:, 0], X[:, 1], c=predictions, cmap=plt.cm.Set1)\n",
        "plt.xlabel('X1')\n",
        "plt.ylabel('X2')\n",
        "plt.show()\n"
      ],
      "metadata": {
        "colab": {
          "base_uri": "https://localhost:8080/",
          "height": 279
        },
        "id": "Elk5uMitupRR",
        "outputId": "0e37206e-c014-4adb-db6d-e0c1c90d6352"
      },
      "execution_count": 21,
      "outputs": [
        {
          "output_type": "display_data",
          "data": {
            "text/plain": [
              "<Figure size 432x288 with 1 Axes>"
            ],
            "image/png": "[encoded data removed]"
          },
          "metadata": {
            "needs_background": "light"
          }
        }
      ]
    },
    {
      "cell_type": "markdown",
      "source": [
        "# Semi-Parametric Models\n",
        "Semi-parametric models make some assumptions about the data or relationships between variables but are more flexible than fully parametric models. They combine parametric and non-parametric techniques to strike a balance between the simplicity of parametric models and the flexibility of non-parametric models. Examples of semi-parametric models include generalized additive models (GAMs) and Cox proportional hazards models.\n",
        "\n",
        "# Example: Generalized Additive Model (GAM)\n",
        "\n",
        "In generalized additive models, we assume that the relationship between the response variable (Y) and the predictor variable(s) (X) can be described by a sum of smooth functions, allowing for more flexibility than linear regression."
      ],
      "metadata": {
        "id": "EXShjSSHuyxq"
      }
    },
    {
      "cell_type": "code",
      "source": [
        "import numpy as np\n",
        "import pandas as pd\n",
        "import matplotlib.pyplot as plt\n",
        "from pygam import LinearGAM\n",
        "from pygam.datasets import wage\n",
        "\n",
        "# Load the wage dataset\n",
        "X, y = wage()\n",
        "\n",
        "# Fit a GAM with a spline term for the first predictor variable (age)\n",
        "gam = LinearGAM(n_splines=10).gridsearch(X, y)\n",
        "\n",
        "# Generate a grid of values for the predictor variable (age)\n",
        "X_grid = gam.generate_X_grid(term=0)\n",
        "\n",
        "# Calculate the partial dependence and confidence intervals\n",
        "partial_dep, confidence_intervals = gam.partial_dependence(term=0, X=X_grid, width=0.95)\n",
        "\n",
        "# Plot the partial dependence of the response variable on the first predictor variable\n",
        "plt.figure()\n",
        "plt.plot(X_grid[:, 0], partial_dep, label=\"Partial dependence\")\n",
        "plt.fill_between(X_grid[:, 0], confidence_intervals[:, 0], confidence_intervals[:, 1], alpha=0.25, label=\"95% CI\")\n",
        "plt.xlabel('Age')\n",
        "plt.ylabel('Partial dependence')\n",
        "plt.legend()\n",
        "plt.show()\n"
      ],
      "metadata": {
        "colab": {
          "base_uri": "https://localhost:8080/",
          "height": 299
        },
        "id": "8v4MWNowuyNC",
        "outputId": "14ce4279-f4e7-4bc3-b851-c9cc9a8bdd86"
      },
      "execution_count": 29,
      "outputs": [
        {
          "output_type": "stream",
          "name": "stderr",
          "text": [
            "100% (11 of 11) |########################| Elapsed Time: 0:00:00 Time:  0:00:00\n"
          ]
        },
        {
          "output_type": "display_data",
          "data": {
            "text/plain": [
              "<Figure size 432x288 with 1 Axes>"
            ],
            "image/png": "[encoded data removed]"
          },
          "metadata": {
            "needs_background": "light"
          }
        }
      ]
    },
    {
      "cell_type": "markdown",
      "source": [
        "In this example, we used the pygam library to fit a generalized additive model (GAM) to the wage dataset, which contains information about people's wages and their characteristics. We included a spline term for the first predictor variable, allowing for a flexible, smooth relationship between the response variable (wage) and the predictor variable. The plot shows the partial dependence of the wage on the first predictor variable.\n",
        "\n",
        "In summary, fully parametric models make strong assumptions about the data and the relationships between variables, non-parametric models make few or no assumptions, and semi-parametric models strike a balance between the two. The choice of model depends on the specific problem, the data at hand, and the desired balance between simplicity and flexibility."
      ],
      "metadata": {
        "id": "L67iNxxtvnar"
      }
    }
  ]
}