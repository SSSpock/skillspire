{
  "nbformat": 4,
  "nbformat_minor": 0,
  "metadata": {
    "colab": {
      "provenance": [],
      "authorship_tag": "ABX9TyOzyeHtH+9Qz6GFc9ZL9Ieo",
      "include_colab_link": true
    },
    "kernelspec": {
      "name": "python3",
      "display_name": "Python 3"
    },
    "language_info": {
      "name": "python"
    }
  },
  "cells": [
    {
      "cell_type": "markdown",
      "metadata": {
        "id": "view-in-github",
        "colab_type": "text"
      },
      "source": [
        "<a href=\"https://colab.research.google.com/github/SSSpock/skillspire/blob/main/intro_to_ml.ipynb\" target=\"_parent\"><img src=\"https://colab.research.google.com/assets/colab-badge.svg\" alt=\"Open In Colab\"/></a>"
      ]
    },
    {
      "cell_type": "markdown",
      "source": [
        "# Topic Introduction: Introduction to Machine Learning"
      ],
      "metadata": {
        "id": "soH1pvqGRTJF"
      }
    },
    {
      "cell_type": "markdown",
      "source": [
        "## Definition of Machine Learning\n",
        "Machine learning is a subfield of artificial intelligence that focuses on developing algorithms that enable computers to learn from and make predictions or decisions based on data. It involves feeding the algorithms large amounts of data to identify patterns and make data-driven decisions."
      ],
      "metadata": {
        "id": "pFv-wKirRWmv"
      }
    },
    {
      "cell_type": "markdown",
      "source": [
        "## Types of Machine Learning"
      ],
      "metadata": {
        "id": "xK9Ki1etRddC"
      }
    },
    {
      "cell_type": "markdown",
      "source": [
        "## Supervised Learning\n",
        "In supervised learning, algorithms learn from labeled training data, where the correct output is provided. The goal is to learn a mapping function from input features to output labels. Common supervised learning tasks include classification (categorical output) and regression (continuous output)."
      ],
      "metadata": {
        "id": "PO6ofBFZRgFD"
      }
    },
    {
      "cell_type": "markdown",
      "source": [
        "i. Linear Regression\n",
        "- Use: Regression tasks, predicting a continuous target variable\n",
        "- Benefits: Simple, easy to interpret, fast to train\n",
        "- Shortfalls: Assumes linear relationship between features and target, sensitive to outliers\n",
        "\n",
        "ii. Logistic Regression\n",
        "- Use: Classification tasks, predicting a binary target variable\n",
        "- Benefits: Simple, fast to train, provides probabilities\n",
        "- Shortfalls: Assumes linear decision boundary, sensitive to outliers\n",
        "\n",
        "iii. Random Forest\n",
        "- Use: Classification and regression tasks\n",
        "- Benefits: Handles non-linear relationships, less prone to overfitting, can handle missing data\n",
        "- Shortfalls: Can be slow to train and predict, complex model, difficult to interpret\n",
        "\n",
        "iv. Support Vector Machines\n",
        "- Use: Classification and regression tasks\n",
        "- Benefits: Handles non-linear relationships, robust to noise, can handle high-dimensional data\n",
        "- Shortfalls: Slow to train on large datasets, sensitive to hyperparameter choices, difficult to interpret"
      ],
      "metadata": {
        "id": "x4SWHnHhTZb_"
      }
    },
    {
      "cell_type": "markdown",
      "source": [
        "## Unsupervised Learning\n",
        "Unsupervised learning algorithms are used when the training data is not labeled, meaning there is no explicit output for the algorithm to learn from. The goal is to identify underlying structures, patterns, or relationships in the data. Clustering (grouping similar data points) and dimensionality reduction (reducing the number of features) are common unsupervised learning tasks."
      ],
      "metadata": {
        "id": "mkFRo1sLRgKc"
      }
    },
    {
      "cell_type": "markdown",
      "source": [
        "b. Unsupervised Learning Algorithms\n",
        "i. K-means Clustering\n",
        "- Use: Clustering tasks, grouping similar data points\n",
        "- Benefits: Simple, fast to train, easy to interpret\n",
        "- Shortfalls: Assumes spherical clusters, sensitive to initialization, requires specifying the number of clusters\n",
        "\n",
        "ii. Principal Component Analysis (PCA)\n",
        "- Use: Dimensionality reduction tasks, reducing the number of features\n",
        "- Benefits: Reduces noise, improves performance of other algorithms, helps with visualization\n",
        "- Shortfalls: Assumes linear relationships between features, results can be difficult to interpret"
      ],
      "metadata": {
        "id": "NEXuj5FnTeYV"
      }
    },
    {
      "cell_type": "markdown",
      "source": [
        "## Reinforcement Learning\n",
        "Reinforcement learning algorithms learn through trial and error by interacting with an environment. The algorithm takes actions and receives feedback in the form of rewards or penalties. The goal is to learn an optimal policy that maximizes the cumulative reward over time."
      ],
      "metadata": {
        "id": "IHxuWoahRgOu"
      }
    },
    {
      "cell_type": "markdown",
      "source": [
        "c. Reinforcement Learning Algorithms\n",
        "i. Q-Learning\n",
        "- Use: Learning an optimal policy in a discrete state and action space\n",
        "- Benefits: Simple, can handle non-linear relationships, learns from past experience\n",
        "- Shortfalls: Requires a discrete state and action space, can be slow to converge\n",
        "\n",
        "ii. Deep Q-Network (DQN)\n",
        "- Use: Learning an optimal policy in a continuous state and/or action space\n",
        "- Benefits: Can handle non-linear relationships, generalizes to continuous state and action spaces\n",
        "- Shortfalls: Requires a deep neural network, can be slow to train, can be unstabl"
      ],
      "metadata": {
        "id": "c-Y5Y2rmTi4Y"
      }
    },
    {
      "cell_type": "markdown",
      "source": [
        "## Semi-Supervised Learning\n",
        "Semi-supervised learning is a combination of supervised and unsupervised learning techniques. It involves using a small amount of labeled data and a large amount of unlabeled data. The algorithm leverages the structure in the unlabeled data to improve its performance on the labeled data. It is particularly useful when obtaining labeled data is expensive or time-consuming."
      ],
      "metadata": {
        "id": "LL1TlGK-RgRe"
      }
    },
    {
      "cell_type": "markdown",
      "source": [
        "## Applications of Machine Learning\n",
        "i. Natural Language Processing (NLP)\n",
        "\n",
        "ii. Image and Video Recognition\n",
        "\n",
        "iii. Speech Recognition\n",
        "\n",
        "iv. Medical Diagnosis\n",
        "\n",
        "v. Financial Analysis\n",
        "\n",
        "vi. Self-Driving Cars\n",
        "\n",
        "vii. Recommender Systems\n",
        "\n",
        "viii. Anomaly Detection"
      ],
      "metadata": {
        "id": "LQr22DkxR8pI"
      }
    },
    {
      "cell_type": "markdown",
      "source": [
        "# Topic Deep Dive: Key Concepts and Theory"
      ],
      "metadata": {
        "id": "bt83G5-qT8bM"
      }
    },
    {
      "cell_type": "markdown",
      "source": [
        "## Features and Labels\n",
        "\n",
        "Features: These are the input variables that describe the characteristics of the data. They are also known as predictors or independent variables. Features are used by machine learning algorithms to make predictions or decisions.\n",
        "\n",
        "Labels: These are the output variables that we want to predict or classify. They are also known as targets or dependent variables."
      ],
      "metadata": {
        "id": "sWrpeN5jT8eE"
      }
    },
    {
      "cell_type": "markdown",
      "source": [
        "## Training and Testing Data\n",
        "\n",
        "To evaluate the performance of a machine learning model, the dataset is typically divided into training and testing sets. The training set is used to train the model, while the testing set is used to evaluate the model's performance.\n",
        "Common split ratios include 70/30, 80/20, or 90/10 for training/testing sets, depending on the size of the dataset."
      ],
      "metadata": {
        "id": "jdJRwEEWT8g_"
      }
    },
    {
      "cell_type": "markdown",
      "source": [
        "## Data Transformation"
      ],
      "metadata": {
        "id": "lQNTZbrgcd5Y"
      }
    },
    {
      "cell_type": "markdown",
      "source": [
        "**Data transformation** is an essential step in machine learning, as it involves preparing the dataset for model training by converting raw data into a suitable format. Some common data transformation techniques include creating dummy variables, scaling, and standardization.\n",
        "\n",
        "* Dummy Variables\n",
        "Dummy variables are binary (0 or 1) variables created to represent categorical data. They enable the conversion of categorical data into a format that can be used by machine learning algorithms."
      ],
      "metadata": {
        "id": "j96dr1odcfwi"
      }
    },
    {
      "cell_type": "code",
      "source": [
        "import pandas as pd\n",
        "\n",
        "# Sample dataset with a categorical feature\n",
        "data = {'Category': ['A', 'B', 'A', 'C', 'A', 'B']}\n",
        "df = pd.DataFrame(data)\n",
        "\n",
        "# Create dummy variables\n",
        "dummies = pd.get_dummies(df['Category'], prefix='Category')\n",
        "df = pd.concat([df, dummies], axis=1)\n",
        "df.drop('Category', axis=1, inplace=True)\n",
        "print(df)\n"
      ],
      "metadata": {
        "colab": {
          "base_uri": "https://localhost:8080/"
        },
        "id": "TxNt8DQacuNv",
        "outputId": "137650c6-d271-4479-fddb-b0b673ec5256"
      },
      "execution_count": 10,
      "outputs": [
        {
          "output_type": "stream",
          "name": "stdout",
          "text": [
            "   Category_A  Category_B  Category_C\n",
            "0           1           0           0\n",
            "1           0           1           0\n",
            "2           1           0           0\n",
            "3           0           0           1\n",
            "4           1           0           0\n",
            "5           0           1           0\n"
          ]
        }
      ]
    },
    {
      "cell_type": "markdown",
      "source": [
        "## Scaling\n",
        "\n",
        "Scaling adjusts the range of feature values to ensure that they are on the same scale, preventing features with larger ranges from dominating the model."
      ],
      "metadata": {
        "id": "NvQ8vXoAcyNB"
      }
    },
    {
      "cell_type": "code",
      "source": [
        "from sklearn.preprocessing import MinMaxScaler\n",
        "\n",
        "# Sample dataset with features in different ranges\n",
        "data = {'Feature1': [10, 20, 30, 40, 50], 'Feature2': [1000, 2000, 3000, 4000, 5000]}\n",
        "df = pd.DataFrame(data)\n",
        "\n",
        "# Apply Min-Max scaling\n",
        "scaler = MinMaxScaler()\n",
        "scaled_data = scaler.fit_transform(df)\n",
        "scaled_df = pd.DataFrame(scaled_data, columns=df.columns)\n",
        "print(scaled_df)\n"
      ],
      "metadata": {
        "colab": {
          "base_uri": "https://localhost:8080/"
        },
        "id": "BLRgKSwTcx4L",
        "outputId": "d4c0c363-363e-40c1-c050-2b92e5588156"
      },
      "execution_count": 11,
      "outputs": [
        {
          "output_type": "stream",
          "name": "stdout",
          "text": [
            "   Feature1  Feature2\n",
            "0      0.00      0.00\n",
            "1      0.25      0.25\n",
            "2      0.50      0.50\n",
            "3      0.75      0.75\n",
            "4      1.00      1.00\n"
          ]
        }
      ]
    },
    {
      "cell_type": "markdown",
      "source": [
        "# Standardization\n",
        "\n",
        "Standardization rescales features to have a mean of 0 and a standard deviation of 1, making it easier for the model to learn the relationships between features and the target variable."
      ],
      "metadata": {
        "id": "ReloDsuJdIuV"
      }
    },
    {
      "cell_type": "code",
      "source": [
        "from sklearn.preprocessing import StandardScaler\n",
        "\n",
        "# Sample dataset with features in different ranges\n",
        "data = {'Feature1': [10, 20, 30, 40, 50], 'Feature2': [1000, 2000, 3000, 4000, 5000]}\n",
        "df = pd.DataFrame(data)\n",
        "\n",
        "# Apply standardization\n",
        "scaler = StandardScaler()\n",
        "standardized_data = scaler.fit_transform(df)\n",
        "standardized_df = pd.DataFrame(standardized_data, columns=df.columns)\n",
        "print(standardized_df)\n"
      ],
      "metadata": {
        "colab": {
          "base_uri": "https://localhost:8080/"
        },
        "id": "8sjbhcARdL93",
        "outputId": "2d264eb0-1d2c-4444-c1a2-6a364d8da0c5"
      },
      "execution_count": 12,
      "outputs": [
        {
          "output_type": "stream",
          "name": "stdout",
          "text": [
            "   Feature1  Feature2\n",
            "0 -1.414214 -1.414214\n",
            "1 -0.707107 -0.707107\n",
            "2  0.000000  0.000000\n",
            "3  0.707107  0.707107\n",
            "4  1.414214  1.414214\n"
          ]
        }
      ]
    },
    {
      "cell_type": "markdown",
      "source": [
        "## When to Scale vs. Standardize:\n",
        "\n",
        "* Scaling and standardization serve different purposes, and the choice between them depends on the specific problem and the underlying assumptions of the machine learning algorithm being used.\n",
        "\n",
        "* Scaling: Scaling is useful when you want to transform the data into a specific range, usually [0, 1] or [-1, 1]. Scaling is suitable when the data has a skewed distribution, or when the maximum and minimum values are known and relevant. It is often used in deep learning when input features need to be in a specific range for activation functions (e.g., sigmoid or tanh).\n",
        "\n",
        "* Standardization: Standardization is more appropriate when the data follows a Gaussian (normal) distribution, or when the goal is to make the features' means equal to 0 and their standard deviations equal to 1. Standardization is less sensitive to outliers than scaling, and it is often preferred when working with algorithms that assume Gaussian-like input features, such as linear regression, logistic regression, and support vector machines.\n",
        "\n",
        "**Mathematics and Information Theory behind Scaling and Standardization:**\n",
        "\n",
        "Larger numbers and different scales can cause a model to behave differently due to the way certain machine learning algorithms are designed. Many algorithms calculate distances or similarities between data points, and the presence of features with different scales can lead to a few features dominating the model's decision-making process.\n",
        "\n",
        "For example, in k-Nearest Neighbors, the algorithm calculates the distance between data points to determine their similarity. If one feature has values in the range of [0, 1], while another has values in the range of [0, 1000], the latter feature will disproportionately affect the distance calculation, leading the model to prioritize it over the other features.\n",
        "\n",
        "In the context of information theory, each feature can be seen as a source of information that contributes to the model's decision-making process. When features have different scales, their information content is not equally represented in the model, causing some features to be more influential than others. Scaling and standardization help balance the information content of each feature, allowing the model to make better decisions based on the entire feature set.\n",
        "\n",
        "To understand why larger numbers and different scales can affect a model's behavior, let's look at the math behind scaling and standardization:\n",
        "\n",
        "\n",
        "**Scaling (Min-Max Scaling): The formula for Min-Max scaling is:**\n",
        "\n",
        "x_scaled = (x - min(x)) / (max(x) - min(x))\n",
        "\n",
        "* This formula rescales the data so that it falls within a specific range, usually [0, 1]. The transformation preserves the relative distances between data points but is sensitive to outliers, which can compress the rest of the data points in a small range.\n",
        "\n",
        "**Standardization (Z-score normalization): The formula for Z-score normalization is:**\n",
        "\n",
        "x_standardized = (x - mean(x)) / std_dev(x)\n",
        "\n",
        "* This formula rescales the data so that it has a mean of 0 and a standard deviation of 1. This transformation does not depend on the minimum and maximum values of the data, making it less sensitive to outliers. Standardization also makes it easier for the model to learn the relationships between features and the target variable since the features are on the same scale.\n",
        "\n",
        "\n",
        "\n",
        "By applying scaling or standardization, we ensure that all features contribute equally to the model's decision-making process, allowing it to make better predictions based on the entire feature set."
      ],
      "metadata": {
        "id": "jh_shAwsdNej"
      }
    },
    {
      "cell_type": "markdown",
      "source": [
        "# Model Evaluation Metrics"
      ],
      "metadata": {
        "id": "PGSfsjDJT8jv"
      }
    },
    {
      "cell_type": "markdown",
      "source": [
        "i. Classification Metrics\n",
        "- Accuracy: The proportion of correctly classified instances out of the total instances\n",
        "- Precision: The proportion of true positive instances out of the instances predicted as positive\n",
        "- Recall: The proportion of true positive instances out of the actual positive instances\n",
        "- F1-Score: The harmonic mean of precision and recall, giving equal importance to both"
      ],
      "metadata": {
        "id": "qicuyT9PT8mi"
      }
    },
    {
      "cell_type": "markdown",
      "source": [
        "ii. Regression Metrics\n",
        "- Mean Absolute Error (MAE): The average of the absolute differences between the predicted and actual values\n",
        "- Mean Squared Error (MSE): The average of the squared differences between the predicted and actual values\n",
        "- Root Mean Squared Error (RMSE): The square root of the mean squared error\n",
        "- R-squared (Coefficient of Determination): The proportion of the variance in the dependent variable that is predictable from the independent variables"
      ],
      "metadata": {
        "id": "cLPAcNeqUeFI"
      }
    },
    {
      "cell_type": "markdown",
      "source": [
        "## Bias-Variance Trade-Off"
      ],
      "metadata": {
        "id": "a_otedTtVWCK"
      }
    },
    {
      "cell_type": "markdown",
      "source": [
        "**Bias**: Bias refers to the error introduced by approximating a real-world problem with a simplified model. High bias can cause an algorithm to miss relevant relationships between features and target outputs, leading to underfitting.\n",
        "\n",
        "**Variance**: Variance refers to the error introduced by the model's sensitivity to small fluctuations in the training data. High variance can cause an algorithm to model the noise in the data, leading to overfitting.\n",
        "\n",
        "**The bias-variance trade-off**  is an important concept in machine learning, as it highlights the challenge of finding the right balance between model complexity and generalization.\n",
        "\n",
        "**Overfitting** occurs when a model is too complex and fits the noise in the training data, resulting in poor performance on new, unseen data.\n",
        "\n",
        "**Underfitting** occurs when a model is too simple and cannot capture the underlying patterns in the data, resulting in poor performance on both the training and testing data."
      ],
      "metadata": {
        "id": "5DmO1uoHVYM1"
      }
    },
    {
      "cell_type": "markdown",
      "source": [
        "## Strategies to address the bias-variance trade-off:\n",
        "\n",
        "**Cross-validation:** Using cross-validation, such as k-fold cross-validation, helps estimate the model's performance on unseen data and can help in selecting the best model.\n",
        "\n",
        "**Regularization:** Applying regularization techniques, such as L1 or L2 regularization, can prevent overfitting by penalizing overly complex models.\n",
        "\n",
        "**Ensemble methods:** Combining the predictions of multiple models, such as bagging or boosting, can help in balancing the bias-variance trade-off.\n",
        "\n",
        "**Feature selection:** Selecting a subset of the most relevant features can help in reducing model complexity and improving generalization."
      ],
      "metadata": {
        "id": "qiIFH7clVvKu"
      }
    },
    {
      "cell_type": "markdown",
      "source": [
        "# Curse of Dimensionality"
      ],
      "metadata": {
        "id": "tr_cBRPqW3mY"
      }
    },
    {
      "cell_type": "markdown",
      "source": [
        "**The curse of dimensionality** refers to the challenges and issues that arise when working with high-dimensional data. As the number of features (dimensions) increases, the complexity of the model grows, and the amount of data required to achieve a certain level of performance increases exponentially.\n",
        "\n",
        "High-dimensional data can lead to the following issues:\n",
        "\n",
        "**Overfitting**: With a large number of features, models may become overly complex and capture noise in the data, leading to overfitting.\n",
        "\n",
        "**Increased computational complexity:** More features require more computational resources and time to train and evaluate models.\n",
        "\n",
        "**Diminishing returns:** Adding more features may not lead to a significant improvement in model performance, especially if the new features are redundant or irrelevant.\n",
        "\n",
        "**Decreased interpretability:** Models with many features can be difficult to interpret and understand."
      ],
      "metadata": {
        "id": "-_uWlrsgW5L9"
      }
    },
    {
      "cell_type": "markdown",
      "source": [
        "Strategies to address the curse of dimensionality:\n",
        "\n",
        "* **Feature selection**: Selecting a subset of the most relevant features can help in reducing model complexity and improving generalization.\n",
        "\n",
        "* **Dimensionality reduction**: Techniques like Principal Component Analysis (PCA) can be used to reduce the number of dimensions while preserving the most important information in the data."
      ],
      "metadata": {
        "id": "WLKRnHNZXKu_"
      }
    },
    {
      "cell_type": "code",
      "source": [
        "import numpy as np\n",
        "import matplotlib.pyplot as plt\n",
        "\n",
        "# Generate random data points in various dimensions\n",
        "dimensions = [1, 2, 3, 10, 50, 100, 200]\n",
        "sample_size = 1000\n",
        "\n",
        "fig, axes = plt.subplots(1, len(dimensions), figsize=(20, 3))\n",
        "for i, dim in enumerate(dimensions):\n",
        "    data = np.random.rand(sample_size, dim)\n",
        "    distances = np.linalg.norm(data[:, np.newaxis] - data, axis=2)\n",
        "    mean_distance = np.mean(distances)\n",
        "    axes[i].hist(distances.flatten(), bins=30)\n",
        "    axes[i].set_title(f'Dim: {dim}, Mean Dist: {mean_distance:.2f}')\n",
        "    axes[i].set_xlabel('Distances')\n",
        "    axes[i].set_ylabel('Frequency')\n",
        "\n",
        "plt.tight_layout()\n",
        "plt.show()\n"
      ],
      "metadata": {
        "colab": {
          "base_uri": "https://localhost:8080/",
          "height": 327
        },
        "id": "MXvDY2L5XZz3",
        "outputId": "c8146038-483a-441a-99e7-fd1a7ecfdf92"
      },
      "execution_count": 1,
      "outputs": [
        {
          "output_type": "display_data",
          "data": {
            "text/plain": [
              "<Figure size 2000x300 with 7 Axes>"
            ],
            "image/png": "[encoded data removed]"
          },
          "metadata": {}
        }
      ]
    },
    {
      "cell_type": "markdown",
      "source": [
        "This code snippet generates random data points in various dimensions and calculates the Euclidean distances between them. The histograms show that as the number of dimensions increases, the distances between data points become more similar, leading to difficulties in distinguishing and classifying them.\n",
        "\n"
      ],
      "metadata": {
        "id": "_AUpw0Z5XdMY"
      }
    },
    {
      "cell_type": "markdown",
      "source": [
        " ## Model Improvement Algorithms"
      ],
      "metadata": {
        "id": "_g71s0VwU2GR"
      }
    },
    {
      "cell_type": "markdown",
      "source": [
        "i. Bagging (Bootstrap Aggregating)\n",
        "- Use: Reducing overfitting and improving the stability of machine learning models, particularly decision trees\n",
        "- Method: Creating multiple models by training on different subsets of the training data, generated by sampling with replacement, and averaging their predictions for the final output\n",
        "- Example: Random Forest"
      ],
      "metadata": {
        "id": "iYZFMPRzU4D5"
      }
    },
    {
      "cell_type": "markdown",
      "source": [
        "ii. Boosting\n",
        "- Use: Improving the accuracy of weak learners by combining their predictions in a weighted manner\n",
        "- Method: Training multiple models sequentially, with each new model focusing on correcting the errors made by the previous one\n",
        "- Example: AdaBoost, Gradient Boosting, XGBoost"
      ],
      "metadata": {
        "id": "Psi4xJ46U9Zh"
      }
    },
    {
      "cell_type": "markdown",
      "source": [
        "iii. Regularization\n",
        "- Use: Reducing overfitting by adding a penalty term to the loss function, discouraging overly complex models\n",
        "- Method: Introducing a penalty term in the loss function, such as L1 (Lasso) or L2 (Ridge) regularization, which penalizes large model coefficients\n",
        "- Example: Lasso Regression, Ridge Regression, Elastic Net"
      ],
      "metadata": {
        "id": "RHFDBIX5VCjN"
      }
    },
    {
      "cell_type": "markdown",
      "source": [
        "# Scikit-learn Deep Dive"
      ],
      "metadata": {
        "id": "mI_6FVW1YMEC"
      }
    },
    {
      "cell_type": "markdown",
      "source": [
        "## Overview\n",
        "\n",
        "Scikit-learn is an open-source Python library for machine learning, providing a wide range of tools for data preprocessing, model training, and evaluation.\n",
        "The library is built on top of NumPy, SciPy, and matplotlib, and its design principles emphasize simplicity, reusability, and efficiency."
      ],
      "metadata": {
        "id": "lJ6SaApHYNyW"
      }
    },
    {
      "cell_type": "markdown",
      "source": [
        "## Main Components\n",
        "* Datasets: Scikit-learn provides built-in datasets for common machine learning tasks, such as classification and regression, making it easy to get started with the library.\n",
        "\n",
        "* Preprocessing: Scikit-learn offers various tools for data preprocessing, such as scaling, normalization, encoding categorical variables, and imputation of missing values.\n",
        "\n",
        "* Model Selection: The library includes a wide variety of machine learning algorithms for supervised, unsupervised, and reinforcement learning tasks.\n",
        "\n",
        "* Metrics: Scikit-learn provides a range of evaluation metrics to measure the performance of machine learning models, such as accuracy, precision, recall, F1-score, and various regression metrics."
      ],
      "metadata": {
        "id": "RDlDeTVfYTVF"
      }
    },
    {
      "cell_type": "markdown",
      "source": [
        "# Working with Scikit-learn\n",
        "* Estimators: Scikit-learn's API is built around the concept of estimators, which are objects that implement the methods fit(X, y) and predict(X). Estimators can be classifiers, regressors, or transformers, depending on the task they perform.\n",
        "\n",
        "* Pipelines: Scikit-learn's pipelines make it easy to chain together multiple steps of a machine learning workflow, such as preprocessing and model training, into a single object.\n",
        "\n",
        "* Model Persistence: Scikit-learn provides functionality to save and load trained models using Python's built-in **pickle** module or the **joblib** library."
      ],
      "metadata": {
        "id": "xD2ZIVXVYh-u"
      }
    },
    {
      "cell_type": "markdown",
      "source": [
        "# Practical Application: Scikit-learn in Action"
      ],
      "metadata": {
        "id": "ScBWCrzKapSm"
      }
    },
    {
      "cell_type": "markdown",
      "source": [
        "## Load the Wine dataset"
      ],
      "metadata": {
        "id": "zfZKNmQ0arAe"
      }
    },
    {
      "cell_type": "code",
      "execution_count": 2,
      "metadata": {
        "id": "tAFrlagON8oD"
      },
      "outputs": [],
      "source": [
        "from sklearn.datasets import load_wine\n",
        "\n",
        "# Load the Wine dataset\n",
        "wine = load_wine()\n",
        "X = wine.data\n",
        "y = wine.target\n"
      ]
    },
    {
      "cell_type": "code",
      "source": [
        "from sklearn.model_selection import train_test_split\n",
        "\n",
        "# Split the data into training and testing sets\n",
        "X_train, X_test, y_train, y_test = train_test_split(X, y, test_size=0.3, random_state=42)\n"
      ],
      "metadata": {
        "id": "Gq3FXo2Mawxa"
      },
      "execution_count": 3,
      "outputs": []
    },
    {
      "cell_type": "code",
      "source": [
        "from sklearn.preprocessing import StandardScaler\n",
        "\n",
        "# Data preprocessing: standardize the features\n",
        "scaler = StandardScaler()\n",
        "X_train_scaled = scaler.fit_transform(X_train)\n",
        "X_test_scaled = scaler.transform(X_test)\n"
      ],
      "metadata": {
        "id": "JIdHCW8Ta15x"
      },
      "execution_count": 4,
      "outputs": []
    },
    {
      "cell_type": "code",
      "source": [
        "from sklearn.svm import SVC\n",
        "\n",
        "# Train a Support Vector Machine classifier\n",
        "clf = SVC(kernel='linear', C=1)\n",
        "clf.fit(X_train_scaled, y_train)\n"
      ],
      "metadata": {
        "colab": {
          "base_uri": "https://localhost:8080/",
          "height": 74
        },
        "id": "xRQspsaJa33b",
        "outputId": "3170c4a0-d32f-4b83-fd57-582a78d4da69"
      },
      "execution_count": 5,
      "outputs": [
        {
          "output_type": "execute_result",
          "data": {
            "text/plain": [
              "SVC(C=1, kernel='linear')"
            ],
            "text/html": [
              "<style>#sk-container-id-1 {color: black;background-color: white;}#sk-container-id-1 pre{padding: 0;}#sk-container-id-1 div.sk-toggleable {background-color: white;}#sk-container-id-1 label.sk-toggleable__label {cursor: pointer;display: block;width: 100%;margin-bottom: 0;padding: 0.3em;box-sizing: border-box;text-align: center;}#sk-container-id-1 label.sk-toggleable__label-arrow:before {content: \"▸\";float: left;margin-right: 0.25em;color: #696969;}#sk-container-id-1 label.sk-toggleable__label-arrow:hover:before {color: black;}#sk-container-id-1 div.sk-estimator:hover label.sk-toggleable__label-arrow:before {color: black;}#sk-container-id-1 div.sk-toggleable__content {max-height: 0;max-width: 0;overflow: hidden;text-align: left;background-color: #f0f8ff;}#sk-container-id-1 div.sk-toggleable__content pre {margin: 0.2em;color: black;border-radius: 0.25em;background-color: #f0f8ff;}#sk-container-id-1 input.sk-toggleable__control:checked~div.sk-toggleable__content {max-height: 200px;max-width: 100%;overflow: auto;}#sk-container-id-1 input.sk-toggleable__control:checked~label.sk-toggleable__label-arrow:before {content: \"▾\";}#sk-container-id-1 div.sk-estimator input.sk-toggleable__control:checked~label.sk-toggleable__label {background-color: #d4ebff;}#sk-container-id-1 div.sk-label input.sk-toggleable__control:checked~label.sk-toggleable__label {background-color: #d4ebff;}#sk-container-id-1 input.sk-hidden--visually {border: 0;clip: rect(1px 1px 1px 1px);clip: rect(1px, 1px, 1px, 1px);height: 1px;margin: -1px;overflow: hidden;padding: 0;position: absolute;width: 1px;}#sk-container-id-1 div.sk-estimator {font-family: monospace;background-color: #f0f8ff;border: 1px dotted black;border-radius: 0.25em;box-sizing: border-box;margin-bottom: 0.5em;}#sk-container-id-1 div.sk-estimator:hover {background-color: #d4ebff;}#sk-container-id-1 div.sk-parallel-item::after {content: \"\";width: 100%;border-bottom: 1px solid gray;flex-grow: 1;}#sk-container-id-1 div.sk-label:hover label.sk-toggleable__label {background-color: #d4ebff;}#sk-container-id-1 div.sk-serial::before {content: \"\";position: absolute;border-left: 1px solid gray;box-sizing: border-box;top: 0;bottom: 0;left: 50%;z-index: 0;}#sk-container-id-1 div.sk-serial {display: flex;flex-direction: column;align-items: center;background-color: white;padding-right: 0.2em;padding-left: 0.2em;position: relative;}#sk-container-id-1 div.sk-item {position: relative;z-index: 1;}#sk-container-id-1 div.sk-parallel {display: flex;align-items: stretch;justify-content: center;background-color: white;position: relative;}#sk-container-id-1 div.sk-item::before, #sk-container-id-1 div.sk-parallel-item::before {content: \"\";position: absolute;border-left: 1px solid gray;box-sizing: border-box;top: 0;bottom: 0;left: 50%;z-index: -1;}#sk-container-id-1 div.sk-parallel-item {display: flex;flex-direction: column;z-index: 1;position: relative;background-color: white;}#sk-container-id-1 div.sk-parallel-item:first-child::after {align-self: flex-end;width: 50%;}#sk-container-id-1 div.sk-parallel-item:last-child::after {align-self: flex-start;width: 50%;}#sk-container-id-1 div.sk-parallel-item:only-child::after {width: 0;}#sk-container-id-1 div.sk-dashed-wrapped {border: 1px dashed gray;margin: 0 0.4em 0.5em 0.4em;box-sizing: border-box;padding-bottom: 0.4em;background-color: white;}#sk-container-id-1 div.sk-label label {font-family: monospace;font-weight: bold;display: inline-block;line-height: 1.2em;}#sk-container-id-1 div.sk-label-container {text-align: center;}#sk-container-id-1 div.sk-container {/* jupyter's `normalize.less` sets `[hidden] { display: none; }` but bootstrap.min.css set `[hidden] { display: none !important; }` so we also need the `!important` here to be able to override the default hidden behavior on the sphinx rendered scikit-learn.org. See: https://github.com/scikit-learn/scikit-learn/issues/21755 */display: inline-block !important;position: relative;}#sk-container-id-1 div.sk-text-repr-fallback {display: none;}</style><div id=\"sk-container-id-1\" class=\"sk-top-container\"><div class=\"sk-text-repr-fallback\"><pre>SVC(C=1, kernel=&#x27;linear&#x27;)</pre><b>In a Jupyter environment, please rerun this cell to show the HTML representation or trust the notebook. <br />On GitHub, the HTML representation is unable to render, please try loading this page with nbviewer.org.</b></div><div class=\"sk-container\" hidden><div class=\"sk-item\"><div class=\"sk-estimator sk-toggleable\"><input class=\"sk-toggleable__control sk-hidden--visually\" id=\"sk-estimator-id-1\" type=\"checkbox\" checked><label for=\"sk-estimator-id-1\" class=\"sk-toggleable__label sk-toggleable__label-arrow\">SVC</label><div class=\"sk-toggleable__content\"><pre>SVC(C=1, kernel=&#x27;linear&#x27;)</pre></div></div></div></div></div>"
            ]
          },
          "metadata": {},
          "execution_count": 5
        }
      ]
    },
    {
      "cell_type": "code",
      "source": [
        "# Make predictions on the test set\n",
        "y_pred = clf.predict(X_test_scaled)\n"
      ],
      "metadata": {
        "id": "tTokJxxza7ry"
      },
      "execution_count": 6,
      "outputs": []
    },
    {
      "cell_type": "code",
      "source": [
        "from sklearn.metrics import classification_report, confusion_matrix\n",
        "\n",
        "# Evaluate the model performance\n",
        "print(\"Confusion Matrix:\")\n",
        "print(confusion_matrix(y_test, y_pred))\n",
        "print(\"\\nClassification Report:\")\n",
        "print(classification_report(y_test, y_pred))\n"
      ],
      "metadata": {
        "colab": {
          "base_uri": "https://localhost:8080/"
        },
        "id": "uNxDMelHa9h1",
        "outputId": "5bf8c471-541a-4ded-b3ed-7ea234a3135c"
      },
      "execution_count": 7,
      "outputs": [
        {
          "output_type": "stream",
          "name": "stdout",
          "text": [
            "Confusion Matrix:\n",
            "[[19  0  0]\n",
            " [ 0 20  1]\n",
            " [ 0  0 14]]\n",
            "\n",
            "Classification Report:\n",
            "              precision    recall  f1-score   support\n",
            "\n",
            "           0       1.00      1.00      1.00        19\n",
            "           1       1.00      0.95      0.98        21\n",
            "           2       0.93      1.00      0.97        14\n",
            "\n",
            "    accuracy                           0.98        54\n",
            "   macro avg       0.98      0.98      0.98        54\n",
            "weighted avg       0.98      0.98      0.98        54\n",
            "\n"
          ]
        }
      ]
    },
    {
      "cell_type": "markdown",
      "source": [
        "The confusion matrix is a table that displays the number of correct and incorrect predictions made by a classification model. The rows represent the true classes, and the columns represent the predicted classes. The diagonal elements show the number of correct predictions for each class, while the off-diagonal elements represent the incorrect predictions.\n",
        "\n",
        "To make the confusion matrix more visually appealing and interpretable, we can use seaborn's heatmap function to create a heatmap with annotations.\n",
        "\n"
      ],
      "metadata": {
        "id": "_whmHLDBbTag"
      }
    },
    {
      "cell_type": "code",
      "source": [
        "import seaborn as sns\n",
        "import pandas as pd\n",
        "\n",
        "# Create a confusion matrix and store it in a DataFrame\n",
        "cm = confusion_matrix(y_test, y_pred)\n",
        "cm_df = pd.DataFrame(cm, index=wine.target_names, columns=wine.target_names)\n",
        "\n",
        "# Plot the confusion matrix as a heatmap\n",
        "plt.figure(figsize=(8, 6))\n",
        "sns.set(font_scale=1.2)\n",
        "sns.heatmap(cm_df, annot=True, fmt='g', cmap='Blues', cbar=False)\n",
        "plt.title('Confusion Matrix')\n",
        "plt.xlabel('Predicted Class')\n",
        "plt.ylabel('True Class')\n",
        "plt.show()\n"
      ],
      "metadata": {
        "colab": {
          "base_uri": "https://localhost:8080/",
          "height": 578
        },
        "id": "0-r-z37WbWcg",
        "outputId": "fe933558-70f5-4d55-c77d-bc5c30e9d6a9"
      },
      "execution_count": 9,
      "outputs": [
        {
          "output_type": "display_data",
          "data": {
            "text/plain": [
              "<Figure size 800x600 with 1 Axes>"
            ],
            "image/png": "[encoded data removed]"
          },
          "metadata": {}
        }
      ]
    },
    {
      "cell_type": "markdown",
      "source": [
        "In this heatmap:\n",
        "\n",
        "The diagonal elements (from the top-left to the bottom-right) represent the number of correct predictions for each class.\n",
        "The off-diagonal elements represent the number of incorrect predictions.\n",
        "To interpret the confusion matrix, compare the predicted class (column) to the true class (row) for each cell. For example, suppose we have the following confusion matrix:"
      ],
      "metadata": {
        "id": "57Em-HHMbeDp"
      }
    },
    {
      "cell_type": "markdown",
      "source": [
        "This means:\n",
        "\n",
        "17 samples from class_0 were correctly predicted as class_0, and 1 sample from class_0 was incorrectly predicted as class_1.\n",
        "\n",
        "20 samples from class_1 were correctly predicted as class_1, and 1 sample from class_1 was incorrectly predicted as class_2.\n",
        "\n",
        "15 samples from class_2 were correctly predicted as class_2, and there were no incorrect predictions for class_2.\n",
        "\n",
        "The more correct predictions a model makes, the more the diagonal elements will be populated, and the off-diagonal elements will be empty or have low values."
      ],
      "metadata": {
        "id": "pU9mylQnbrnO"
      }
    }
  ]
}